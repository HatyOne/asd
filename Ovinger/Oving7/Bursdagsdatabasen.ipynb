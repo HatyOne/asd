{
 "cells": [
  {
   "cell_type": "markdown",
   "source": [
    "<nav class=\"navbar navbar-default\">\n",
    "  <div class=\"container-fluid\">\n",
    "    <div class=\"navbar-header\">\n",
    "      <a class=\"navbar-brand\" href=\"_Oving7.ipynb\">Øving 7</a>\n",
    "    </div>\n",
    "    <ul class=\"nav navbar-nav\">\n",
    "    <li ><a href=\"Generelt%20om%20dictionary.ipynb\">Generelt om dictionary</a></li>\n",
    "    <li ><a href=\"Innebygde%20funksjoner%20i%20dictionaries.ipynb\">Innebygde funksjoner</a></li>\n",
    "    <li ><a href=\"Generelt%20om%20sets.ipynb\">Generelt om sets</a></li>\n",
    "    <li ><a href=\"Generelt%20om%20filbehandling.ipynb\">Generelt om filbehandling</a></li>\n",
    "    <li ><a href=\"Osteviruset.ipynb\">Osteviruset</a></li>\n",
    "    <li class=\"active\"><a href=\"Bursdagsdatabasen.ipynb\">Bursdagsdatabasen</a></li>\n",
    "    <li ><a href=\"Tallak%20teller%20antall%20tall.ipynb\">Tallak teller antall tall</a></li>\n",
    "    <li ><a href=\"Opptaksgrenser.ipynb\">Opptaksgrenser</a></li>\n",
    "        <li ><a href=\"Soke%20i%20tekst.ipynb\">Søke i tekst</a></li>\n",
    "    <li ><a href=\"Tre%20paa%20rad.ipynb\">Tre på rad</a></li>\n",
    "    </ul>\n",
    "  </div>\n",
    "</nav>\n",
    "\n",
    "# Bursdagsdatabasen\n",
    "\n",
    "**Læringsmål:**\n",
    "\n",
    "* Dictionaries\n",
    "* Exceptions\n",
    "\n",
    "**Starting Out with Python:**\n",
    "\n",
    "* Kap. 9.1 Dictionaries\n",
    "* Kap. 6.8 Exceptions\n",
    "\n",
    "I denne oppgaven skal du lage en metode for å oppdatere en dictionary (**birthdays**) bestående av datoer og navn. Dette må du gjøre ved å benytte deg av unntakshåndtering(exceptions). \n",
    "\n",
    "Vemund, som er en smule glemsk når det gjelder bursdager, ønsker å lage en stor database med bursdagene til alle vennene sine.\n",
    "\n",
    "For å skaffe seg et godt utgangspunkt har han etterspurt og fått tilsendt følgende database (i form av en python-dictionary) fra IDIs seksjon for “data and information management”, som har det statlige ansvaret for lagring av bursdager.\n"
   ],
   "metadata": {
    "deletable": false,
    "editable": false,
    "run_control": {
     "frozen": true
    }
   }
  },
  {
   "cell_type": "code",
   "execution_count": null,
   "source": [
    "birthdays = {\n",
    "\"22 nov\": [\"Bob Bernt\", \"Mathias\"],\n",
    "\"20 mar\": \"Simen\",\n",
    "\"31 okt\": [\"Aragusta\", \"Carina\"],\n",
    "\"12 jan\": \"Silje\",\n",
    "\"3 sep\": \"Tobias\",\n",
    "\"5 jul\": [\"Martin\", \"Øystein\"],\n",
    "\"11 mar\": \"Miriam\"\n",
    "}"
   ],
   "outputs": [],
   "metadata": {
    "ExecuteTime": {
     "end_time": "2019-07-04T12:33:55.686271Z",
     "start_time": "2019-07-04T12:33:55.679293Z"
    }
   }
  },
  {
   "cell_type": "markdown",
   "source": [
    "Databasen består av datonøkler(**string**) som peker til enten et navn(**string**) eller en **liste** med navn til personer som har bursdag den datoen.\n",
    "\n",
    "Dessverre er ikke denne databasen særlig komplett, så Vemund ønsker å legge til nye bursdager etter hvert som han får nye venner.\n",
    "\n",
    "Han har laget følgende funksjon for å gjøre dette:"
   ],
   "metadata": {
    "deletable": false,
    "editable": false,
    "run_control": {
     "frozen": true
    }
   }
  },
  {
   "cell_type": "code",
   "execution_count": null,
   "source": [
    "def add_birthday_to_date(date, name):\n",
    "    birthdays[date].append(name)"
   ],
   "outputs": [],
   "metadata": {
    "ExecuteTime": {
     "end_time": "2019-07-04T10:42:26.589892Z",
     "start_time": "2019-07-04T10:42:26.583644Z"
    }
   }
  },
  {
   "cell_type": "markdown",
   "source": [
    "Som f.eks. kan kalles slik:"
   ],
   "metadata": {
    "deletable": false,
    "editable": false,
    "run_control": {
     "frozen": true
    }
   }
  },
  {
   "cell_type": "code",
   "execution_count": null,
   "source": [
    "add_birthday_to_date(\"31 okt\", \"Gunnar\")"
   ],
   "outputs": [],
   "metadata": {
    "ExecuteTime": {
     "end_time": "2019-07-04T10:42:30.769632Z",
     "start_time": "2019-07-04T10:42:30.765186Z"
    }
   }
  },
  {
   "cell_type": "markdown",
   "source": [
    "Vemund møter derimot på et problem når han prøver å legge til et bursdagsbarn på datoer som ikke finnes, eller bare har ett bursdagsbarn fra før.\n",
    "\n",
    "Istedet for at funksjonen gjør som den skal, grynter den og spytter tilbake to forskjellige exceptions (unntak) til Vemund. Prøv å kjør kodesnuttene selv, og se hva som skjer. Husk å kjør kodesnuttene som definerer databasen og funksjonen først."
   ],
   "metadata": {
    "deletable": false,
    "editable": false,
    "run_control": {
     "frozen": true
    }
   }
  },
  {
   "cell_type": "code",
   "execution_count": null,
   "source": [
    "add_birthday_to_date (\"12 jan\", \"Sindre\")"
   ],
   "outputs": [],
   "metadata": {
    "ExecuteTime": {
     "end_time": "2019-07-04T10:42:33.057791Z",
     "start_time": "2019-07-04T10:42:33.040309Z"
    }
   }
  },
  {
   "cell_type": "code",
   "execution_count": null,
   "source": [
    "add_birthday_to_date (\"9 feb\", \"Lillian\")"
   ],
   "outputs": [],
   "metadata": {
    "ExecuteTime": {
     "end_time": "2019-07-04T10:42:52.219179Z",
     "start_time": "2019-07-04T10:42:52.202385Z"
    }
   }
  },
  {
   "cell_type": "markdown",
   "source": [
    "Den første feilen kommer av at verdien tilsvarende nøkkelen “12 jan” ikke er en liste, men en enkel streng.\n",
    "\n",
    "Den andre feilen kommer av at nøkkelen “9 feb” ikke finnes i databasen.\n",
    "\n",
    "Vemund ønsker at funksjonen tar hensyn til disse grensetilfellene.\n",
    "\n",
    "**Oppgave:** Løs disse problemene ved hjelp av Python sin støtte for unntakshåndtering der du benytter setningene try og except."
   ],
   "metadata": {
    "deletable": false,
    "editable": false,
    "run_control": {
     "frozen": true
    }
   }
  },
  {
   "cell_type": "markdown",
   "source": [
    "### Generelt om exceptions"
   ],
   "metadata": {
    "deletable": false,
    "editable": false,
    "heading_collapsed": true,
    "run_control": {
     "frozen": true
    }
   }
  },
  {
   "cell_type": "markdown",
   "source": [
    "Dersom du ønsker å spørre brukeren om å skrive inn et heltall, kan det være ønskelig å lage variabelen slik: a = int(input(\"Skriv et tall: \")), men dette kan misforstås av brukeren. Brukeren svarer kanskje \"fjorten\", altså 14 skrevet med bokstaver. Ettersom du har brukt int() i variabelen a slik at brukerens input skal bli konvertert til et heltall, vil det komme en feilmelding. Prøv å skrive et tall med tekst i eksempelt under."
   ],
   "metadata": {
    "deletable": false,
    "editable": false,
    "hidden": true,
    "run_control": {
     "frozen": true
    }
   }
  },
  {
   "cell_type": "code",
   "execution_count": null,
   "source": [
    "a = int(input(\"Skriv et tall:\"))"
   ],
   "outputs": [],
   "metadata": {
    "ExecuteTime": {
     "end_time": "2019-07-04T10:44:40.501984Z",
     "start_time": "2019-07-04T10:44:37.991989Z"
    },
    "hidden": true
   }
  },
  {
   "cell_type": "markdown",
   "source": [
    "Eller la oss si at du ønsker å ta inn to tall og dele det første tallet på det andre tallet. Dersom det andre tallet er null vil du også få en feilmelding. Prøv selv under."
   ],
   "metadata": {
    "deletable": false,
    "editable": false,
    "hidden": true,
    "run_control": {
     "frozen": true
    }
   }
  },
  {
   "cell_type": "code",
   "execution_count": null,
   "source": [
    "a=10\n",
    "b=int(input(\"Skriv et tall:\"))\n",
    "print(a/b)"
   ],
   "outputs": [],
   "metadata": {
    "hidden": true
   }
  },
  {
   "cell_type": "markdown",
   "source": [
    "En elegant metode å håndtere disse feilmeldingene på er ved å bruke try og exceptions. Det kan minne en del om if/else bare at try/except kan håndtere flere ting og du trenger ikke å spesifisere noen betingelse. Alt du ønsker å utføre i koden skal skrives under try. except kjøres kun dersom noe går galt under try."
   ],
   "metadata": {
    "deletable": false,
    "editable": false,
    "hidden": true,
    "run_control": {
     "frozen": true
    }
   }
  },
  {
   "cell_type": "code",
   "execution_count": null,
   "source": [
    "try:\n",
    "    a = int(input('Skriv et tall: '))\n",
    "    b = int(input('Skriv et tall: '))\n",
    "    print(a/b)\n",
    "except:\n",
    "    print('Noe har gått galt! Har du husket at det er umulig å dele på null'\n",
    "          'eller at du skulle skrive inn et heltall her?')"
   ],
   "outputs": [],
   "metadata": {
    "hidden": true
   }
  },
  {
   "cell_type": "markdown",
   "source": [
    "Dersom brukeren skriver inn noe annet enn et heltall eller skriver at det andre tallet er null, blir det under except printet. Denne feilmeldingen kan være litt forvirrende for brukeren ettersom han eller hun ikke vet hva som gikk galt. Var det at det ble delt på null eller at noe annet enn et heltall ble skrevet inn? For å gjøre det klarere kan man dele inn except i ulike punkter som håndterer ulike feil. Som man kan se i det første bildet over kom det en feilmelding kalt \"ValueError\", og på bildet under kom det en feilmelding kalt \"ZeroDivisionError\", la oss bruke disse:"
   ],
   "metadata": {
    "deletable": false,
    "editable": false,
    "hidden": true,
    "run_control": {
     "frozen": true
    }
   }
  },
  {
   "cell_type": "code",
   "execution_count": null,
   "source": [
    "try:\n",
    "    a = int(input('Skriv et tall: '))\n",
    "    b = int(input('Skriv et tall: '))\n",
    "    print(a/b)\n",
    "except ValueError:\n",
    "    print('Husket du å skrive inn et heltall her?')\n",
    "except ZeroDivisionError:\n",
    "    print(\"Husk at du ikke kan dele på null\")"
   ],
   "outputs": [],
   "metadata": {
    "hidden": true
   }
  },
  {
   "cell_type": "markdown",
   "source": [
    "Nå vil brukeren få en mer forklarende feilmeldinger. Prøv selv!"
   ],
   "metadata": {
    "ExecuteTime": {
     "end_time": "2019-07-04T10:49:02.515720Z",
     "start_time": "2019-07-04T10:49:02.505229Z"
    },
    "deletable": false,
    "editable": false,
    "hidden": true,
    "run_control": {
     "frozen": true
    }
   }
  },
  {
   "cell_type": "markdown",
   "source": [
    "### a)"
   ],
   "metadata": {
    "deletable": false,
    "editable": false,
    "run_control": {
     "frozen": true
    }
   }
  },
  {
   "cell_type": "markdown",
   "source": [
    "Legg til funksjonalitet til funksjonen `add_birthday_to_date(date, name)` slik at det opprettes en liste med flere personer, dersom flere har bursdag på samme dag. **Du kan fortsette på funksjonen skrevet over i oppgaven.**"
   ],
   "metadata": {
    "deletable": false,
    "editable": false,
    "run_control": {
     "frozen": true
    }
   }
  },
  {
   "cell_type": "markdown",
   "source": [
    "#### Hint"
   ],
   "metadata": {
    "deletable": false,
    "editable": false,
    "heading_collapsed": true,
    "run_control": {
     "frozen": true
    }
   }
  },
  {
   "cell_type": "markdown",
   "source": [
    "Dette hindrer en AttributeError."
   ],
   "metadata": {
    "deletable": false,
    "editable": false,
    "hidden": true,
    "run_control": {
     "frozen": true
    }
   }
  },
  {
   "cell_type": "markdown",
   "source": [
    "### b)"
   ],
   "metadata": {
    "deletable": false,
    "editable": false,
    "run_control": {
     "frozen": true
    }
   }
  },
  {
   "cell_type": "markdown",
   "source": [
    "Legg til funksjonalitet til funksjonen `add_birthday_to_date(date, name)` slik at det er mulig å legge til nye bursdager på nye datoer i dictionarien. **Du kan fortsette på funksjonen skrevet over i oppgaven.**"
   ],
   "metadata": {
    "deletable": false,
    "editable": false,
    "run_control": {
     "frozen": true
    }
   }
  },
  {
   "cell_type": "markdown",
   "source": [
    "#### Hint"
   ],
   "metadata": {
    "deletable": false,
    "editable": false,
    "heading_collapsed": true,
    "run_control": {
     "frozen": true
    }
   }
  },
  {
   "cell_type": "markdown",
   "source": [
    "Dette hindrer en KeyError."
   ],
   "metadata": {
    "ExecuteTime": {
     "end_time": "2019-07-04T10:57:57.995986Z",
     "start_time": "2019-07-04T10:57:57.987398Z"
    },
    "deletable": false,
    "editable": false,
    "hidden": true,
    "run_control": {
     "frozen": true
    }
   }
  },
  {
   "cell_type": "markdown",
   "source": [
    "### Testkode:"
   ],
   "metadata": {
    "deletable": false,
    "editable": false,
    "run_control": {
     "frozen": true
    }
   }
  },
  {
   "cell_type": "markdown",
   "source": [
    "Du kan teste at unntakshåndteringen fungerer ved å kjøre de samme to grensetilfellene som tidligere:"
   ],
   "metadata": {
    "deletable": false,
    "editable": false,
    "run_control": {
     "frozen": true
    }
   }
  },
  {
   "cell_type": "code",
   "execution_count": null,
   "source": [
    "add_birthday_to_date(\"12 jan\", \"Sindre\")\n",
    "add_birthday_to_date(\"9 feb\", \"Lillian\")"
   ],
   "outputs": [],
   "metadata": {}
  },
  {
   "cell_type": "markdown",
   "source": [
    "Dette skal nå oppdatere databasen uten feilmeldinger. \n",
    "\n",
    "Utskrift av birthdays etter kjøring av \"Testkode\" skal gi:\n",
    "\n",
    "```python\n",
    "{'22 nov': ['Bob Bernt', 'Mathias'], '20 mar': 'Simen, '31 okt': ['Aragusta', 'Carina'], '12 jan': ['Silje', 'Sindre'], '3 sep': 'Tobias', '5 jul': ['Martin', 'Øystein'], '11 mar': 'Miriam', '9 feb': 'Lillian'}\n",
    "```\n",
    "\n",
    "Sjekk selv med koden under."
   ],
   "metadata": {
    "deletable": false,
    "editable": false,
    "run_control": {
     "frozen": true
    }
   }
  },
  {
   "cell_type": "code",
   "execution_count": null,
   "source": [
    "print(birthdays)"
   ],
   "outputs": [],
   "metadata": {}
  }
 ],
 "metadata": {
  "kernelspec": {
   "display_name": "Python 3",
   "language": "python",
   "name": "python3"
  },
  "language_info": {
   "codemirror_mode": {
    "name": "ipython",
    "version": 3
   },
   "file_extension": ".py",
   "mimetype": "text/x-python",
   "name": "python",
   "nbconvert_exporter": "python",
   "pygments_lexer": "ipython3",
   "version": "3.7.4"
  },
  "toc": {
   "base_numbering": 1,
   "nav_menu": {},
   "number_sections": false,
   "sideBar": true,
   "skip_h1_title": false,
   "title_cell": "Table of Contents",
   "title_sidebar": "Contents",
   "toc_cell": false,
   "toc_position": {},
   "toc_section_display": true,
   "toc_window_display": false
  }
 },
 "nbformat": 4,
 "nbformat_minor": 2
}