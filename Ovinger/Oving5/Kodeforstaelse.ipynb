{
 "cells": [
  {
   "cell_type": "markdown",
   "source": [
    "<nav class=\"navbar navbar-default\">\n",
    "  <div class=\"container-fluid\">\n",
    "    <div class=\"navbar-header\">\n",
    "      <a class=\"navbar-brand\" href=\"_Oving5.ipynb\">Øving 5</a>\n",
    "    </div>\n",
    "    <ul class=\"nav navbar-nav\">\n",
    "      <li ><a href=\"Generelt%20om%20lister.ipynb\">Generelt om lister</a></li>\n",
    "    <li ><a href=\"Lett%20og%20blandet.ipynb\">Lett og blandet</a></li>\n",
    "    <li class=\"active\"><a href=\"Kodeforstaelse.ipynb\">Kodeforståelse</a></li>\n",
    "    <li><a href=\"Vektorer.ipynb\">Vektorer</a></li>\n",
    "    <li ><a href=\"Lister%20og%20lokker.ipynb\">Lister og løkker</a></li>\n",
    "    <li ><a href=\"Teoridelen%20paa%20eksamen.ipynb\">Teoridelen på eksamen</a></li>\n",
    "    <li><a href=\"Gangetabell%20og%20lister.ipynb\">Gangetabell og lister</a></li>\n",
    "    <li ><a href=\"Lotto.ipynb\">Lotto</a></li>\n",
    "    <li ><a href=\"Tannfeen.ipynb\">Tannfeen</a></li>\n",
    "        <li><a href=\"Chattebot.ipynb\">Chattebot</a></li>\n",
    "    <li ><a href=\"Matriseaddisjon.ipynb\">Matriseaddisjon</a></li>\n",
    "    </ul>\n",
    "  </div>\n",
    "</nav>\n",
    "\n",
    "# Kodeforståelse\n",
    "\n",
    "**Læringsmål:**\n",
    "\n",
    "* Kodeforståelse\n",
    "* Innebygde funksjoner\n",
    "* lister\n",
    "\n",
    "**Starting Out with Python:**\n",
    "\n",
    "* Kap. 7: Lists and Tuples"
   ],
   "metadata": {
    "deletable": false,
    "editable": false,
    "run_control": {
     "frozen": true
    }
   }
  },
  {
   "cell_type": "markdown",
   "source": [
    "**a)** Hva returneres i koden under når A= [1,2,3,5,7,9]?\n",
    "\n",
    "Forklar med én setning hva funksjonen gjør."
   ],
   "metadata": {
    "deletable": false,
    "editable": false,
    "run_control": {
     "frozen": true
    }
   }
  },
  {
   "cell_type": "markdown",
   "source": [
    "```python\n",
    "def myst(A):\n",
    "    L=len(A)-1\n",
    "    for i in range(len(A)//2):\n",
    "        t=A[i]\n",
    "        A[i] = A[L-i]\n",
    "        A[L-i]=t\n",
    "    return A\n",
    "```\n",
    "\n",
    "Dobbeltklikk på teksten under og skriv svaret ditt i boksen som kommer opp."
   ],
   "metadata": {
    "deletable": false,
    "editable": false,
    "run_control": {
     "frozen": true
    }
   }
  },
  {
   "cell_type": "markdown",
   "source": [
    "Svar: < dobbeltklikk her>"
   ],
   "metadata": {}
  },
  {
   "cell_type": "markdown",
   "source": [
    "**b)** Forklar med én setning hva funksjonen myst3([1,2,3,4,5,6,7,8,9,10]) med kode som vist under gjør."
   ],
   "metadata": {
    "deletable": false,
    "editable": false,
    "run_control": {
     "frozen": true
    }
   }
  },
  {
   "cell_type": "markdown",
   "source": [
    "```python\n",
    "import random\n",
    "def myst3(a):\n",
    "    b =[0]*len(a)\n",
    "    for c in range(len(a)):\n",
    "        d = random.randint(0,len(a)-1)\n",
    "        b[c] = a[d]\n",
    "        del a[d]    #del fjerner et bestemt element i listen, her fjerner det a[d].\n",
    "    return b\n",
    "```\n",
    "Dobbeltklikk på teksten under og skriv svaret ditt i boksen som kommer opp."
   ],
   "metadata": {
    "deletable": false,
    "editable": false,
    "run_control": {
     "frozen": true
    }
   }
  },
  {
   "cell_type": "markdown",
   "source": [
    "Svar: < dobbelklikk her>"
   ],
   "metadata": {}
  },
  {
   "cell_type": "markdown",
   "source": [
    "**c)** Hva kommer koden til å printe?"
   ],
   "metadata": {
    "deletable": false,
    "editable": false,
    "run_control": {
     "frozen": true
    }
   }
  },
  {
   "cell_type": "markdown",
   "source": [
    "```python\n",
    "liste = [4, 9, 6, 3, 8, 7, 5]\n",
    "print(liste[-2:6])\n",
    "```\n",
    "\n",
    "Dobbeltklikk på teksten under og skriv svaret ditt i boksen som kommer opp."
   ],
   "metadata": {
    "deletable": false,
    "editable": false,
    "run_control": {
     "frozen": true
    }
   }
  },
  {
   "cell_type": "markdown",
   "source": [
    "Svar: < dobbeltklikk her>"
   ],
   "metadata": {}
  },
  {
   "cell_type": "markdown",
   "source": [
    "**d)** Endre følgende kode slik at den fungerer, og kommenter hva som var feil."
   ],
   "metadata": {
    "deletable": false,
    "editable": false,
    "run_control": {
     "frozen": true
    }
   }
  },
  {
   "cell_type": "code",
   "execution_count": null,
   "source": [
    "navn = ('Carina', 'erik', 'Magnus', 'Miriam')\n",
    "navn[1] = 'Erik'\n",
    "print(navn)"
   ],
   "outputs": [],
   "metadata": {
    "ExecuteTime": {
     "end_time": "2019-07-03T07:54:52.891140Z",
     "start_time": "2019-07-03T07:54:52.443003Z"
    }
   }
  },
  {
   "cell_type": "markdown",
   "source": [
    "Dobbeltklikk på teksten under og skriv svaret ditt i boksen som kommer opp."
   ],
   "metadata": {
    "deletable": false,
    "editable": false,
    "run_control": {
     "frozen": true
    }
   }
  },
  {
   "cell_type": "markdown",
   "source": [
    "Svar: < dobbeltklikk her>"
   ],
   "metadata": {}
  },
  {
   "cell_type": "markdown",
   "source": [
    "**e)** Hva printes i koden under? Det holder ikke å kopiere koden og kjøre den, du må forklare hva som skjer underveis."
   ],
   "metadata": {
    "deletable": false,
    "editable": false,
    "run_control": {
     "frozen": true
    }
   }
  },
  {
   "cell_type": "markdown",
   "source": [
    "```python\n",
    "liste1 = [1,3,2,5,4,6]\n",
    "liste1.sort()\n",
    "liste2 = [7, 8, 9]\n",
    "liste3 = liste1+liste2\n",
    "liste3.insert(9, 10)\n",
    "liste3.remove(1)\n",
    "liste3.reverse()\n",
    "print(liste3)\n",
    "```\n",
    "\n",
    "Dobbeltklikk på teksten under og skriv svaret ditt i boksen som kommer opp."
   ],
   "metadata": {
    "deletable": false,
    "editable": false,
    "run_control": {
     "frozen": true
    }
   }
  },
  {
   "cell_type": "markdown",
   "source": [
    "Svar: < dobbeltklikk her>"
   ],
   "metadata": {}
  },
  {
   "cell_type": "markdown",
   "source": [
    "### Noen innebygde funksjoner"
   ],
   "metadata": {
    "deletable": false,
    "editable": false,
    "heading_collapsed": true,
    "run_control": {
     "frozen": true
    }
   }
  },
  {
   "cell_type": "markdown",
   "source": [
    "insert(indexNummer, element) legger til element på indeksen indexNummer i en liste.\n",
    "\n",
    "Eksempel:"
   ],
   "metadata": {
    "deletable": false,
    "editable": false,
    "hidden": true,
    "run_control": {
     "frozen": true
    }
   }
  },
  {
   "cell_type": "code",
   "execution_count": null,
   "source": [
    "liste = [1,2,3,4,'hei', 5]\n",
    "liste.insert(3, 'pannekake') #liste = [1, 2, 3, 'pannekake', 4, 'hei', 5]"
   ],
   "outputs": [],
   "metadata": {
    "hidden": true
   }
  },
  {
   "cell_type": "markdown",
   "source": [
    "sort() sorterer elementene i en liste etter størrelse, med den minste verdien lengst til venstre."
   ],
   "metadata": {
    "deletable": false,
    "editable": false,
    "hidden": true,
    "run_control": {
     "frozen": true
    }
   }
  },
  {
   "cell_type": "code",
   "execution_count": null,
   "source": [
    "liste = [2,3,1,4,6]\n",
    "liste.sort()   #liste = [1,2,3,4,6]"
   ],
   "outputs": [],
   "metadata": {
    "hidden": true
   }
  },
  {
   "cell_type": "markdown",
   "source": [
    "remove(element) fjerner element fra listen."
   ],
   "metadata": {
    "deletable": false,
    "editable": false,
    "hidden": true,
    "run_control": {
     "frozen": true
    }
   }
  },
  {
   "cell_type": "code",
   "execution_count": null,
   "source": [
    "liste = [1,2,3,5]\n",
    "liste.remove(3)  # liste = [1,2,5]"
   ],
   "outputs": [],
   "metadata": {
    "hidden": true
   }
  },
  {
   "cell_type": "markdown",
   "source": [
    "reverse() reverserer listen, dvs. at listen blir speilet."
   ],
   "metadata": {
    "deletable": false,
    "editable": false,
    "hidden": true,
    "run_control": {
     "frozen": true
    }
   }
  },
  {
   "cell_type": "code",
   "execution_count": null,
   "source": [
    "liste = [1,2,3,5,7]\n",
    "liste.reverse()    #liste = [7,5,3,2,1]"
   ],
   "outputs": [],
   "metadata": {
    "hidden": true
   }
  }
 ],
 "metadata": {
  "kernelspec": {
   "display_name": "Python 3",
   "language": "python",
   "name": "python3"
  },
  "language_info": {
   "codemirror_mode": {
    "name": "ipython",
    "version": 3
   },
   "file_extension": ".py",
   "mimetype": "text/x-python",
   "name": "python",
   "nbconvert_exporter": "python",
   "pygments_lexer": "ipython3",
   "version": "3.7.4"
  },
  "toc": {
   "base_numbering": 1,
   "nav_menu": {},
   "number_sections": false,
   "sideBar": true,
   "skip_h1_title": false,
   "title_cell": "Table of Contents",
   "title_sidebar": "Contents",
   "toc_cell": false,
   "toc_position": {},
   "toc_section_display": true,
   "toc_window_display": false
  }
 },
 "nbformat": 4,
 "nbformat_minor": 2
}