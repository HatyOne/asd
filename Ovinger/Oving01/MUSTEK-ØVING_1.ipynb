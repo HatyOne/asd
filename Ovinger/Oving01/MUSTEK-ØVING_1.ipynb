{
 "cells": [
  {
   "cell_type": "markdown",
   "metadata": {},
   "source": [
    "# ØVING 1"
   ]
  },
  {
   "cell_type": "markdown",
   "metadata": {},
   "source": [
    "Under ser du eksempler på ulike variabeltyper i Python. Prøv å kjøre snutten og ta en titt på hva den printer ut."
   ]
  },
  {
   "cell_type": "code",
   "execution_count": 7,
   "metadata": {},
   "outputs": [
    {
     "name": "stdout",
     "output_type": "stream",
     "text": [
      "('Python', 3, 0.7, 3.7, 'Python 3.7')\n"
     ]
    }
   ],
   "source": [
    "#streng / string\n",
    "var1 = \"Python\"\n",
    "\n",
    "#heltall / integer\n",
    "var2 = 3\n",
    "\n",
    "#flyttall / float\n",
    "var3 = 0.7\n",
    "\n",
    "#heltall + flyttall = flyttall\n",
    "var4 = var2 + var3\n",
    "\n",
    "#konverterer flyttall til streng og slår sammen / konkatenerer til en lengre streng\n",
    "var5 = var1 + \" \" + str(var4)\n",
    "\n",
    "#print out\n",
    "print(var1,var2,var3,var4,var5)"
   ]
  },
  {
   "cell_type": "markdown",
   "metadata": {},
   "source": [
    "Oppgave 1\n",
    "\n",
    "Skriv et enkelt program som ber brukeren om navn, lagrer dette i en variabel og printer ut en en vennlig hilsen som svar. \n",
    "\n",
    "Eksempel på kjøring av koden:\n",
    "\n",
    "Hva er navnet ditt? Anders\n",
    "\n",
    "Heisann, Anders! Fryktelig hyggelig å møte deg!"
   ]
  },
  {
   "cell_type": "code",
   "execution_count": 2,
   "metadata": {},
   "outputs": [
    {
     "name": "stdout",
     "output_type": "stream",
     "text": [
      "Hva er navnet ditt? Anders\n",
      "Heisann, Anders! Fryktelig hyggelig å møte deg!\n"
     ]
    }
   ],
   "source": []
  },
  {
   "cell_type": "markdown",
   "metadata": {},
   "source": [
    "input() og print() er eksempler på innebygde funksjoner i Python. Ved å importere bibliotek kan vi utvide Pythons funksjonalitet. Under ser du for eksempel hvordan vi kan inkludere modulen date fra datetime-biblioteket, og med det finne ut hvilket år det er i år.\n",
    "\n",
    "Utvid koden under til å spørre om brukerens alder, og anslå omtrentlig fødselsår. Print ut en beskjed som inneholder både brukerens navn og anslått fødselsår.\n",
    "\n",
    "\n",
    "\n",
    "\n",
    "Eksempel på kjøring av koden:\n",
    "\n",
    "Hvor gammel er du, Anders? 28\n",
    "\n",
    "Okay, Anders! Etter mine kalkulasjoner er du født enten i 1991 eller i 1990!"
   ]
  },
  {
   "cell_type": "code",
   "execution_count": 7,
   "metadata": {},
   "outputs": [
    {
     "name": "stdout",
     "output_type": "stream",
     "text": [
      "2019\n"
     ]
    }
   ],
   "source": [
    "from datetime import date\n",
    "presentyear = date.today().year\n",
    "print(presentyear)"
   ]
  },
  {
   "cell_type": "markdown",
   "metadata": {},
   "source": [
    "Oppgave 2\n",
    "\n",
    "På planeten vår har vi et atmosfærisk trykk som ligger på 101.325 kiloPascal (kPa) ved havoverflaten og når en beveger seg oppover. All lyd som beveger seg gjennom luft er variasjoner i luftpartiklenes posisjon rundt et \"nullpunkt\" gitt av det atmosfæriske trykket - en oscillasjon skyver og trekker luftpartiklene ved sitt høy- og lavtrykk. Svingningen med lavest intensitet et menneske potensielt er i stand til å høre ligger på 20 microPascal (µPa). Dette er utgangspunktet for den logaritmiske amplitudeskalaen deciBel Sound Pressure Level (dBSPL), som har sitt laveste punkt - 0dBSPL, satt til nettopp 20µPa. Maksamplituden til en norsk konsert er satt til 90dBSPL, et lydtrykknivå som vil påføre skade om en utsettes for det over lengre tid. En jagerflymotor kan ha et lydtrykknivå opp mot 150dBSPL på én meters avstand, som medfører umiddelbar hørselsskade. \n",
    "\n",
    "Likningen for omregning fra Pascal til dBSPL:\n",
    "\n",
    "Lp(dBSPL)=20·log(10)p/p0\n",
    "\n",
    "hvor p0 er den lavest hørbare lufttrykksendringen (20µPa) og p er input til likningen i form av en verdi i Pacal. \n",
    "\n",
    "Likningen for omregning fra dBSPL til Pascal:\n",
    "\n",
    "p(Pa)=p0·10^Lp(dBSPL)/20\n",
    "\n",
    "hvor p0 fortsatt er 20µPa og Lp er input til likningen i form av en verdi i dBSPL. Disse formlene finner du i kodesnutten under. Legg merke til at vi har importert math-biblioteket som lar oss bruke mer avanserte matematiske funksjoner, slik som log10.\n",
    "\n",
    "I denne oppgaven skal du lage et program som spør brukeren om en amplitudeverdi i dBSPL. Denne verdien skal du putte inn i likningen som konverterer fra dBSPL til Pascal, og resultatet av denne konverteringen skal så konverteres tilbake til dBSPL. Formater de to konverterte verdiene slik at programmet printer ut Pascal-verdien som et flyttall med fem desimaler og dBSPL som kun et heltall (uten desimaler).\n",
    "\n",
    "\n",
    "\n",
    "Eksempel på kjøring:\n",
    "\n",
    "Amplitude i dBSPL? 50\n",
    "\n",
    "0.00632 Pascal\n",
    "\n",
    "50 dBSPL\n",
    "\n"
   ]
  },
  {
   "cell_type": "code",
   "execution_count": 8,
   "metadata": {},
   "outputs": [],
   "source": [
    "import math\n",
    "amp = 50\n",
    "pascal = 0.00002*(10**(int(amp)/20))\n",
    "dbspl = 20*math.log10(pascal/0.00002)"
   ]
  },
  {
   "cell_type": "markdown",
   "metadata": {},
   "source": [
    "En fin kilde for å undersøke temaet videre finner du her: http://www.sengpielaudio.com/calculator-soundlevel.htm"
   ]
  },
  {
   "cell_type": "markdown",
   "metadata": {},
   "source": [
    "Oppgave 3\n",
    "\n",
    "En sinusbølge kan forstås som en sirkulær bevegelse hvor en gitt grad mellom 0 og 360 representerer et punkt i bølgen - et utsving gitt i en amplitudeverdi. Om en sinustone blir gitt en relativ amplitude på 1 vil for eksempel 0° tilsvare startpunktet og ha en amplitude på 0, 90° tilsvarer maksimalt positivt utsving og har en verdi på 1, mens 270° tilsvarer maksimalt negativt utsving og har en verdi på -1. Denne gradverdien kan også leses som bølgens fase.\n",
    "\n",
    "Likningen for amplitudeverdien på en gitt grad i en sinusbølge er som følger:\n",
    "\n",
    "A=dB·sin(w·t+phase)\n",
    "\n",
    "hvor w=2piFREKVENS. \n",
    "\n",
    "Ta utgangspunkt i koden fra oppgave 1 og utvid med å la brukeren sjekke utsvinget på ulike punkter (0-360) i en sinusbølge med amplitude gitt av input fra oppgave 1. Resultatet skal printes som et flyttall med to desimaler rundet opp eller ned til andre desimalplass. Programmet skal også printe en absolutt prosentverdi for målepunktets utsving fra nullpunktet, hvor 100% tilsvarer den maksimale amplituden gitt som input."
   ]
  },
  {
   "cell_type": "code",
   "execution_count": 9,
   "metadata": {},
   "outputs": [],
   "source": [
    "degree = 72\n",
    "y = dbspl * math.sin(math.radians(degree))"
   ]
  },
  {
   "cell_type": "markdown",
   "metadata": {},
   "source": [
    "Se mer om temaet her: http://www.sengpielaudio.com/calculator-timedelayphase.htm"
   ]
  },
  {
   "cell_type": "markdown",
   "metadata": {},
   "source": [
    "Oppgave 4 \n",
    "\n",
    "Turtle er et Python-library som lar deg tegne enkle illustrasjoner med Python. I koden under ser du et eksempel på Turtle-kode som først plotter et koordinatsystem og så en sirkel inn i det. Endre de tre variablene du finner øverst i koden, slik at fase- og amplitude-informasjon fra oppgave 3 vises grafisk."
   ]
  },
  {
   "cell_type": "code",
   "execution_count": 10,
   "metadata": {},
   "outputs": [],
   "source": [
    "import turtle\n",
    "\n",
    "\n",
    "radius = 180\n",
    "vinkel = 300\n",
    "amplitude = 177.94\n",
    "\n",
    "\n",
    "turtle.hideturtle()\n",
    "turtle.screensize(radius*3,radius*3)\n",
    "turtle.pensize(1)\n",
    "turtle.color('black')\n",
    "turtle.setheading(-90)\n",
    "turtle.forward(radius)\n",
    "turtle.backward(radius*2)\n",
    "turtle.home()\n",
    "turtle.backward(radius)\n",
    "turtle.forward(radius*2)\n",
    "\n",
    "turtle.color('green')\n",
    "turtle.setheading(90)\n",
    "turtle.circle(radius)\n",
    "\n",
    "turtle.color('red')\n",
    "turtle.home()\n",
    "turtle.setheading(degree)\n",
    "turtle.forward(radius)\n",
    "\n",
    "turtle.penup()\n",
    "turtle.color('blue')\n",
    "turtle.write(str(degree)+'°  =   ',True)\n",
    "turtle.write(round(amplitude,2),True)\n",
    "turtle.write('dBFS',True)"
   ]
  }
 ],
 "metadata": {
  "kernelspec": {
   "display_name": "Python 3",
   "language": "python",
   "name": "python3"
  },
  "language_info": {
   "codemirror_mode": {
    "name": "ipython",
    "version": 3
   },
   "file_extension": ".py",
   "mimetype": "text/x-python",
   "name": "python",
   "nbconvert_exporter": "python",
   "pygments_lexer": "ipython3",
   "version": "3.7.1"
  }
 },
 "nbformat": 4,
 "nbformat_minor": 2
}
