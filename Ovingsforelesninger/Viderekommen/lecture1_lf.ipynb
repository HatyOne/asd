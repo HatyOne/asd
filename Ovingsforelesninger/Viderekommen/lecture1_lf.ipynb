{
 "cells": [
  {
   "cell_type": "markdown",
   "source": [
    "# Øvingsforelesning 1 - TDT4109"
   ],
   "metadata": {}
  },
  {
   "cell_type": "markdown",
   "source": [
    "**Læremål**:\n",
    "\n",
    "* Bli introdusert til hva programmering er\n",
    "\n",
    "* Grunnleggende syntaks\n",
    "\n",
    "* Utføre enkle utregninger i Python\n"
   ],
   "metadata": {}
  },
  {
   "cell_type": "markdown",
   "source": [
    "## Oppgave 1"
   ],
   "metadata": {}
  },
  {
   "cell_type": "markdown",
   "source": [
    "**Hva tilsvarer 80 grader celsius i Fahrenheit?**\n",
    "$$F = \\frac{9}{5}Celsius + 32$$"
   ],
   "metadata": {}
  },
  {
   "cell_type": "code",
   "execution_count": 3,
   "source": [
    "#Rett frem. Hold deg til denne\r\n",
    "print(9/5*80+32)\r\n",
    "\r\n",
    "#Ved hjelp av variabel\r\n",
    "degrees_celcius = 80\r\n",
    "F = (9/5)*degrees_celcius + 32\r\n",
    "print(F)\r\n",
    "\r\n",
    "#Bonus: Omregningen kan også skrives ut som en setning\r\n",
    "print(f'{degrees_celcius} grader celcius tilsvarer {F} grader fahrenheit')"
   ],
   "outputs": [
    {
     "output_type": "stream",
     "name": "stdout",
     "text": [
      "176.0\n",
      "176.0\n",
      "80 grader celcius tilsvarer 176.0 grader fahrenheit\n"
     ]
    }
   ],
   "metadata": {
    "collapsed": false,
    "pycharm": {
     "name": "#%%\n"
    }
   }
  },
  {
   "cell_type": "markdown",
   "source": [
    "## Oppgave 2"
   ],
   "metadata": {
    "collapsed": false,
    "pycharm": {
     "name": "#%% md\n"
    }
   }
  },
  {
   "cell_type": "markdown",
   "source": [
    "**Regn ut følgende i Python ved hjelp av kode**\r\n",
    "\r\n",
    "![img](./../../Resources/Images/regnestykker.jpg)\r\n"
   ],
   "metadata": {}
  },
  {
   "cell_type": "code",
   "execution_count": 1,
   "source": [
    "print(4*-2-(2+-5))"
   ],
   "outputs": [
    {
     "output_type": "stream",
     "name": "stdout",
     "text": [
      "-5\n"
     ]
    }
   ],
   "metadata": {}
  },
  {
   "cell_type": "code",
   "execution_count": 2,
   "source": [
    "print(-2--2-2)"
   ],
   "outputs": [
    {
     "output_type": "stream",
     "name": "stdout",
     "text": [
      "-2\n"
     ]
    }
   ],
   "metadata": {}
  },
  {
   "cell_type": "code",
   "execution_count": 4,
   "source": [
    "print(5-2**(-1*-1))"
   ],
   "outputs": [
    {
     "output_type": "stream",
     "name": "stdout",
     "text": [
      "3\n"
     ]
    }
   ],
   "metadata": {
    "collapsed": true
   }
  },
  {
   "cell_type": "code",
   "execution_count": 5,
   "source": [
    "print(-(1*1*2*3*5*-8))"
   ],
   "outputs": [
    {
     "output_type": "stream",
     "name": "stdout",
     "text": [
      "240\n"
     ]
    }
   ],
   "metadata": {
    "collapsed": true
   }
  },
  {
   "cell_type": "markdown",
   "source": [
    "## Oppgave 3"
   ],
   "metadata": {}
  },
  {
   "cell_type": "markdown",
   "source": [
    "**Er 1000 000 000 større enn $2^{30}$?**"
   ],
   "metadata": {}
  },
  {
   "cell_type": "code",
   "execution_count": 6,
   "source": [
    "print(1000000000 > 2**30)"
   ],
   "outputs": [
    {
     "output_type": "stream",
     "name": "stdout",
     "text": [
      "False\n"
     ]
    }
   ],
   "metadata": {
    "tags": []
   }
  },
  {
   "cell_type": "markdown",
   "source": [
    "## Oppgave 4\r\n",
    "\r\n",
    "Hva blir resten når $2^7$ deles på $42$ "
   ],
   "metadata": {}
  },
  {
   "cell_type": "code",
   "execution_count": 1,
   "source": [
    "print(2**7 % 42)"
   ],
   "outputs": [
    {
     "output_type": "stream",
     "name": "stdout",
     "text": [
      "2\n"
     ]
    }
   ],
   "metadata": {}
  },
  {
   "cell_type": "markdown",
   "source": [
    "## Oppgave 5: Input\r\n",
    "\r\n",
    "**Lag et program som gjør følgende:**\r\n",
    "1. Tar inn to tall fra bruker\r\n",
    "2. Multipliserer dem \r\n",
    "3. Skriver ut (tall 1) \\* (tall 2) = (resultat)"
   ],
   "metadata": {}
  },
  {
   "cell_type": "code",
   "execution_count": 6,
   "source": [
    "tall1 = int(input('Tall 1: '))\r\n",
    "tall2 = int(input('Tall 2: '))\r\n",
    "resultat = tall1 * tall2\r\n",
    "print(tall1, '*', tall2, '=', resultat)"
   ],
   "outputs": [
    {
     "output_type": "error",
     "ename": "ValueError",
     "evalue": "invalid literal for int() with base 10: ''",
     "traceback": [
      "\u001b[1;31m---------------------------------------------------------------------------\u001b[0m",
      "\u001b[1;31mValueError\u001b[0m                                Traceback (most recent call last)",
      "\u001b[1;32m<ipython-input-6-ad6b5006ebe1>\u001b[0m in \u001b[0;36m<module>\u001b[1;34m\u001b[0m\n\u001b[1;32m----> 1\u001b[1;33m \u001b[0mtall1\u001b[0m \u001b[1;33m=\u001b[0m \u001b[0mint\u001b[0m\u001b[1;33m(\u001b[0m\u001b[0minput\u001b[0m\u001b[1;33m(\u001b[0m\u001b[1;34m'Tall 1: '\u001b[0m\u001b[1;33m)\u001b[0m\u001b[1;33m)\u001b[0m\u001b[1;33m\u001b[0m\u001b[0m\n\u001b[0m\u001b[0;32m      2\u001b[0m \u001b[0mtall2\u001b[0m \u001b[1;33m=\u001b[0m \u001b[0mint\u001b[0m\u001b[1;33m(\u001b[0m\u001b[0minput\u001b[0m\u001b[1;33m(\u001b[0m\u001b[1;34m'Tall 2: '\u001b[0m\u001b[1;33m)\u001b[0m\u001b[1;33m)\u001b[0m\u001b[1;33m\u001b[0m\u001b[0m\n\u001b[0;32m      3\u001b[0m \u001b[0mresultat\u001b[0m \u001b[1;33m=\u001b[0m \u001b[0mtall1\u001b[0m \u001b[1;33m*\u001b[0m \u001b[0mtall2\u001b[0m\u001b[1;33m\u001b[0m\u001b[0m\n\u001b[0;32m      4\u001b[0m \u001b[0mprint\u001b[0m\u001b[1;33m(\u001b[0m\u001b[0mtall1\u001b[0m\u001b[1;33m,\u001b[0m \u001b[1;34m'*'\u001b[0m\u001b[1;33m,\u001b[0m \u001b[0mtall2\u001b[0m\u001b[1;33m,\u001b[0m \u001b[1;34m'='\u001b[0m\u001b[1;33m,\u001b[0m \u001b[0mresultat\u001b[0m\u001b[1;33m)\u001b[0m\u001b[1;33m\u001b[0m\u001b[0m\n",
      "\u001b[1;31mValueError\u001b[0m: invalid literal for int() with base 10: ''"
     ]
    }
   ],
   "metadata": {}
  },
  {
   "cell_type": "markdown",
   "source": [
    "## Oppgave 6: Innebygde funksjoner \r\n",
    "\r\n",
    "Skriv et program som spør brukeren om to tall og printer absoluttverdien av differansen\r\n",
    "<br>\r\n",
    "\r\n",
    "Hint: Bruk den innebygde funksjonen **abs()**"
   ],
   "metadata": {}
  },
  {
   "cell_type": "code",
   "execution_count": null,
   "source": [
    "tall1 = float(input('Tall 1: '))\r\n",
    "tall2 = float(input('Tall 2: '))\r\n",
    "print(abs(tall1-tall2))"
   ],
   "outputs": [],
   "metadata": {}
  },
  {
   "cell_type": "markdown",
   "source": [
    "## Oppgave 7: Feilretting og variabeltyper\r\n",
    "\r\n",
    "Følgende program skal regne ut og printe summen av prisen på tre varer. Prisene er lagret som forskjellige variabeltyper. Undersøk feilmeldingene og rett koden slik at den skriver ut riktig totalsum."
   ],
   "metadata": {}
  },
  {
   "cell_type": "code",
   "execution_count": 8,
   "source": [
    "banan_pris = 10.50\r\n",
    "melk_pris = 23.50\r\n",
    "havregryn_pris = 15\r\n",
    "\r\n",
    "total_sum = banan_pris + melk_pris + havregryn_pris\r\n",
    "\r\n",
    "print('Totalsummen for varene er ' + str(total_sum))"
   ],
   "outputs": [
    {
     "output_type": "stream",
     "name": "stdout",
     "text": [
      "Totalsummen for varene er 49.0\n"
     ]
    }
   ],
   "metadata": {}
  },
  {
   "cell_type": "markdown",
   "source": [
    "## Oppgave 8: Moduler \r\n",
    "\r\n",
    "Print pi med 10 desimaler <br>\r\n",
    "\r\n",
    "Hint: import math, math.pi, round()"
   ],
   "metadata": {}
  },
  {
   "cell_type": "code",
   "execution_count": null,
   "source": [
    "import math\r\n",
    "print(round(math.pi,10))"
   ],
   "outputs": [],
   "metadata": {}
  },
  {
   "cell_type": "markdown",
   "source": [
    "## Oppgave 9: Bruk av variabler\r\n",
    "\r\n",
    "Regn ut volumet av en kjegle med radius 3 og høyde 7.\r\n",
    "\r\n",
    "![img](./../../Resources/Images/kjeglevolum.png)\r\n",
    "\r\n",
    "Hint til variabler:\r\n",
    "* pi = 3.14\r\n",
    "* r = 3\r\n",
    "* h = 7"
   ],
   "metadata": {}
  },
  {
   "cell_type": "code",
   "execution_count": null,
   "source": [
    "PI = 3.14\r\n",
    "r = 3\r\n",
    "h = 7\r\n",
    "V = (PI*r**2*h)/3\r\n",
    "print(V)\r\n",
    "\r\n",
    "#evt\r\n",
    "\r\n",
    "import math\r\n",
    "r = 3\r\n",
    "h = 7\r\n",
    "V = (math.pi*r**2*h)/3\r\n",
    "print(V)"
   ],
   "outputs": [
    {
     "output_type": "stream",
     "name": "stdout",
     "text": [
      "65.94000000000001\n",
      "65.97344572538566\n"
     ]
    }
   ],
   "metadata": {}
  },
  {
   "cell_type": "markdown",
   "source": [
    "## Oppgave 10: Variabler og input \r\n",
    "\r\n",
    "1. Endre kjegleprogrammet fra oppgave 9 til å ta inn radius og høyde fra brukeren\r\n",
    "2. Verdiene skal være av typen float "
   ],
   "metadata": {}
  },
  {
   "cell_type": "code",
   "execution_count": null,
   "source": [
    "PI = 3.14\r\n",
    "r = float(input('Radius: '))\r\n",
    "h = float(input('Høyde: '))\r\n",
    "V = (PI*r**2*h)/3\r\n",
    "print(V)"
   ],
   "outputs": [],
   "metadata": {}
  },
  {
   "cell_type": "markdown",
   "source": [
    "## Fritt kodefelt (Du kan bruke  dette for å teste egen kode)"
   ],
   "metadata": {
    "collapsed": false,
    "pycharm": {
     "name": "#%% md\n"
    }
   }
  },
  {
   "cell_type": "code",
   "execution_count": null,
   "source": [
    "# Skriv koden din her"
   ],
   "outputs": [],
   "metadata": {
    "collapsed": false,
    "pycharm": {
     "name": "#%%\n"
    }
   }
  }
 ],
 "metadata": {
  "kernelspec": {
   "name": "python3",
   "display_name": "Python 3.6.2 32-bit"
  },
  "language_info": {
   "codemirror_mode": {
    "name": "ipython",
    "version": 3
   },
   "file_extension": ".py",
   "mimetype": "text/x-python",
   "name": "python",
   "nbconvert_exporter": "python",
   "pygments_lexer": "ipython3",
   "version": "3.6.2"
  },
  "interpreter": {
   "hash": "701e255ce9e6ffc7be21cb678d8777de32a36d9572a61b0e9645a07eb5a2e63f"
  }
 },
 "nbformat": 4,
 "nbformat_minor": 2
}