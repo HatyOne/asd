{
 "cells": [
  {
   "cell_type": "markdown",
   "source": [
    "# Øvingsforelesning 6"
   ],
   "metadata": {}
  },
  {
   "cell_type": "markdown",
   "source": [
    "## Forklaring av lister\n",
    "**Lister** er en datatype som inneholder *elementer* som kan ha ulike datatyper. Det er altså en måte å samle flere ting i samme variabel. En liste lages ved å legge elementer inn i et par med firkantparanteser `[]`. Dette kan også tilegnes en variabel. For eksempel kan jeg opprette en liste `min_liste` med partall mellom 2 og 10:   \n"
   ],
   "metadata": {}
  },
  {
   "cell_type": "code",
   "execution_count": null,
   "source": [
    "min_liste = [2,4,6,8,10]"
   ],
   "outputs": [],
   "metadata": {
    "collapsed": true
   }
  },
  {
   "cell_type": "markdown",
   "source": [
    "For å aksessere elementene i listen under kan vi benytte indeksering. Indeksen forteller hvilken \"plass\" vi er på i listen. Den første indeksen i listen er 0 og den siste er *antall elementer - 1*. Det vil si at det første elementet i `min_liste`, 2,  kan hentes ut slik:"
   ],
   "metadata": {}
  },
  {
   "cell_type": "code",
   "execution_count": null,
   "source": [
    "min_liste[0]"
   ],
   "outputs": [],
   "metadata": {}
  },
  {
   "cell_type": "markdown",
   "source": [
    "og det siste elementet i listen kan hentes ut slik:"
   ],
   "metadata": {}
  },
  {
   "cell_type": "code",
   "execution_count": null,
   "source": [
    "min_liste[4] # Hvor 4 er lengden til listen minus 1 "
   ],
   "outputs": [],
   "metadata": {}
  },
  {
   "cell_type": "markdown",
   "source": [
    "## Test deg frem med lister selv\n",
    "Kodeblokken under er lagt til for at du skal kunne leke deg litt frem med lister selv. Gjerne kombiner det med konsepter du har lært tidligere som if-setninger, løkker og funksjoner. Hvis du trenger litt hjelp til å begynne kan du titte i tabellene under som viser hvordan vi kan jobbe med lister i Python."
   ],
   "metadata": {}
  },
  {
   "cell_type": "code",
   "execution_count": null,
   "source": [
    "handle_liste = [\"Brød\", \"Melk\", \"Smør\", \"Brus\"]\r\n",
    "print(handle_liste)"
   ],
   "outputs": [],
   "metadata": {}
  },
  {
   "cell_type": "markdown",
   "source": [
    "## Indeksering, Slicing og Traversering\n",
    "<img src=\"liste-indeksering.jpg\" style=\"width: 600px;\">"
   ],
   "metadata": {}
  },
  {
   "cell_type": "markdown",
   "source": [
    "## Innebygde liste-funksjoner: Nice to know\n",
    "<img src=\"liste-funksjoner.jpg\" style=\"width: 600px;\">"
   ],
   "metadata": {}
  },
  {
   "cell_type": "markdown",
   "source": [
    "# Oppgaver til øvingsforelesning 6 \r\n",
    "\r\n",
    "## Oppgave 1a + b\r\n",
    "\r\n",
    "a) Lag en liste med tallene fra 0 til 9 og skriv ut listen\r\n",
    "\r\n",
    "b) Endre det siste tallet i listen til 5 og skriv ut listen igjen\r\n"
   ],
   "metadata": {}
  },
  {
   "cell_type": "code",
   "execution_count": null,
   "source": [
    "#din kode her"
   ],
   "outputs": [],
   "metadata": {}
  },
  {
   "cell_type": "markdown",
   "source": [
    "## Oppgave 1c + d\r\n",
    "\r\n",
    "Lag en funksjon som returnerer første halvdelen av en liste, og bruk den på listen vår \r\n",
    "* Hint: slicing: liste[a:b] \r\n",
    "\r\n",
    "Lag en funksjon som kopierer alt utenom det første og siste elementet i en ny liste, og returnerer den nye listen. \r\n",
    "\r\n",
    "* Hint: len() fungerer også på lister\r\n"
   ],
   "metadata": {}
  },
  {
   "cell_type": "code",
   "execution_count": null,
   "source": [
    "#din kode her"
   ],
   "outputs": [],
   "metadata": {}
  },
  {
   "cell_type": "markdown",
   "source": [
    "## Oppgave 2\r\n",
    "\r\n",
    "Lag en funksjon som tar inn en liste og adderer hvert tredje tall i listen. \r\n",
    "\r\n",
    "* Hint: traversering, sum()"
   ],
   "metadata": {}
  },
  {
   "cell_type": "code",
   "execution_count": null,
   "source": [
    "#din kode her"
   ],
   "outputs": [],
   "metadata": {}
  },
  {
   "cell_type": "markdown",
   "source": [
    "## Oppgave 3\r\n",
    "\r\n",
    "I denne oppgaven skal vi lage en forenklet versjon av yatzy"
   ],
   "metadata": {}
  },
  {
   "cell_type": "markdown",
   "source": [
    "*Først trenger vi en funksjon som triller 5 terninger for oss.*\r\n",
    "\r\n",
    "a) Lag en funksjon, `roll_dice`,  som lager en liste som inneholder 5 elementer der hvert element har en tilfeldig tall-verdi mellom 1 og 6.\r\n",
    "* Hint: import random, random.randint(1, 6) "
   ],
   "metadata": {}
  },
  {
   "cell_type": "code",
   "execution_count": null,
   "source": [
    "#din kode her"
   ],
   "outputs": [],
   "metadata": {}
  },
  {
   "cell_type": "markdown",
   "source": [
    "*Videre trenger vi en funksjon for å telle antall forekomster av en gitt verdi, f.eks. enere og toere*\r\n",
    "\r\n",
    "b) Lag en funksjon som tar inn listen med tall og et heltall mellom 1 og 6, og returnerer antallet terninger som har den heltallsverdien \r\n"
   ],
   "metadata": {}
  },
  {
   "cell_type": "code",
   "execution_count": null,
   "source": [
    "#din kode her"
   ],
   "outputs": [],
   "metadata": {}
  },
  {
   "cell_type": "markdown",
   "source": [
    "c) Til slutt vil vi kunne spille hele den første delen av et Yatzy-spill\r\n",
    "\r\n",
    "Lag en funksjon som kaster terningene seks ganger, og gir poeng for antall enere i det første kastet, toere i det andre, osv. \r\n",
    "- Print poeng for hvert kast\r\n",
    "- Returner summen"
   ],
   "metadata": {}
  },
  {
   "cell_type": "code",
   "execution_count": null,
   "source": [
    "#din kode her"
   ],
   "outputs": [],
   "metadata": {}
  },
  {
   "cell_type": "markdown",
   "source": [
    "## Oppgave 4: Eksamensoppgave\r\n"
   ],
   "metadata": {}
  },
  {
   "cell_type": "markdown",
   "source": [
    "<img src=\"E2014-3.jpg\" style=\"width: 750px;\">"
   ],
   "metadata": {}
  },
  {
   "cell_type": "markdown",
   "source": [
    "<img src=\"E2014-3a.jpg\" style=\"width: 750px;\">"
   ],
   "metadata": {}
  },
  {
   "cell_type": "markdown",
   "source": [
    "<br><br>\n",
    "**Oppgaven:**<br>\n",
    "Du skal lage en funksjon som går gjennom listen weatherData og skriver ut\n",
    "* Antall dager i perioden (Dvs. antall lister i weatherData)\n",
    "* Total nedbørsmengde i perioden \n",
    "* Høyeste temperatur og dagen denne forekom\n",
    "* Laveste temperatur og dagen denne forekom \n",
    "\n",
    "*`weatherData`:*\n",
    "* weatherData er en liste med lister i (matrise), hvor hver liste i weatherData er på formatet `[maximumstemperatur, minimumstemperatur, nedbørsmengde]`\n",
    "* Den første lista i weatherData, dvs. `weatherData[0]` er vær-data for dag 1, den andre lista i weatherData, dv  `weatherData[1]` er værdata for dag 2 osv. \n",
    "\n",
    "\n",
    "*Hint:* Konsentrer deg om ett av punktene over om gangen, lagre informasjonen i variabler og skriv ut informasjonen til slutt.\n",
    "    \n",
    "  "
   ],
   "metadata": {}
  },
  {
   "cell_type": "code",
   "execution_count": null,
   "source": [
    "#din kode her\r\n",
    "    "
   ],
   "outputs": [],
   "metadata": {}
  },
  {
   "cell_type": "markdown",
   "source": [
    "Test om funksjonen din skriver ut riktig informasjon ved å kjøre kodeblokken under og sammenligne output med den under:\n",
    "```\n",
    "There are 5 days in the period\n",
    "The highest temperature was 15.3 on day number 5\n",
    "The lowest temperature was -5.2 on day number 4\n",
    "There was a total of 34.4 mm rain in the period\n",
    "```"
   ],
   "metadata": {}
  },
  {
   "cell_type": "code",
   "execution_count": null,
   "source": [
    "#din kode her"
   ],
   "outputs": [],
   "metadata": {}
  },
  {
   "cell_type": "markdown",
   "source": [
    "## Eksamen 2014 3b: \r\n",
    "\r\n",
    "Skriv en funksjon coldestThreeDays som tar inn parameteren weatherData (som definert\r\n",
    "over). Funksjonen skal finne den perioden av tre sammenhengende dager som hadde den laveste\r\n",
    "gjennomsnittlige minimumstemperaturen. Den skal returnere nummeret på første dagen i denne\r\n",
    "tredagersperioden. Dersom det er flere perioder som er like kalde, så skal den returnere kun den siste\r\n",
    "av disse periodene. Et eksempel på en kjøring av denne funksjonen for weatherData som definert\r\n",
    "tidligere i oppgaven gir: \r\n",
    "\r\n",
    "```python\r\n",
    ">>>coldestThreeDays(weatherData)\r\n",
    "2\r\n",
    ">>>\r\n",
    "```\r\n",
    "\r\n",
    "Altså, funksjonen skal inn weatherdata lista, og sjekke tre og tre dager, for å finne ut hvilken periode på tre dager\r\n",
    "som hadde minst gjennomsnittstemperatur, før den returnerer nummer på den dagen. Dersom det er flere tredagers perioder\r\n",
    "med lik gjennomsnittstemperatur skal funksjonen returnere nummeret på den siste av de. "
   ],
   "metadata": {}
  },
  {
   "cell_type": "code",
   "execution_count": null,
   "source": [
    "#din kode her"
   ],
   "outputs": [],
   "metadata": {}
  }
 ],
 "metadata": {
  "kernelspec": {
   "name": "python3",
   "display_name": "Python 3.6.2 32-bit"
  },
  "language_info": {
   "codemirror_mode": {
    "name": "ipython",
    "version": 3
   },
   "file_extension": ".py",
   "mimetype": "text/x-python",
   "name": "python",
   "nbconvert_exporter": "python",
   "pygments_lexer": "ipython3",
   "version": "3.6.2"
  },
  "interpreter": {
   "hash": "701e255ce9e6ffc7be21cb678d8777de32a36d9572a61b0e9645a07eb5a2e63f"
  }
 },
 "nbformat": 4,
 "nbformat_minor": 2
}