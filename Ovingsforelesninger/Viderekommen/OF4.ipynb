{
 "cells": [
  {
   "cell_type": "markdown",
   "source": [
    "# Øvingsforelesning 4 | Viderekommen parallell"
   ],
   "metadata": {}
  },
  {
   "cell_type": "markdown",
   "source": [
    "## Repetisjonsoppgave"
   ],
   "metadata": {}
  },
  {
   "cell_type": "markdown",
   "source": [
    "### Lag et program som gjør følgende:\n",
    "* Tar inn et heltall max_rand_int fra brukeren\n",
    "* Tar inn et heltall target fra brukeren\n",
    "* Genererer tilfeldige tall mellom 0 og max_rand_int, helt til det genererer target\n",
    "* Printer hvert genererte tall"
   ],
   "metadata": {}
  },
  {
   "cell_type": "code",
   "execution_count": null,
   "source": [
    "# Skriv kode her"
   ],
   "outputs": [],
   "metadata": {}
  },
  {
   "cell_type": "markdown",
   "source": [
    "## Oppgave 1"
   ],
   "metadata": {}
  },
  {
   "cell_type": "markdown",
   "source": [
    "*Matematiske funksjoner i Python*"
   ],
   "metadata": {}
  },
  {
   "cell_type": "markdown",
   "source": [
    "Lag en funksjon som gjør følgende:\n",
    "1. Tar inn parameter x\n",
    "2. Utfører operasjoner som svarer til den matematiske funksjonen\n",
    "$$f(x) = x^2 + 2x -3 $$\n",
    "3. __returnerer__ svaret\n",
    "\n",
    "<br>"
   ],
   "metadata": {}
  },
  {
   "cell_type": "code",
   "execution_count": null,
   "source": [
    "# Skriv kode her"
   ],
   "outputs": [],
   "metadata": {
    "collapsed": true
   }
  },
  {
   "cell_type": "markdown",
   "source": [
    "## Oppgave 2\n",
    "\n",
    "Lag en funksjon som tar inn et parameter x og som returnerer absoluttverdien av x, uten å bruke innebygde funksjoner!\n",
    "\n",
    "Altså, implementer den matematiske funksjonen $$f(x) = |x| $$\n",
    "* f(1) = 1\n",
    "* f(-1) = 1\n",
    "* f(100) = 100\n",
    "* f(-100) = 100\n"
   ],
   "metadata": {}
  },
  {
   "cell_type": "code",
   "execution_count": null,
   "source": [
    "# Skriv kode her"
   ],
   "outputs": [],
   "metadata": {}
  },
  {
   "cell_type": "markdown",
   "source": [
    "## Oppgave 3"
   ],
   "metadata": {}
  },
  {
   "cell_type": "markdown",
   "source": [
    "*Du ønsker å fremstå sint på et diskusjonsforum på nett, uten den ekstra jobben det er å trykke på Caps Lock*"
   ],
   "metadata": {}
  },
  {
   "cell_type": "markdown",
   "source": [
    "Lag en funksjon som ber om input fra bruker, og skriver ut det den får i **STORE BOKSTAVER** med et utropstegn på slutten! <br>\n",
    "\n",
    "Hint:\n",
    "* str.upper()\n",
    "\n",
    "Ekstraoppgave:\n",
    "* Endre programmet til å returnere strengen i stedenfor å printe den ut"
   ],
   "metadata": {}
  },
  {
   "cell_type": "code",
   "execution_count": null,
   "source": [
    "# Skriv kode her"
   ],
   "outputs": [],
   "metadata": {
    "collapsed": true
   }
  },
  {
   "cell_type": "markdown",
   "source": [
    "## Oppgave 4\n",
    "\n",
    "Lag en funksjon som tar inn to parametre - en setning (streng) og et tegn (streng) - og som returnerer en kopi av setningen med tegnet fjernet.\n",
    "\n",
    "__Hint:__\n",
    "```\n",
    "for hver karakter i strengen:\n",
    "\thvis karakteren ikke er lik tegnet vi leter etter:\n",
    "\t\t legg til karakteren i en variabel som holder den nye setningen\n",
    "```\n",
    "\n",
    "__Ekstraoppgave:__\n",
    "* Endre funksjonen slik at den returnerer antall tegn som er fjernet\n"
   ],
   "metadata": {}
  },
  {
   "cell_type": "code",
   "execution_count": null,
   "source": [
    "# Skriv kode her"
   ],
   "outputs": [],
   "metadata": {}
  },
  {
   "cell_type": "markdown",
   "source": [
    "## Oppgave 5"
   ],
   "metadata": {}
  },
  {
   "cell_type": "markdown",
   "source": [
    "*Du vil lage en dum chatbot som svarer ja eller nei med like stor sannsynlighet*"
   ],
   "metadata": {}
  },
  {
   "cell_type": "markdown",
   "source": [
    "Lag en funksjon som tar inn et spørsmål som parameter, og skriver ut spørsmålet og svaret sitt (ja eller nei tilfeldig) <br>\n",
    "\n",
    "Hint:\n",
    "* import random\n",
    "* random.choice([«Ja», «Nei»])\n"
   ],
   "metadata": {}
  },
  {
   "cell_type": "code",
   "execution_count": null,
   "source": [
    "# Skriv kode her"
   ],
   "outputs": [],
   "metadata": {
    "collapsed": true
   }
  },
  {
   "cell_type": "markdown",
   "source": [
    "## Oppgave 6"
   ],
   "metadata": {}
  },
  {
   "cell_type": "markdown",
   "source": [
    "*Forsikring av input-type*"
   ],
   "metadata": {}
  },
  {
   "cell_type": "markdown",
   "source": [
    "* Lag en funksjon som spør bruker om et heltall, og spør igjen dersom brukeren ikke skriver inn et heltall\n",
    "* Når brukeren har skrevet inn et heltall, skal funksjonen skal returnere tallet \n",
    "\n",
    "Hint: \n",
    "* str.isnumeric() sjekker om en streng kun inneholder tall \n"
   ],
   "metadata": {}
  },
  {
   "cell_type": "code",
   "execution_count": null,
   "source": [
    "# Skriv kode her"
   ],
   "outputs": [],
   "metadata": {
    "collapsed": true
   }
  },
  {
   "cell_type": "markdown",
   "source": [
    "## Oppgave 7\n",
    "*Fakultetsfunksjon*\n",
    "* Skriv en funksjon som regner ut fakultetet til et tall og deretter returnerer svaret \n",
    "* Fakultetet er gitt ved \n",
    "$$x! = x*(x-1)*(x-2)*...*3*2*1$$"
   ],
   "metadata": {}
  },
  {
   "cell_type": "code",
   "execution_count": null,
   "source": [
    "# Skriv kode her"
   ],
   "outputs": [],
   "metadata": {
    "collapsed": true
   }
  },
  {
   "cell_type": "markdown",
   "source": [
    "## Oppgave 8 - Terningspill \n",
    "### Del 1\n",
    "*Vi skal lage et enkelt terningspill. I spillet trenger vi mulighet til å trille en terning*"
   ],
   "metadata": {}
  },
  {
   "cell_type": "markdown",
   "source": [
    "* Lag en funksjon som triller en terning, dvs. returnerer et tall fra og med 1 til og med 6\n",
    "\n",
    "Hint: \n",
    "* import random, random.randint(1, 6) \n"
   ],
   "metadata": {}
  },
  {
   "cell_type": "code",
   "execution_count": 2,
   "source": [
    "# Skriv kode her"
   ],
   "outputs": [],
   "metadata": {
    "collapsed": true
   }
  },
  {
   "cell_type": "markdown",
   "source": [
    "###  Del 2\n",
    "*En runde i spillet består av at spilleren gjetter hvor mye hen til sammen kommer til å trille, før 6 terninger trilles. Hvis hen gjettet riktig, får hen 3 poeng. Hvis hen var innenfor 5 fra riktig verdi, får hen 1 poeng.*\n",
    "\n",
    "* Lag en funksjon for å beregne poeng gitt spilleren, basert på spillerens gjett og verdien til de trillede terningene. \n",
    "\n",
    "* Lag så en funksjon for en runde, som spør spilleren om å gjette, triller terninger, og returnerer poengsummen for den runden. \n"
   ],
   "metadata": {}
  },
  {
   "cell_type": "code",
   "execution_count": null,
   "source": [
    "# Skriv kode her "
   ],
   "outputs": [],
   "metadata": {
    "collapsed": true
   }
  },
  {
   "cell_type": "markdown",
   "source": [
    "### Del 3\n",
    "*Til slutt vil vi ha mulighet til å spille hele spillet*\n",
    "\n",
    "* Husk: main() kaller de andre funksjonene og står for kommunikasjon med bruker\n",
    "\n",
    "* Spør spilleren først hvor mange runder h*n vil spille, og kjør så gjennom `<antall>` mange runder. Hold kontroll på poengsummen til brukeren, og skriv den ut til slutt. \n",
    "\n",
    "Ekstraoppgave:\n",
    "* Utvid spillet til å være for to spillere \n"
   ],
   "metadata": {}
  },
  {
   "cell_type": "code",
   "execution_count": null,
   "source": [
    "# Skriv kode her"
   ],
   "outputs": [],
   "metadata": {
    "collapsed": true
   }
  },
  {
   "cell_type": "markdown",
   "source": [
    "## Oppgave 9 \n",
    "### Del 1\n",
    "\n",
    "Lag en funksjon omkrets som gjør følgende:\n",
    "* Tar inn et tall radius som parameter\n",
    "* Returnerer omkretsen til en sirkel med radius `<radius>`\n",
    "\n",
    "Lag en funksjon areal som gjør følgende:\n",
    "* Tar inn et tall radius som parameter\n",
    "* Returnerer omkretsen til en sirkel med areal `<radius>`"
   ],
   "metadata": {}
  },
  {
   "cell_type": "code",
   "execution_count": null,
   "source": [
    "# Skriv kode her"
   ],
   "outputs": [],
   "metadata": {
    "collapsed": true
   }
  },
  {
   "cell_type": "markdown",
   "source": [
    "### Del 2\n",
    "Lag en main()-funksjon som gjør følgende:\n",
    "1. Tar inn en radius fra bruker\n",
    "2. Regner ut omkretsen av en sirkel med radius `<radius>`\n",
    "3. Regner ut arealet av en sirkel med radius `<radius>`\n",
    "4. Skriver ut resultatet fra del (2) og (3)\n"
   ],
   "metadata": {}
  },
  {
   "cell_type": "code",
   "execution_count": null,
   "source": [
    "# Skriv kode her"
   ],
   "outputs": [],
   "metadata": {
    "collapsed": true
   }
  },
  {
   "cell_type": "markdown",
   "source": [
    "### Fritt kodefelt\n"
   ],
   "metadata": {
    "collapsed": false
   }
  },
  {
   "cell_type": "code",
   "execution_count": null,
   "source": [
    "# Skriv kode her"
   ],
   "outputs": [],
   "metadata": {
    "collapsed": false,
    "pycharm": {
     "name": "#%%\n"
    }
   }
  },
  {
   "cell_type": "markdown",
   "source": [
    "## Oppgave 10"
   ],
   "metadata": {}
  },
  {
   "cell_type": "markdown",
   "source": [
    "* Skriv en funksjon som tar inn et heltall, og returnerer True hvis tallet er et primtall, ellers False\n",
    "\n",
    "* Husk: Et tall er et primtall hvis det ikke er delelig på noen andre tall enn seg selv og 1\n"
   ],
   "metadata": {}
  },
  {
   "cell_type": "code",
   "execution_count": null,
   "source": [
    "# Skriv kode her"
   ],
   "outputs": [],
   "metadata": {}
  }
 ],
 "metadata": {
  "kernelspec": {
   "display_name": "Python 3",
   "language": "python",
   "name": "python3"
  },
  "language_info": {
   "codemirror_mode": {
    "name": "ipython",
    "version": 3
   },
   "file_extension": ".py",
   "mimetype": "text/x-python",
   "name": "python",
   "nbconvert_exporter": "python",
   "pygments_lexer": "ipython3",
   "version": "3.5.2"
  }
 },
 "nbformat": 4,
 "nbformat_minor": 2
}