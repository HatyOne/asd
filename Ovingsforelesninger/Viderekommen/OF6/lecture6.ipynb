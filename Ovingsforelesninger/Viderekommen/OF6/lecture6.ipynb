{
 "cells": [
  {
   "cell_type": "markdown",
   "source": [
    "# Øvingsforelesning 6"
   ],
   "metadata": {}
  },
  {
   "cell_type": "markdown",
   "source": [
    "## Repetisjonsoppgave"
   ],
   "metadata": {}
  },
  {
   "cell_type": "markdown",
   "source": [
    "*Du skal på butikken for moren din og har fått beskjed om å huske alle gjenstandene du skal kjøpe med.* <br><br>\r\n",
    "\r\n",
    "Du har gitt en liste, `handleliste` som sier gjenstandene du skal kjøpe, og en liste `priser` som gir prisene til alle elementene i handlelisten. Det vil si at prisen til `handleliste[i]`er gitt av `priser[i]`hvor `i` er indeksen (plassen) til elementet i listene."
   ],
   "metadata": {}
  },
  {
   "cell_type": "code",
   "execution_count": null,
   "source": [
    "handleliste = [\"Melk\", \"Bananer\", \"Brus\", \"Rundstykker\", \"Godteri\", \"Bønner\", \"Nøtter\"]\r\n",
    "priser = [17, 5, 25, 15, 55, 10, 30]"
   ],
   "outputs": [],
   "metadata": {
    "collapsed": true
   }
  },
  {
   "cell_type": "markdown",
   "source": [
    "Lag en funksjon `print_handleliste` som tar inn to parametre, handlelisten og prislisten, og printer ut handleliste-elementet med korresponderende pris med `:` mellom og `'kr'` på slutten. "
   ],
   "metadata": {}
  },
  {
   "cell_type": "code",
   "execution_count": null,
   "source": [
    "# din kode her"
   ],
   "outputs": [],
   "metadata": {
    "collapsed": true
   }
  },
  {
   "cell_type": "markdown",
   "source": [
    "<br>"
   ],
   "metadata": {
    "collapsed": false
   }
  },
  {
   "cell_type": "markdown",
   "source": [
    "## Oppgave 1 - Strenger"
   ],
   "metadata": {}
  },
  {
   "cell_type": "markdown",
   "source": [
    "En full sjørobot skal legge inn en bestilling på en restaurant, og bestillingen hans er preget av masse stillhet og pauser. Lag en funksjon `understand_order()` som tar inn bestillingen på formatet under, og returner en liste av elementene sjøroboten vil ha. "
   ],
   "metadata": {}
  },
  {
   "cell_type": "code",
   "execution_count": null,
   "source": [
    "order = \"        pizza.hamburger.cookies        \""
   ],
   "outputs": [],
   "metadata": {}
  },
  {
   "cell_type": "code",
   "execution_count": null,
   "source": [
    "# kode her"
   ],
   "outputs": [],
   "metadata": {
    "collapsed": true
   }
  },
  {
   "cell_type": "markdown",
   "source": [
    "## Oppgave 2 - Strenger"
   ],
   "metadata": {}
  },
  {
   "cell_type": "markdown",
   "source": [
    "* Lag en funksjon som tar inn to ord og sjekker om de tre første bokstavene i ordene er like (ikke sensitivt for store/små bokstaver)\n",
    "* Returner `True` hvis de tre første bokstavene er like, `False` ellers\n",
    "* `«Fotball»` og `«fotografi»` skal i dette tilfellet gi `True`"
   ],
   "metadata": {}
  },
  {
   "cell_type": "code",
   "execution_count": null,
   "source": [
    "# kode her"
   ],
   "outputs": [],
   "metadata": {
    "collapsed": true
   }
  },
  {
   "cell_type": "markdown",
   "source": [
    "## Oppgave 3 - Strenger"
   ],
   "metadata": {}
  },
  {
   "cell_type": "markdown",
   "source": [
    "<img src=\"hva_printes_her.jpg\" style=\"width: 400px\">"
   ],
   "metadata": {}
  },
  {
   "cell_type": "markdown",
   "source": [
    "Dobbeltklikk på blokken under for å skrive svaret ditt."
   ],
   "metadata": {}
  },
  {
   "cell_type": "markdown",
   "source": [
    "SVAR:"
   ],
   "metadata": {}
  },
  {
   "cell_type": "code",
   "execution_count": null,
   "source": [
    "# Denne kodeblokken kan du bruke til å kladde"
   ],
   "outputs": [],
   "metadata": {
    "collapsed": true
   }
  },
  {
   "cell_type": "markdown",
   "source": [
    "## Oppgave 4 - Strenger"
   ],
   "metadata": {
    "collapsed": false
   }
  },
  {
   "cell_type": "markdown",
   "source": [
    "Lag en funksjon `alleTegn(liste)` som returnerer en liste med alle tegn dukker opp i strengene i lista, men hver bokstav er bare i lista en gang. "
   ],
   "metadata": {
    "collapsed": false
   }
  },
  {
   "cell_type": "code",
   "execution_count": null,
   "source": [
    "\r\n",
    "liste = [\"abcd\", \"bcde\", \"cdef\", \"defg\"]\r\n",
    "\r\n",
    "# Eksempel på kjøring og output:\r\n",
    "\r\n",
    "# print(alleTegn(liste))\r\n",
    "# >> ['b', 'd', 'f', 'g', 'c', 'e', 'a']"
   ],
   "outputs": [],
   "metadata": {
    "collapsed": false,
    "pycharm": {
     "name": "#%%\n"
    }
   }
  },
  {
   "cell_type": "code",
   "execution_count": null,
   "source": [
    "def alleTegn(liste):\r\n",
    "    tegnsett = set(liste[0])\r\n",
    "    for streng in liste[1:]:\r\n",
    "        for bokstav in streng:\r\n",
    "            tegnsett.add(bokstav)\r\n",
    "    return list(tegnsett)\r\n",
    "\r\n",
    "\r\n",
    "print(alleTegn(liste))"
   ],
   "outputs": [],
   "metadata": {
    "collapsed": false,
    "pycharm": {
     "name": "#%%\n"
    }
   }
  },
  {
   "cell_type": "markdown",
   "source": [
    "## Oppgave 5 - 2D-lister / Matriser"
   ],
   "metadata": {
    "collapsed": false
   }
  },
  {
   "cell_type": "markdown",
   "source": [
    "Lag en funksjon `canMove(board, y, x)` som tar inn et spillbrett på formatet nedenfor, og returnerer True dersom spilleren kan gjøre et trekk og False hvis ikke.\n",
    "\n",
    "I dette forenklede eksempelet sier vi at alle brikker oppfører seg som bonder uansett hva.\n",
    "\n",
    "Ekstraoppgave (hvis tid): Få funksjonen til å også sjekke for “spesialtilfellet” hvor det er en brikke av motsatt farge på skrå som “bonden” kan slå"
   ],
   "metadata": {
    "collapsed": false
   }
  },
  {
   "cell_type": "markdown",
   "source": [
    "Matrisen nedenfor er basert på dette brettet:\r\n",
    "<br>\r\n",
    "<img src=\"litt-sjakk.png\" style=\"width: 400px;\">"
   ],
   "metadata": {
    "collapsed": false
   }
  },
  {
   "cell_type": "code",
   "execution_count": null,
   "source": [
    "brett = [\r\n",
    "    [(\"tårn\", 's'), (\"konge\", 's'), (\"springer\", 's'), \"\", (\"tårn\", 's')],\r\n",
    "    [\"\", (\"bonde\", 's'), \"\", \"\", \"\"],\r\n",
    "    [\"\", \"\", (\"bonde\", 'h'), \"\", \"\"],\r\n",
    "    [(\"bonde\", 'h'), (\"bonde\", 'h'), \"\", (\"bonde\", 'h'), (\"bonde\", 'h')],\r\n",
    "    [(\"løper\", 'h'), \"\", (\"konge\", 'h'), \"\", \"\"]\r\n",
    "]"
   ],
   "outputs": [],
   "metadata": {
    "collapsed": false,
    "pycharm": {
     "name": "#%%\n"
    }
   }
  },
  {
   "cell_type": "code",
   "execution_count": null,
   "source": [
    "# koden din"
   ],
   "outputs": [],
   "metadata": {
    "collapsed": false,
    "pycharm": {
     "name": "#%%\n"
    }
   }
  },
  {
   "cell_type": "markdown",
   "source": [
    "## Eksamensoppgave\r\n",
    "\r\n",
    "### Oppgave a)\r\n",
    "\r\n",
    "Lag funksjonen ``home_draw_away`` som har en input-parameter ``matches`` som er en liste som\r\n",
    "inneholder informasjon om fotballkamper i siste runde ble hjemmeseier (\"H\"), uavgjort (\"U\")\r\n",
    "eller borteseier (\"B\").\r\n",
    "\r\n",
    "Funksjonen skal returnere ei liste med 3 tall, der det første tallet er antallet hjemmeseire, det\r\n",
    "andre tallet er antallet uavgjort, og det siste tallet er antallet borteseiere. Funksjonen skal\r\n",
    "fungere på lister av ulik lengde, skal fungere for stor og liten bokstav for H, U og B, samt at\r\n",
    "den skal ignorere resultat som ikke er H, U, eller B.\r\n",
    "\r\n",
    "Eksempel på kjøring av kode: \r\n",
    "<br>\r\n",
    "<img src=\"eksempelpakjoring21.png\" style=\"width: 400px;\">\r\n"
   ],
   "metadata": {}
  },
  {
   "cell_type": "code",
   "execution_count": null,
   "source": [
    "matches = (\"H\", \"u\", \"B\", \"h\", \"b\", \"H\", \"U\", \"H\", \"h\", \"B\", \"H\", \"U\", \"x\", \"h\", \"U\")\r\n",
    "\r\n",
    "def home_draw_away(matches):\r\n",
    "    #koden din her\r\n",
    "\r\n",
    "res = home_draw_away(matches)\r\n",
    "print(res)"
   ],
   "outputs": [],
   "metadata": {}
  },
  {
   "cell_type": "markdown",
   "source": [
    "## Oppgave b)\r\n",
    "\r\n",
    "Lag funksjon ``pos_vocals`` som tar inn en parameter ``text`` som er en tekststreng og returnerer\r\n",
    "posisjonen til alle norske vokaler i strengen ``text`` som ei liste. Funksjonen skal fungere for\r\n",
    "vokaler skrevet med stor og liten bokstav.\r\n",
    "\r\n",
    "Eksempel på kjøring av kode:\r\n",
    "\r\n",
    "```python\r\n",
    "test = \"DettE er et eksempel pÅ lAng liste med vokaler\"\r\n",
    "pos = pos_vocals(test)\r\n",
    "print(pos)\r\n",
    "[1, 4, 6, 9, 12, 15, 18, 22, 25, 30, 33, 36, 40, 42, 44]\r\n",
    "```"
   ],
   "metadata": {}
  },
  {
   "cell_type": "code",
   "execution_count": null,
   "source": [
    "test = \"DettE er et eksempel pÅ lAng liste med vokaler\"\r\n",
    "\r\n",
    "def pos_vocals(text):\r\n",
    "    #koden din her\r\n",
    "\r\n",
    "print(pos_vocals(test))"
   ],
   "outputs": [],
   "metadata": {}
  },
  {
   "cell_type": "markdown",
   "source": [
    "Lag funksjon ``unique`` som har en inn-parameter ``text`` som er en tekststreng.\r\n",
    "\r\n",
    "Funksjonen skal returnere en liste med alle unike ord i teksten skrevet med små bokstaver.\r\n",
    "Rekkefølgen ordene i lista har er ikke bestemt. Merk at funksjonen skal returnere kun ord og\r\n",
    "tegn som man typisk har i en setning skal fjernes. Man kan anta at tekstrengen starter med en\r\n",
    "bokstav, at ordene er adskilt med mellomrom, at man ikke har tegn inne i et ord, og at man\r\n",
    "ikke har flere enn et tegn etter hverandre.\r\n",
    "\r\n",
    "Eksempel på kjøring av kode:\r\n",
    "```python\r\n",
    "test = \"Er dette greit, eller er det IKKE greit? Det er greit tror jeg!\"\r\n",
    "words = unique(test)\r\n",
    "print(words)\r\n",
    ">>> [\"er\", \"dette\", \"greit\", \"eller\", \"det\", \"ikke\", \"tror\", \"jeg\"]\r\n",
    "```"
   ],
   "metadata": {}
  },
  {
   "cell_type": "code",
   "execution_count": null,
   "source": [
    "test = \"Er dette greit, eller er det IKKE greit? Det er greit tror jeg!\"\r\n",
    "tegn = '.,:;?!-_*@+'\r\n",
    "#løsning med liste\r\n",
    "\r\n",
    "def unique(test):\r\n",
    "    # koden din her\r\n",
    "\r\n"
   ],
   "outputs": [],
   "metadata": {}
  }
 ],
 "metadata": {
  "kernelspec": {
   "name": "python3",
   "display_name": "Python 3.6.2 32-bit"
  },
  "language_info": {
   "codemirror_mode": {
    "name": "ipython",
    "version": 3
   },
   "file_extension": ".py",
   "mimetype": "text/x-python",
   "name": "python",
   "nbconvert_exporter": "python",
   "pygments_lexer": "ipython3",
   "version": "3.6.2"
  },
  "interpreter": {
   "hash": "701e255ce9e6ffc7be21cb678d8777de32a36d9572a61b0e9645a07eb5a2e63f"
  }
 },
 "nbformat": 4,
 "nbformat_minor": 2
}