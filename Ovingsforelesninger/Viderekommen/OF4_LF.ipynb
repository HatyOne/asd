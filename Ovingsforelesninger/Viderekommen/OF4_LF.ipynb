{
 "cells": [
  {
   "cell_type": "markdown",
   "source": [
    "# Øvingsforelesning 4 | Viderekommen parallell"
   ],
   "metadata": {}
  },
  {
   "cell_type": "markdown",
   "source": [
    "## Repetisjonsoppgave"
   ],
   "metadata": {}
  },
  {
   "cell_type": "markdown",
   "source": [
    "### Lag et program som gjør følgende:\n",
    "* Tar inn et heltall max_rand_int fra brukeren\n",
    "* Tar inn et heltall target fra brukeren\n",
    "* Genererer tilfeldige tall mellom 0 og max_rand_int, helt til det genererer target\n",
    "* Printer hvert genererte tall"
   ],
   "metadata": {}
  },
  {
   "cell_type": "code",
   "execution_count": null,
   "source": [
    "# Skriv kode her\n",
    "\n",
    "from random import randint\n",
    "\n",
    "max_rand_int = 20\n",
    "target = 4\n",
    "\n",
    "rand_num = -1\n",
    "\n",
    "while rand_num != target:\n",
    "    rand_num = randint(0, max_rand_int)\n",
    "    print(rand_num)"
   ],
   "outputs": [],
   "metadata": {}
  },
  {
   "cell_type": "markdown",
   "source": [
    "## Oppgave 1"
   ],
   "metadata": {}
  },
  {
   "cell_type": "markdown",
   "source": [
    "*Matematiske funksjoner i Python*"
   ],
   "metadata": {}
  },
  {
   "cell_type": "markdown",
   "source": [
    "Lag en funksjon som gjør følgende:\n",
    "1. Tar inn parameter x\n",
    "2. Utfører operasjoner som svarer til den matematiske funksjonen\n",
    "$$f(x) = x^2 + 2x -3 $$\n",
    "3. __returnerer__ svaret\n",
    "\n",
    "<br>"
   ],
   "metadata": {}
  },
  {
   "cell_type": "code",
   "execution_count": null,
   "source": [
    "# Skriv kode her\n",
    "\n",
    "def f(x):\n",
    "    res = x**2 -2*x -3\n",
    "    return res"
   ],
   "outputs": [],
   "metadata": {
    "collapsed": true
   }
  },
  {
   "cell_type": "markdown",
   "source": [
    "## Oppgave 2\n",
    "\n",
    "Lag en funksjon som tar inn et parameter x og som returnerer absoluttverdien av x, uten å bruke innebygde funksjoner!\n",
    "\n",
    "Altså, implementer den matematiske funksjonen $$f(x) = |x| $$\n",
    "* f(1) = 1\n",
    "* f(-1) = 1\n",
    "* f(100) = 100\n",
    "* f(-100) = 100\n"
   ],
   "metadata": {}
  },
  {
   "cell_type": "code",
   "execution_count": null,
   "source": [
    "# Skriv kode her\n",
    "\n",
    "def absolute_value(num):\n",
    "    if num < 0:\n",
    "        return num * -1\n",
    "    else:\n",
    "        return num"
   ],
   "outputs": [],
   "metadata": {}
  },
  {
   "cell_type": "markdown",
   "source": [
    "## Oppgave 3"
   ],
   "metadata": {}
  },
  {
   "cell_type": "markdown",
   "source": [
    "*Du ønsker å fremstå sint på et diskusjonsforum på nett, uten den ekstra jobben det er å trykke på Caps Lock*"
   ],
   "metadata": {}
  },
  {
   "cell_type": "markdown",
   "source": [
    "Lag en funksjon som ber om input fra bruker, og skriver ut det den får i **STORE BOKSTAVER** med et utropstegn på slutten! <br>\n",
    "\n",
    "Hint:\n",
    "* str.upper()\n",
    "\n",
    "Ekstraoppgave:\n",
    "* Endre programmet til å returnere strengen i stedenfor å printe den ut"
   ],
   "metadata": {}
  },
  {
   "cell_type": "code",
   "execution_count": null,
   "source": [
    "# Skriv kode her\n",
    "\n",
    "def angrify_sentences():\n",
    "    s = input(\"Give me a sentence: \")\n",
    "    return s.upper() + \"!😡\"\n",
    "\n",
    "print(angrify_sentences())"
   ],
   "outputs": [],
   "metadata": {
    "collapsed": true
   }
  },
  {
   "cell_type": "markdown",
   "source": [
    "## Oppgave 4\n",
    "\n",
    "Lag en funksjon som tar inn to parametre - en setning (streng) og et tegn (streng) - og som returnerer en kopi av setningen med tegnet fjernet.\n",
    "\n",
    "__Hint:__\n",
    "```\n",
    "for hver karakter i strengen:\n",
    "\thvis karakteren ikke er lik tegnet vi leter etter:\n",
    "\t\t legg til karakteren i en variabel som holder den nye setningen\n",
    "```\n",
    "\n",
    "__Ekstraoppgave:__\n",
    "* Endre funksjonen slik at den returnerer antall tegn som er fjernet\n"
   ],
   "metadata": {}
  },
  {
   "cell_type": "code",
   "execution_count": null,
   "source": [
    "# Skriv kode her\n",
    "\n",
    "def remove_char(sentence, char):\n",
    "    res = \"\"\n",
    "    num = 0\n",
    "    for c in sentence:\n",
    "        if c != char:\n",
    "            res += c\n",
    "        else:\n",
    "            num += 1\n",
    "    return res, num\n",
    "\n",
    "\n",
    "# Eksempelkall\n",
    "c = ','\n",
    "sentence, num_removed_chars =  remove_char(\"Jeg liker epler, pærer, bananer, jordbær og guava.\", c)\n",
    "print(f\"The sentence with '{c}' removed is \\n\\n{sentence}\\n\\nNumber of {c}'s removed: {num_removed_chars}\")"
   ],
   "outputs": [],
   "metadata": {}
  },
  {
   "cell_type": "markdown",
   "source": [
    "## Oppgave 5"
   ],
   "metadata": {}
  },
  {
   "cell_type": "markdown",
   "source": [
    "*Du vil lage en dum chatbot som svarer ja eller nei med like stor sannsynlighet*"
   ],
   "metadata": {}
  },
  {
   "cell_type": "markdown",
   "source": [
    "Lag en funksjon som tar inn et spørsmål som parameter, og skriver ut spørsmålet og svaret sitt (ja eller nei tilfeldig) <br>\n",
    "\n",
    "Hint:\n",
    "* import random\n",
    "* random.choice([«Ja», «Nei»])\n"
   ],
   "metadata": {}
  },
  {
   "cell_type": "code",
   "execution_count": null,
   "source": [
    "# Skriv kode her\n",
    "\n",
    "from random import choice\n",
    "\n",
    "def chatbot(spm):\n",
    "    print(spm)\n",
    "    print(choice(['Ja', 'Nei']))\n",
    "\n",
    "chatbot(\"Er himmelen blå i dag?\")"
   ],
   "outputs": [],
   "metadata": {
    "collapsed": true
   }
  },
  {
   "cell_type": "markdown",
   "source": [
    "## Oppgave 6"
   ],
   "metadata": {}
  },
  {
   "cell_type": "markdown",
   "source": [
    "*Forsikring av input-type*"
   ],
   "metadata": {}
  },
  {
   "cell_type": "markdown",
   "source": [
    "* Lag en funksjon som spør bruker om et heltall, og spør igjen dersom brukeren ikke skriver inn et heltall\n",
    "* Når brukeren har skrevet inn et heltall, skal funksjonen skal returnere tallet \n",
    "\n",
    "Hint: \n",
    "* str.isnumeric() sjekker om en streng kun inneholder tall \n"
   ],
   "metadata": {}
  },
  {
   "cell_type": "code",
   "execution_count": null,
   "source": [
    "# Skriv kode her\n",
    "\n",
    "def get_number():\n",
    "    ans = input(\"Enter a number: \")\n",
    "    while not ans.isnumeric():\n",
    "        ans = input(\"Wrong type. Enter an integer: \")\n",
    "    return int(ans)\n",
    "\n",
    "a = get_number()\n",
    "print(a+10)"
   ],
   "outputs": [],
   "metadata": {
    "collapsed": true
   }
  },
  {
   "cell_type": "markdown",
   "source": [
    "## Oppgave 7\n",
    "*Fakultetsfunksjon*\n",
    "* Skriv en funksjon som regner ut fakultetet til et tall og deretter returnerer svaret \n",
    "* Fakultetet er gitt ved \n",
    "$$x! = x*(x-1)*(x-2)*...*3*2*1$$"
   ],
   "metadata": {}
  },
  {
   "cell_type": "code",
   "execution_count": null,
   "source": [
    "# Skriv kode her\n",
    "\n",
    "def factorial(x):\n",
    "    res = x\n",
    "    for i in range(x-1, 0, -1):\n",
    "        res *= i\n",
    "    return res\n",
    "\n",
    "print(factorial(5))"
   ],
   "outputs": [],
   "metadata": {
    "collapsed": true
   }
  },
  {
   "cell_type": "markdown",
   "source": [
    "## Oppgave 8 - Terningspill \n",
    "### Del 1\n",
    "*Vi skal lage et enkelt terningspill. I spillet trenger vi mulighet til å trille en terning*"
   ],
   "metadata": {}
  },
  {
   "cell_type": "markdown",
   "source": [
    "* Lag en funksjon som triller en terning, dvs. returnerer et tall fra og med 1 til og med 6\n",
    "\n",
    "Hint: \n",
    "* import random, random.randint(1, 6) \n"
   ],
   "metadata": {}
  },
  {
   "cell_type": "code",
   "execution_count": 2,
   "source": [
    "# Skriv kode her\n",
    "\n",
    "from random import randint\n",
    "\n",
    "def roll_dice():\n",
    "    return randint(1, 6)"
   ],
   "outputs": [],
   "metadata": {
    "collapsed": true
   }
  },
  {
   "cell_type": "markdown",
   "source": [
    "###  Del 2\n",
    "*En runde i spillet består av at spilleren gjetter hvor mye hen til sammen kommer til å trille, før 6 terninger trilles. Hvis hen gjettet riktig, får hen 3 poeng. Hvis hen var innenfor 5 fra riktig verdi, får hen 1 poeng.*\n",
    "\n",
    "* Lag en funksjon for å beregne poeng gitt spilleren, basert på spillerens gjett og verdien til de trillede terningene. \n",
    "\n",
    "* Lag så en funksjon for en runde, som spør spilleren om å gjette, triller terninger, og returnerer poengsummen for den runden. \n"
   ],
   "metadata": {}
  },
  {
   "cell_type": "code",
   "execution_count": null,
   "source": [
    "# Skriv kode her \n",
    "\n",
    "def compute_points(guess):\n",
    "    total_rolled_dice = 0\n",
    "    won_points = 0\n",
    "\n",
    "    for i in range(6):\n",
    "        total_rolled_dice += roll_dice()\n",
    "    # Hvis vi har gjettet riktig\n",
    "    if guess == total_rolled_dice:\n",
    "        won_points += 3\n",
    "    # Hvis vi har gjettet innen en avstand på 5\n",
    "    elif abs(guess - total_rolled_dice) < 5:\n",
    "        won_points += 1\n",
    "    \n",
    "    return won_points"
   ],
   "outputs": [],
   "metadata": {
    "collapsed": true
   }
  },
  {
   "cell_type": "markdown",
   "source": [
    "### Del 3\n",
    "*Til slutt vil vi ha mulighet til å spille hele spillet*\n",
    "\n",
    "* Husk: main() kaller de andre funksjonene og står for kommunikasjon med bruker\n",
    "\n",
    "* Spør spilleren først hvor mange runder h*n vil spille, og kjør så gjennom `<antall>` mange runder. Hold kontroll på poengsummen til brukeren, og skriv den ut til slutt. \n",
    "\n",
    "Ekstraoppgave:\n",
    "* Utvid spillet til å være for to spillere \n"
   ],
   "metadata": {}
  },
  {
   "cell_type": "code",
   "execution_count": null,
   "source": [
    "# Skriv kode her\n",
    "\n",
    "def main():\n",
    "    rounds = int(input(\"Hvor mange runder vil du spille? \"))\n",
    "    total_points = 0\n",
    "    \n",
    "    for i in range(rounds):\n",
    "        guess = int(input(\"Gjett på summen etter 6 terningkast: \"))\n",
    "        total_points += compute_points(guess)\n",
    "\n",
    "    print(\"Spillet er ferdig!\")\n",
    "    print(f\"Du fikk {total_points} poeng.\")\n",
    "\n",
    "\n",
    "main()"
   ],
   "outputs": [],
   "metadata": {
    "collapsed": true
   }
  },
  {
   "cell_type": "markdown",
   "source": [
    "## Oppgave 9 \n",
    "### Del 1\n",
    "\n",
    "Lag en funksjon omkrets som gjør følgende:\n",
    "* Tar inn et tall radius som parameter\n",
    "* Returnerer omkretsen til en sirkel med radius `<radius>`\n",
    "\n",
    "Lag en funksjon areal som gjør følgende:\n",
    "* Tar inn et tall radius som parameter\n",
    "* Returnerer omkretsen til en sirkel med areal `<radius>`"
   ],
   "metadata": {}
  },
  {
   "cell_type": "code",
   "execution_count": null,
   "source": [
    "# Skriv kode her\n",
    "\n",
    "from math import pi\n",
    "\n",
    "def omkrets(r):\n",
    "    return 2*pi*r\n",
    "\n",
    "def areal(r):\n",
    "    return pi*r**2"
   ],
   "outputs": [],
   "metadata": {
    "collapsed": true
   }
  },
  {
   "cell_type": "markdown",
   "source": [
    "### Del 2\n",
    "Lag en main()-funksjon som gjør følgende:\n",
    "1. Tar inn en radius fra bruker\n",
    "2. Regner ut omkretsen av en sirkel med radius `<radius>`\n",
    "3. Regner ut arealet av en sirkel med radius `<radius>`\n",
    "4. Skriver ut resultatet fra del (2) og (3)\n"
   ],
   "metadata": {}
  },
  {
   "cell_type": "code",
   "execution_count": null,
   "source": [
    "# Skriv kode her\n",
    "\n",
    "def main():\n",
    "    r = float(input(\"Enter radius: \"))\n",
    "    \n",
    "    o = omkrets(r)\n",
    "    a = areal(r)\n",
    "\n",
    "    print(f\"A circle with radius {r} has circumference {format(o, '.3f')} and area {format(a, '.3f')}.\")\n",
    "\n",
    "\n",
    "main()"
   ],
   "outputs": [],
   "metadata": {
    "collapsed": true
   }
  },
  {
   "cell_type": "markdown",
   "source": [
    "## Oppgave 10"
   ],
   "metadata": {}
  },
  {
   "cell_type": "markdown",
   "source": [
    "* Skriv en funksjon som tar inn et heltall, og returnerer True hvis tallet er et primtall, ellers False\n",
    "\n",
    "* Husk: Et tall er et primtall hvis det ikke er delelig på noen andre tall enn seg selv og 1\n"
   ],
   "metadata": {}
  },
  {
   "cell_type": "code",
   "execution_count": null,
   "source": [
    "# Skriv kode her\n",
    "\n",
    "def is_prime(num):\n",
    "    for i in range(2, num):\n",
    "        if num % i == 0:\n",
    "            return False\n",
    "    return True"
   ],
   "outputs": [],
   "metadata": {}
  }
 ],
 "metadata": {
  "kernelspec": {
   "display_name": "Python 3",
   "language": "python",
   "name": "python3"
  },
  "language_info": {
   "codemirror_mode": {
    "name": "ipython",
    "version": 3
   },
   "file_extension": ".py",
   "mimetype": "text/x-python",
   "name": "python",
   "nbconvert_exporter": "python",
   "pygments_lexer": "ipython3",
   "version": "3.5.2"
  }
 },
 "nbformat": 4,
 "nbformat_minor": 2
}