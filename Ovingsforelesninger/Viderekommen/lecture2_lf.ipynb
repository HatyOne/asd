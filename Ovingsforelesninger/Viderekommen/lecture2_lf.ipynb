{
 "cells": [
  {
   "cell_type": "markdown",
   "source": [
    "# Øvingsforelesning 2 - ITGK"
   ],
   "metadata": {}
  },
  {
   "cell_type": "markdown",
   "source": [
    "### Logiske uttrykk, betingelser og if-setninger"
   ],
   "metadata": {}
  },
  {
   "cell_type": "markdown",
   "source": [
    "## Eksempel\r\n",
    "Ulike måter å formatere strenger på"
   ],
   "metadata": {}
  },
  {
   "cell_type": "code",
   "execution_count": 2,
   "source": [
    "navn = \"Tobias\"\r\n",
    "sted = \"Oppdal\"\r\n",
    "\r\n",
    "#Alternativ 1: ,\r\n",
    "print(navn, \"kommer fra\", sted)\r\n",
    "\r\n",
    "#Alternativ 2: % formatering\r\n",
    "print(\"%s kommer fra %s\" % (navn, sted))\r\n",
    "\r\n",
    "#Alternativ 3: str.format()\r\n",
    "print(\"{} kommer fra {}\".format(navn,sted))\r\n",
    "print(\"{navn} kommer fra {sted}\".format(navn=navn,sted=sted))\r\n",
    "\r\n",
    "#Alternativ 4: f string\r\n",
    "print(f\"{navn} kommer fra {sted}\")"
   ],
   "outputs": [
    {
     "output_type": "stream",
     "name": "stdout",
     "text": [
      "Tobias komme fra Oppdal\n",
      "Tobias kommer fra Oppdal\n",
      "Tobias kommer fra Oppdal\n",
      "Tobias kommer fra Oppdal\n",
      "Tobias kommer fra Oppdal\n"
     ]
    }
   ],
   "metadata": {}
  },
  {
   "cell_type": "markdown",
   "source": [
    "## Oppgave 1: Repetisjon"
   ],
   "metadata": {}
  },
  {
   "cell_type": "markdown",
   "source": [
    "**Lag et program som gjør følgende:**\r\n",
    "1. Spør om to tall fra brukeren og lagrer disse som variabler\r\n",
    "2. Finner ut hvilket av tallene som er det minste\r\n",
    "3. Skriver ut \"(z) er det minste tallet av (x) og (y)\""
   ],
   "metadata": {}
  },
  {
   "cell_type": "code",
   "execution_count": 3,
   "source": [
    "# Skriv koden din her"
   ],
   "outputs": [],
   "metadata": {
    "collapsed": true
   }
  },
  {
   "cell_type": "markdown",
   "source": [
    "## Oppgave 2: Repetisjon"
   ],
   "metadata": {}
  },
  {
   "cell_type": "markdown",
   "source": [
    "**Lag et program som gjør følgende:**\n",
    "1. Ber om radius og høyde fra en bruker og lagrerdette i variabler \n",
    "2. Regner ut volumet til en sylinder med denne høyden og radiusen\n",
    "3. Skriver ut volumet med fem desimalers nøyaktighet"
   ],
   "metadata": {}
  },
  {
   "cell_type": "markdown",
   "source": [
    "*Hint:* \n",
    "* $ V = \\frac{\\pi r^2h}{3}$\n",
    "* `round(tall, desimaler)`"
   ],
   "metadata": {}
  },
  {
   "cell_type": "code",
   "execution_count": 1,
   "source": [
    "from math import pi\r\n",
    "radius = float(input(\"Radius: \"))\r\n",
    "height = float(input(\"Height: \"))\r\n",
    "\r\n",
    "volum = (pi*radius**2*height)/3\r\n",
    "print(round(volum, 5))"
   ],
   "outputs": [
    {
     "output_type": "stream",
     "name": "stdout",
     "text": [
      "1047.19755\n"
     ]
    }
   ],
   "metadata": {
    "collapsed": true
   }
  },
  {
   "cell_type": "markdown",
   "source": [
    "## Boolske uttrykk, prøv selv"
   ],
   "metadata": {}
  },
  {
   "cell_type": "code",
   "execution_count": 1,
   "source": [
    "a = True\r\n",
    "b = False\r\n",
    "x = 23\r\n",
    "y = 26\r\n",
    "\r\n",
    "z = x + 2 == y\r\n",
    "print(z)\r\n",
    "w = not((a and b) or x != y)\r\n",
    "print(w)\r\n",
    "u = a is not b and ((y - 4) <= x)\r\n",
    "print(u)"
   ],
   "outputs": [
    {
     "output_type": "stream",
     "name": "stdout",
     "text": [
      "False\n",
      "False\n",
      "True\n"
     ]
    }
   ],
   "metadata": {}
  },
  {
   "cell_type": "markdown",
   "source": [
    "## Oppgave 3"
   ],
   "metadata": {}
  },
  {
   "cell_type": "markdown",
   "source": [
    "**Skriv et program som gjør følgende:** \n",
    "1. Spør en bruker om tre tall, ett om gangen\n",
    "2. Sjekker om summen av de to første er lik det tredje\n",
    "3. Skriver ut resultatet til bruker\n"
   ],
   "metadata": {}
  },
  {
   "cell_type": "markdown",
   "source": [
    "*Hint:* \n",
    "* `a + b == c`\n"
   ],
   "metadata": {}
  },
  {
   "cell_type": "code",
   "execution_count": 3,
   "source": [
    "tall1 = int(input(\"Tall 1: \"))\r\n",
    "tall2 = int(input(\"Tall 2: \"))\r\n",
    "tall3 = int(input(\"Tall 3: \"))\r\n",
    "sjekk = tall1 + tall2 == tall3\r\n",
    "print(sjekk)"
   ],
   "outputs": [
    {
     "output_type": "stream",
     "name": "stdout",
     "text": [
      "False\n"
     ]
    }
   ],
   "metadata": {
    "collapsed": true
   }
  },
  {
   "cell_type": "markdown",
   "source": [
    "## Oppgave 4"
   ],
   "metadata": {}
  },
  {
   "cell_type": "markdown",
   "source": [
    "Skriv et program som tar inn et tall og sjekker om det er et partall <br>\n",
    "\n",
    "*Hint:*\n",
    "* Sjekk om resten er 0 når det deles på 2\n",
    "\n",
    "**Ekstraoppgave**\n",
    "* Skriv ut om det er partall eller oddetall\n"
   ],
   "metadata": {}
  },
  {
   "cell_type": "code",
   "execution_count": 7,
   "source": [
    "tall = int(input(\"Tall: \"))\r\n",
    "\r\n",
    "er_partall = tall % 2 == 0\r\n",
    "\r\n",
    "print(f\"Er {tall} partall? {er_partall}\")"
   ],
   "outputs": [
    {
     "output_type": "stream",
     "name": "stdout",
     "text": [
      "Er 3 partall? False\n"
     ]
    }
   ],
   "metadata": {
    "collapsed": true
   }
  },
  {
   "cell_type": "markdown",
   "source": [
    "## Oppgave 5"
   ],
   "metadata": {}
  },
  {
   "cell_type": "markdown",
   "source": [
    "Lag et program som ber om et passord og sjekker om det er likt et passord som du har lagret  i en variabel i koden. <br>\n",
    "\n",
    "*Hint:*\n",
    "* a == b\n",
    "* Start med å opprette en variabel “passord” som inneholder passordet ditt.\n",
    "\n",
    "**Ekstraoppgave**\n",
    "* Sjekk om det er likt uavhengig av små eller store bokstaver\n"
   ],
   "metadata": {}
  },
  {
   "cell_type": "code",
   "execution_count": 11,
   "source": [
    "passord = \"appelsin\"\r\n",
    "\r\n",
    "input_passord = input(\"Skriv inn ditt passord: \")\r\n",
    "\r\n",
    "print(input_passord.lower() == passord.lower())"
   ],
   "outputs": [
    {
     "output_type": "stream",
     "name": "stdout",
     "text": [
      "True\n"
     ]
    }
   ],
   "metadata": {
    "collapsed": true
   }
  },
  {
   "cell_type": "markdown",
   "source": [
    "## Oppgave 6 "
   ],
   "metadata": {}
  },
  {
   "cell_type": "markdown",
   "source": [
    "Lag et program som tar inn et tall og skriver ut ` \"(tall) er et partall\"` hvis det er et partall <br>\n",
    "\n",
    "*Hint:*\n",
    "* `if <logisk uttrykk>:`\n",
    "\n",
    "**Ekstraoppgave:**\n",
    "* Print ut «<tall> er et oddetall» hvis det er oddetall\n"
   ],
   "metadata": {}
  },
  {
   "cell_type": "code",
   "execution_count": 18,
   "source": [
    "tall = int(input(\"Tall: \"))\r\n",
    "\r\n",
    "er_partall = tall % 2 == 0\r\n",
    "\r\n",
    "if er_partall:\r\n",
    "    print(f\"{tall} er et partall!\")\r\n",
    "elif not er_partall:\r\n",
    "    print(f\"{tall} er et oddetall!\")\r\n",
    "\r\n",
    "konklusjon = f\"{tall} er et partall!\" if er_partall else f\"{tall} er et oddetall!\"\r\n",
    "print(konklusjon)"
   ],
   "outputs": [
    {
     "output_type": "stream",
     "name": "stdout",
     "text": [
      "5 er et oddetall!\n",
      "5 er et oddetall!\n"
     ]
    }
   ],
   "metadata": {
    "collapsed": true
   }
  },
  {
   "cell_type": "markdown",
   "source": [
    "## Oppgave 7 \n",
    "Lag et program som spør om et etternavn. Hvis det er likt ditt etternavn skal det skrive ut `«Dette er en match!!»`"
   ],
   "metadata": {}
  },
  {
   "cell_type": "code",
   "execution_count": 20,
   "source": [
    "ditt_navn = input(\"Hva er etternavnet ditt?\")\r\n",
    "if ditt_navn.lower() == \"ørstad\":\r\n",
    "    print(\"Dette er en match!\")"
   ],
   "outputs": [
    {
     "output_type": "stream",
     "name": "stdout",
     "text": [
      "Dette er en match!\n"
     ]
    }
   ],
   "metadata": {
    "collapsed": true
   }
  },
  {
   "cell_type": "markdown",
   "source": [
    "## Oppgave 8 \n",
    "Lag et program som tar inn to tall. Programmet skal skrive ut `”(tall1) er større enn eller lik (tall2)”` eller`”(tall1) er mindre enn (tall2)” `avhengig av tallene. <br>\n",
    "\n",
    "*Hint:*\n",
    "* `tall1 > tall2`\n",
    "\n",
    "**Ekstraoppgave:**\n",
    "* Utvid programmet til å gi en spesiell beskjed dersom tallene er like\n"
   ],
   "metadata": {}
  },
  {
   "cell_type": "code",
   "execution_count": 24,
   "source": [
    "tall1 = int(input(\"Tall1: \"))\r\n",
    "tall2 = int(input(\"Tall2: \"))\r\n",
    "\r\n",
    "if tall1 == tall2:\r\n",
    "    print(f\"Tallene er like!\")\r\n",
    "elif tall1 > tall2:\r\n",
    "    print(f\"{tall1} er større enn {tall2}\")\r\n",
    "else:\r\n",
    "    print(f\"{tall1} er mindre enn {tall2}\")"
   ],
   "outputs": [
    {
     "output_type": "stream",
     "name": "stdout",
     "text": [
      "Tallene er like!\n"
     ]
    }
   ],
   "metadata": {
    "collapsed": true
   }
  },
  {
   "cell_type": "markdown",
   "source": [
    "## Oppgave 9\n",
    "Kjell trenger help til å bestemme hva han skal ha med til lunsj. Han har en regel han vil følge, men sliter med å huske den. Regelen er: \n",
    "* På mandag, onsdag og fredag spiser han brødskive med geitost\n",
    "* På tirsdag og torsdag spiser han rundstykke med salami\n",
    "\n",
    "Lag et program der Kjell kan skrive inn hvilken ukedag et er, og deretter få vite hva han skal ha til lunsj\n"
   ],
   "metadata": {}
  },
  {
   "cell_type": "code",
   "execution_count": 28,
   "source": [
    "ukedag = input(\"Hvilken dag er det?\").lower()\r\n",
    "if ukedag == \"mandag\" or ukedag == \"onsdag\" or ukedag == \"fredag\":\r\n",
    "    print(\"Brødskive med geitost\")\r\n",
    "elif ukedag == \"tirsdag\" or ukedag == \"torsdag\":\r\n",
    "    print(\"Rundstykke med salami\")\r\n",
    "else:\r\n",
    "    print(\"Skriv en ukedag!\")"
   ],
   "outputs": [
    {
     "output_type": "stream",
     "name": "stdout",
     "text": [
      "Brødskive med geitost\n"
     ]
    }
   ],
   "metadata": {
    "collapsed": true
   }
  },
  {
   "cell_type": "markdown",
   "source": [
    "## Oppgave 10\n",
    "**Lage et program som gjør følgende:**\n",
    "* Tar inn to tall (kalt `tall1` og `tall2`). \n",
    "* Dersom de er like skal programmet skrive ut `”Gratulerer, tallene er like” `\n",
    "* Hvis `tall1` er større enn `tall2` skal det skrive ut ”`Tall1 er <differanse mellom tallene> større enn tall2`”. \n",
    "* Dersom `tall2` er større enn `tall1` skal programmet skrive ut ”`Tall1 er <differanse mellom tallene> mindre enn tall2`”.\n",
    "* Til slutt skal programmet skrive ut ”`Takk for denne gang`” \n"
   ],
   "metadata": {}
  },
  {
   "cell_type": "code",
   "execution_count": 32,
   "source": [
    "tall1 = int(input(\"Tall1: \"))\r\n",
    "tall2 = int(input(\"Tall2: \"))\r\n",
    "\r\n",
    "if tall1 == tall2:\r\n",
    "    print(\"Gratulerer, tallene er like!\")\r\n",
    "elif tall1 > tall2:\r\n",
    "    print(f\"{tall1} er {tall1-tall2} større enn {tall2}\")\r\n",
    "else:\r\n",
    "    print(f\"{tall1} er {tall2-tall1} mindre enn {tall2}\")\r\n",
    "    \r\n",
    "print(\"Takk for denne gang!\")"
   ],
   "outputs": [
    {
     "output_type": "stream",
     "name": "stdout",
     "text": [
      "2 er 2 mindre enn 4\n",
      "Takk for denne gang!\n"
     ]
    }
   ],
   "metadata": {
    "collapsed": true
   }
  },
  {
   "cell_type": "markdown",
   "source": [
    "## Oppgave 12\n",
    "Lag et program som tar inn en tekststreng fra brukeren. Ut i fra strengen kan følgende fire ting skje\n",
    "<br>\n",
    "1. Dersom strengen er lik `”IalwaysCheat”` skal programmet skrive ut `”Juksing er ikke lov, prøv igjen senere” `\n",
    "2. Ellers, dersom lengden på strengen er større enn 4 og mindre enn 10 skal programmet skrive ut `”Dette var en streng med perfekt lengde”`. \n",
    " * `len(streng)` gir lengden på strengen med navn ”streng”. \n",
    "3. Ellers, hvis strengen starter på `”hei”` og har mer enn 6 tegn skal programmet skrive ut `”Hei på deg også”`\n",
    " * Hint: streng.startswith(\"hei\") gir True hvis strengen starter med ”hei” \n",
    "4. Ellers skal programmet skrive ut `”Dette var en kjedelig streng”`\n"
   ],
   "metadata": {}
  },
  {
   "cell_type": "code",
   "execution_count": 38,
   "source": [
    "tekst = input(\"Skriv inn noe her:\")\r\n",
    "\r\n",
    "if tekst == \"IalwaysCheat\":\r\n",
    "    print(\"Juksing er ikke lov, prøv igjen!\")\r\n",
    "elif len(tekst) > 4 and len(tekst) < 10:\r\n",
    "    print(\"Dette var en streng med perfekt lengde.\")\r\n",
    "elif tekst.lower().startswith(\"hei\") and len(tekst) > 6:\r\n",
    "    print(\"Hei på deg også!\")\r\n",
    "else:\r\n",
    "    print(\"kjedelig streng..\")"
   ],
   "outputs": [
    {
     "output_type": "stream",
     "name": "stdout",
     "text": [
      "kjedelig streng..\n"
     ]
    }
   ],
   "metadata": {
    "collapsed": true
   }
  },
  {
   "cell_type": "markdown",
   "source": [
    "## Bonus oppgave \r\n",
    "\r\n",
    "* Lag et program som spør brukeren hvor mye tid de sover hver dag.\r\n",
    "* Dersom brukeren svarer et tall over 24 skal du printe at de lyver.\r\n",
    "* Dersom de ikke lyver skal du spørre hvor mange timer de bruker på skolen hver dag.\r\n",
    "* Dersom summen av tiden de bruker på skole og søvn er over 24 timer skal de få beskjed om at de lyver. \r\n",
    "* Dersom de ikke lyver skal de få et spørsmål om de jobber. \r\n",
    "* Dersom de ikke jobber skal programmet printe ut hvor mye tid i døgnet som er igjen til fritid. \r\n",
    "* Dersom de jobber må programmet spørre hvor mye tid de bruker på jobb hver dag.\r\n",
    "* Dersom summen av jobb, skole og søvn er over 24 timer så lyver de, og da skal programmet si fra. \r\n",
    "* Dersom de ikke lyver skal programmet printe ut hvor mye tid i døgnet som er igjen til fritid. "
   ],
   "metadata": {}
  },
  {
   "cell_type": "code",
   "execution_count": 40,
   "source": [
    "sovetimer = int(input(\"Hvor mye sover du hver dag?\"))\r\n",
    "if sovetimer > 24:\r\n",
    "    print(\"Nå lyver du!\")\r\n",
    "else:\r\n",
    "    skoletid = int(input(\"Hvor mange timer bruker du på skole hver dag?\"))\r\n",
    "    if skoletid + sovetimer > 24:\r\n",
    "        print(\"Nå lyver du!\")\r\n",
    "    else:\r\n",
    "        svar = input(\"Jobber du i tillegg?\").lower()\r\n",
    "        if svar == \"ja\":\r\n",
    "            jobbtid = int(input(\"Hvor mange timer bruker du på jobb hver dag?\"))\r\n",
    "            if skoletid + sovetimer + jobbtid > 24:\r\n",
    "                print(\"Nå lyver du!\")\r\n",
    "            else:\r\n",
    "                print(f\"Du har {24 - (sovetimer + skoletid + jobbtid)} timer fritid.\")\r\n",
    "        elif svar == \"nei\":\r\n",
    "                print(f\"Du har {24 - (sovetimer + skoletid)} timer fritid.\")\r\n",
    "        else:\r\n",
    "            print(\"Dette skjønte jeg ikke...\")"
   ],
   "outputs": [
    {
     "output_type": "stream",
     "name": "stdout",
     "text": [
      "Nå lyver du!\n"
     ]
    }
   ],
   "metadata": {}
  }
 ],
 "metadata": {
  "kernelspec": {
   "name": "python3",
   "display_name": "Python 3.6.2 32-bit"
  },
  "language_info": {
   "codemirror_mode": {
    "name": "ipython",
    "version": 3
   },
   "file_extension": ".py",
   "mimetype": "text/x-python",
   "name": "python",
   "nbconvert_exporter": "python",
   "pygments_lexer": "ipython3",
   "version": "3.6.2"
  },
  "interpreter": {
   "hash": "701e255ce9e6ffc7be21cb678d8777de32a36d9572a61b0e9645a07eb5a2e63f"
  }
 },
 "nbformat": 4,
 "nbformat_minor": 2
}