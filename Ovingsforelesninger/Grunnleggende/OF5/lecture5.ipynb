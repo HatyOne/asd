{
 "cells": [
  {
   "cell_type": "markdown",
   "source": [
    "# Øvingsforelesning 5"
   ],
   "metadata": {}
  },
  {
   "cell_type": "markdown",
   "source": [
    "## Forklaring av lister\n",
    "**Lister** er en datatype som inneholder *elementer* som kan ha ulike datatyper. Det er altså en måte å samle flere ting i samme variabel. En liste lages ved å legge elementer inn i et par med firkantparanteser `[]`. Dette kan også tilegnes en variabel. For eksempel kan jeg opprette en liste `min_liste` med partall mellom 2 og 10:   \n"
   ],
   "metadata": {}
  },
  {
   "cell_type": "code",
   "execution_count": null,
   "source": [
    "min_liste = [2,4,6,8,10]"
   ],
   "outputs": [],
   "metadata": {
    "collapsed": true
   }
  },
  {
   "cell_type": "markdown",
   "source": [
    "For å aksessere elementene i listen under kan vi benytte indeksering. Indeksen forteller hvilken \"plass\" vi er på i listen. Den første indeksen i listen er 0 og den siste er *antall elementer - 1*. Det vil si at det første elementet i `min_liste`, 2,  kan hentes ut slik:"
   ],
   "metadata": {}
  },
  {
   "cell_type": "code",
   "execution_count": null,
   "source": [
    "min_liste[0]"
   ],
   "outputs": [],
   "metadata": {}
  },
  {
   "cell_type": "markdown",
   "source": [
    "og det siste elementet i listen kan hentes ut slik:"
   ],
   "metadata": {}
  },
  {
   "cell_type": "code",
   "execution_count": null,
   "source": [
    "min_liste[4] # Hvor 4 er lengden til listen minus 1 "
   ],
   "outputs": [],
   "metadata": {}
  },
  {
   "cell_type": "markdown",
   "source": [
    "## Test deg frem med lister selv\n",
    "Kodeblokken under er lagt til for at du skal kunne leke deg litt frem med lister selv. Gjerne kombiner det med konsepter du har lært tidligere som if-setninger, løkker og funksjoner. Hvis du trenger litt hjelp til å begynne kan du titte i tabellene under som viser hvordan vi kan jobbe med lister i Python."
   ],
   "metadata": {}
  },
  {
   "cell_type": "code",
   "execution_count": null,
   "source": [
    "handle_liste = [\"Brød\", \"Melk\", \"Smør\", \"Brus\"]\n",
    "print(handle_liste)"
   ],
   "outputs": [],
   "metadata": {}
  },
  {
   "cell_type": "markdown",
   "source": [
    "## Innebygde liste-funksjoner: Nice to know\n",
    "<img src=\"liste-funksjoner.jpg\" style=\"width: 600px;\">"
   ],
   "metadata": {}
  },
  {
   "cell_type": "markdown",
   "source": [
    "# Oppgaver til øvingsforelesning 5"
   ],
   "metadata": {}
  },
  {
   "cell_type": "markdown",
   "source": [
    "## Repetisjonsoppgave\n",
    "\n",
    "### a) \n",
    "Lag en funksjon ```getInteger()``` som skal be brukeren om et heltall og returnere dette. \n",
    "\n",
    "Funksjonen skal sørge for at det som returneres er et heltall, og spørre om ny input dersom brukeren skriver inn noe som ikke er heltall.\n",
    "\n",
    "**Tips:**\n",
    "- Lagre input fra brukeren i en variabel\n",
    "- Be om ny input så lenge variabelen ikke kun inneholder tall\n",
    "- ```str.isnumeric()```"
   ],
   "metadata": {}
  },
  {
   "cell_type": "code",
   "execution_count": null,
   "source": [
    "# Skriv kode her"
   ],
   "outputs": [],
   "metadata": {}
  },
  {
   "cell_type": "markdown",
   "source": [
    "### b)\n",
    "Lag en funksjon ```getAge()``` som skal be brukeren om et heltall som skal representere alderen til brukeren, og som returnerer denne alderen.\n",
    "\n",
    "- For enkelhets skyld: En alder er ugyldig om den er **større enn 110**\n",
    "\n",
    "**Tips:**\n",
    "- Bruk funksjonen getInteger() fra forrige oppgave til å forsikre at vi henter et heltall fra bruker!"
   ],
   "metadata": {}
  },
  {
   "cell_type": "code",
   "execution_count": null,
   "source": [],
   "outputs": [],
   "metadata": {}
  },
  {
   "cell_type": "markdown",
   "source": [
    "## Oppgave 1\n",
    "\n",
    "a) Opprett en liste med tall fra 0 til 5\n",
    "\n",
    "b) Opprett en liste med karakterene i ordet “Jeg bor på Gløshaugen”\n",
    "\n",
    "c) Opprett en liste med annethvert tall fra 0 til 50\n",
    "\n",
    "d) Opprett en liste med annenhver ```True``` og ```False``` med lengde 20\n"
   ],
   "metadata": {}
  },
  {
   "cell_type": "code",
   "execution_count": null,
   "source": [
    "#din kode her"
   ],
   "outputs": [],
   "metadata": {}
  },
  {
   "cell_type": "markdown",
   "source": [
    "## Oppgave 2\n",
    "\n",
    "### Velg en en av listene du lagde i oppgave 1 og bruk den i denne oppgaven:\n",
    "\n",
    "**a)** Hent ut elementet på indeks 4 og skriv det til bruker med print().\n",
    "\n",
    "**b)** Endre det siste elementet i listen til 0.\n",
    "\n",
    "**c)** Lag en funksjon ```printNumberInList(i, lst)``` som tar inn et heltall ```i``` og en liste ```lst```. Funksjonen skal printe element på indeks ```i``` fra ```lst``` på formatet under:\n",
    "\n",
    "### Eksempel på kjøring:\n",
    "<img src=\"oppg.png\" style=\"width: 400px;\">"
   ],
   "metadata": {}
  },
  {
   "cell_type": "code",
   "execution_count": null,
   "source": [
    "#din kode her"
   ],
   "outputs": [],
   "metadata": {}
  },
  {
   "cell_type": "markdown",
   "source": [
    "## Oppgave 3\n",
    "\n",
    "**a)** Lag en funksjon som tar inn en liste og returnerer første halvdelen av listen\n",
    "\n",
    "**b)** Lag en funksjon som tar inn en liste og som kopierer alt utenom det første og siste elementet i en ny liste, og returnerer den nye listen.\n",
    "\n",
    "**Tips:**\n",
    "- Bruk slicing!\n",
    "- Her må vi vite hvor lang listen er - ```len()``` fungerer også på lister, og returnerer antall elementer i liste"
   ],
   "metadata": {}
  },
  {
   "cell_type": "code",
   "execution_count": null,
   "source": [
    "# Skriv kode her"
   ],
   "outputs": [],
   "metadata": {}
  },
  {
   "cell_type": "markdown",
   "source": [
    "## Oppgave 4\n",
    "\n",
    "I denne oppgaven skal vi lage en forenklet versjon av yatzy"
   ],
   "metadata": {}
  },
  {
   "cell_type": "markdown",
   "source": [
    "*Først trenger vi en funksjon som triller 5 terninger for oss.*\n",
    "\n",
    "**a)** Lag en funksjon, `roll_dice()`,  som lager en liste som inneholder 5 elementer der hvert element har en tilfeldig tall-verdi mellom 1 og 6.\n",
    "* Hint: ```from random import randint()```"
   ],
   "metadata": {}
  },
  {
   "cell_type": "code",
   "execution_count": null,
   "source": [
    "#din kode her"
   ],
   "outputs": [],
   "metadata": {}
  },
  {
   "cell_type": "markdown",
   "source": [
    "*Videre trenger vi en funksjon for å telle antall forekomster av en gitt verdi, f.eks. enere og toere*\n",
    "\n",
    "**b)** Lag en funksjon som tar inn listen med tall og et heltall mellom 1 og 6, og returnerer antallet terninger som har den heltallsverdien \n"
   ],
   "metadata": {}
  },
  {
   "cell_type": "code",
   "execution_count": null,
   "source": [
    "#din kode her"
   ],
   "outputs": [],
   "metadata": {}
  },
  {
   "cell_type": "markdown",
   "source": [
    "**c)** Til slutt vil vi kunne spille hele den første delen av et Yatzy-spill\n",
    "\n",
    "Lag en funksjon som kaster terningene seks ganger, og gir poeng for antall enere i det første kastet, toere i det andre, osv. \n",
    "- Print poeng for hvert kast\n",
    "- Returner summen"
   ],
   "metadata": {}
  },
  {
   "cell_type": "code",
   "execution_count": null,
   "source": [
    "#din kode her"
   ],
   "outputs": [],
   "metadata": {}
  },
  {
   "cell_type": "markdown",
   "source": [
    "## Oppgave 5"
   ],
   "metadata": {}
  },
  {
   "cell_type": "markdown",
   "source": [
    "### a) \n",
    "Lag en funksjon ```zeroMatrix(dim)``` som tar inn et heltall ```dim``` og som oppretter en kvadratisk tabell (2D-liste) med antall rader og kolonner lik ```dim```. \n",
    "\n",
    "Tabellen skal kun inneholde 0 i alle elementer, og funksjonen skal returnere tabellen.\n",
    "\n",
    "<img src=\"zeroMatrix.png\" style=\"width: 200px;\">"
   ],
   "metadata": {}
  },
  {
   "cell_type": "code",
   "execution_count": null,
   "source": [
    "#din kode her"
   ],
   "outputs": [],
   "metadata": {}
  },
  {
   "cell_type": "markdown",
   "source": [
    "### b)\n",
    "Lag en funksjon ```identityMatrix(dim)``` som, slik som i **a)**, skal returnere en kvadratisk tabell med dimensjon ```dim``` der alle elementer er 0, bortsett fra at elementer på diagonalen skal være 1. \n",
    "\n",
    "<img src=\"identity.png\" style=\"width: 300px;\">"
   ],
   "metadata": {}
  },
  {
   "cell_type": "code",
   "execution_count": null,
   "source": [
    "#din kode her"
   ],
   "outputs": [],
   "metadata": {}
  }
 ],
 "metadata": {
  "kernelspec": {
   "name": "python3",
   "display_name": "Python 3.6.2 32-bit"
  },
  "language_info": {
   "codemirror_mode": {
    "name": "ipython",
    "version": 3
   },
   "file_extension": ".py",
   "mimetype": "text/x-python",
   "name": "python",
   "nbconvert_exporter": "python",
   "pygments_lexer": "ipython3",
   "version": "3.6.2"
  },
  "interpreter": {
   "hash": "701e255ce9e6ffc7be21cb678d8777de32a36d9572a61b0e9645a07eb5a2e63f"
  }
 },
 "nbformat": 4,
 "nbformat_minor": 2
}