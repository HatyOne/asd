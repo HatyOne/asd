{
 "cells": [
  {
   "cell_type": "markdown",
   "metadata": {},
   "source": [
    "# Øvingsforelesning 4 TDT4109/TDT4110 - Grunnleggende"
   ]
  },
  {
   "cell_type": "markdown",
   "metadata": {},
   "source": [
    "## For- og while-Løkker"
   ]
  },
  {
   "cell_type": "markdown",
   "metadata": {},
   "source": [
    "## Oppgave 1: Repetisjon"
   ]
  },
  {
   "cell_type": "markdown",
   "metadata": {},
   "source": [
    "<img src=\"if-setninger-lecture3.png\" style=\"width: 500px;\">"
   ]
  },
  {
   "cell_type": "code",
   "execution_count": 2,
   "metadata": {},
   "outputs": [
    {
     "name": "stdout",
     "output_type": "stream",
     "text": [
      "Tall 1: 5\n",
      "Tall 2: 4\n",
      "Tall 1 er større enn tall 2!\n",
      "Takk for denne gang!\n"
     ]
    }
   ],
   "source": [
    "tall1 = int(input(\"Tall 1: \"))\n",
    "tall2 = int(input(\"Tall 2: \"))\n",
    "\n",
    "if tall1 == tall2:\n",
    "    print(\"Gratulerer, tallene er like!\")\n",
    "elif tall1 > tall2:\n",
    "    print(\"Tall 1 er større enn tall 2!\")\n",
    "else:\n",
    "    print(\"Tall 2 er større enn tall 1!\")\n",
    "    \n",
    "print(\"Takk for denne gang!\")"
   ]
  },
  {
   "cell_type": "markdown",
   "metadata": {},
   "source": [
    "## Tre varianter av **for**-løkke\n",
    "Prøv å kjøre koden selv!"
   ]
  },
  {
   "cell_type": "code",
   "execution_count": 1,
   "metadata": {},
   "outputs": [
    {
     "name": "stdout",
     "output_type": "stream",
     "text": [
      "Hello\n",
      "Hello\n",
      "Hello\n",
      "Hello\n",
      "Hello\n",
      "5\n",
      "6\n",
      "7\n",
      "8\n",
      "9\n",
      "0\n",
      "2\n",
      "4\n",
      "6\n",
      "8\n",
      "10\n",
      "12\n",
      "14\n",
      "16\n",
      "18\n"
     ]
    }
   ],
   "source": [
    "# for i in range (antall)\n",
    "for i in range(5):\n",
    "\tprint(\"Hello\") \n",
    "# Printer Hello 5 ganger\n",
    "\n",
    "# for i in range (start, slutt)\n",
    "for j in range(5, 10):\n",
    "\tprint(j) \n",
    "# Printer tallene fra 5 til 9. \n",
    "# Start er inkludert, slutt er ekskludert \n",
    "\n",
    "# for i in range (start, slutt, skrittlengde)\n",
    "for k in range(0, 20, 2):\n",
    "\tprint(k) \n",
    "# Printer alle partall fra 0 til 19 "
   ]
  },
  {
   "cell_type": "markdown",
   "metadata": {},
   "source": [
    "\n",
    "## Oppgave 2"
   ]
  },
  {
   "cell_type": "markdown",
   "metadata": {},
   "source": [
    "Skriv et program som printer alle tallene fra 1 til 10."
   ]
  },
  {
   "cell_type": "code",
   "execution_count": 5,
   "metadata": {},
   "outputs": [
    {
     "name": "stdout",
     "output_type": "stream",
     "text": [
      "1\n",
      "2\n",
      "3\n",
      "4\n",
      "5\n",
      "6\n",
      "7\n",
      "8\n",
      "9\n",
      "10\n"
     ]
    }
   ],
   "source": [
    "for i in range(1, 11):\n",
    "    print(i)"
   ]
  },
  {
   "cell_type": "markdown",
   "metadata": {},
   "source": [
    "## Oppgave 3"
   ]
  },
  {
   "cell_type": "markdown",
   "metadata": {},
   "source": [
    "Skriv et program som summerer sammen tallene fra 4 til og med 20\n",
    "\n",
    "\n",
    "*Hint:*\n",
    "* Bruk en variabel som kan holde resultatet av summen.\n",
    "\n",
    "**Ekstraoppgave**\n",
    "* Summer opp partall og oddetall hver for seg\n"
   ]
  },
  {
   "cell_type": "code",
   "execution_count": 11,
   "metadata": {
    "scrolled": true
   },
   "outputs": [
    {
     "name": "stdout",
     "output_type": "stream",
     "text": [
      "4\n",
      "5\n",
      "6\n",
      "7\n",
      "8\n",
      "9\n",
      "10\n",
      "11\n",
      "12\n",
      "13\n",
      "14\n",
      "15\n",
      "16\n",
      "17\n",
      "18\n",
      "19\n",
      "20\n",
      "sum:  204\n"
     ]
    }
   ],
   "source": [
    "s = 0\n",
    "for i in range(4, 21):\n",
    "    print(i)\n",
    "    s = s + i\n",
    "print(\"sum: \", s)"
   ]
  },
  {
   "cell_type": "markdown",
   "metadata": {},
   "source": [
    "## Oppgave 4"
   ]
  },
  {
   "cell_type": "markdown",
   "metadata": {},
   "source": [
    "Lag et program som tar inn to tall fra brukeren, og skriver ut alle tallene mellom disse (første inklusiv, andre eksklusiv) som er delelige på 3 <br>\n",
    "\n",
    "*Hint:*\n",
    "* a%3 == 0\n",
    "* I koden for i in range (a, b) er a inklusiv og b eksklusiv by default\n",
    "\n",
    "**Ekstraoppgave**\n",
    "* Ta inn et tredje tall som sier hvilket tall det skal være delelig på (istedenfor 3)\n"
   ]
  },
  {
   "cell_type": "code",
   "execution_count": 15,
   "metadata": {},
   "outputs": [
    {
     "name": "stdout",
     "output_type": "stream",
     "text": [
      "Tall 1: 2\n",
      "Tall 2: 20\n",
      "Tall det skal være delelig på: 5\n",
      "5\n",
      "10\n",
      "15\n"
     ]
    }
   ],
   "source": [
    "tall1 = int(input(\"Tall 1: \"))\n",
    "tall2 = int(input(\"Tall 2: \"))\n",
    "\n",
    "delelig_paa = int(input(\"Tall det skal være delelig på: \"))\n",
    "\n",
    "for i in range(tall1, tall2):\n",
    "    if i % delelig_paa == 0:\n",
    "        print(i)"
   ]
  },
  {
   "cell_type": "markdown",
   "metadata": {},
   "source": [
    "## Oppgave 5"
   ]
  },
  {
   "cell_type": "markdown",
   "metadata": {},
   "source": [
    "Skriv et program som gjør følgende:\n",
    "1. Tar inn et tall fra bruker\n",
    "2. Summerer tallene fra 1 og oppover helt til summen overstiger tallet fra bruker\n",
    "3. Skriver ut hvert regnestykke til konsollen\n"
   ]
  },
  {
   "cell_type": "code",
   "execution_count": 18,
   "metadata": {},
   "outputs": [
    {
     "name": "stdout",
     "output_type": "stream",
     "text": [
      "Hva skal grensen være: 40\n",
      "0 + 1 = 1\n",
      "1 + 2 = 3\n",
      "3 + 3 = 6\n",
      "6 + 4 = 10\n",
      "10 + 5 = 15\n",
      "15 + 6 = 21\n",
      "21 + 7 = 28\n",
      "28 + 8 = 36\n",
      "36 + 9 = 45\n"
     ]
    }
   ],
   "source": [
    "grense = int(input(\"Hva skal grensen være: \"))\n",
    "\n",
    "s = 0\n",
    "i = 1\n",
    "\n",
    "while s <= grense:\n",
    "    forrige_sum = s\n",
    "    s += i\n",
    "    ny_sum = s\n",
    "    \n",
    "    \"50 + 6 = 56\"\n",
    "    print(forrige_sum, \"+\", i, \"=\", ny_sum)\n",
    "    i += 1\n"
   ]
  },
  {
   "cell_type": "markdown",
   "metadata": {},
   "source": [
    "## Oppgave 6\n",
    "Lag en while-løkke som skriver ut alle tallene fra 10 til og med 0. <br>\n",
    "\n",
    "*Hint:*\n",
    "* i = 10, i -= 1\n",
    "\n",
    "**Ekstraoppgave:**\n",
    "* Skriv ut alle partall fra 10 til og med 0 "
   ]
  },
  {
   "cell_type": "code",
   "execution_count": 20,
   "metadata": {},
   "outputs": [
    {
     "name": "stdout",
     "output_type": "stream",
     "text": [
      "10\n",
      "9\n",
      "8\n",
      "7\n",
      "6\n",
      "5\n",
      "4\n",
      "3\n",
      "2\n",
      "1\n",
      "0\n"
     ]
    }
   ],
   "source": [
    "i = 10\n",
    "\n",
    "while i >= 0:\n",
    "    print(i)\n",
    "    i -= 1"
   ]
  },
  {
   "cell_type": "markdown",
   "metadata": {},
   "source": [
    "## Oppgave 7\n",
    "Lag et program som gjør følgende:\n",
    "1. Tar inn et tall fra brukeren\n",
    "2. Sjekker om tallet er likt et annet tall som du har bestemt på forhånd\n",
    "3. Hvis tallene ikke er like: Si om det innskrevne tallet er større eller mindre enn målet\n",
    "4. La brukeren gjette tall igjen\n",
    "\n",
    "\n",
    "**Ekstraoppgave:**\n",
    "* Skriv at tallet er mye større / mindre hvis det er mer enn 10 i differanse\n"
   ]
  },
  {
   "cell_type": "code",
   "execution_count": 22,
   "metadata": {},
   "outputs": [
    {
     "name": "stdout",
     "output_type": "stream",
     "text": [
      "Tall: 222\n",
      "Tallet er mindre enn riktig tall!\n",
      "Tall: 555\n",
      "Tallet er større enn riktig tall!\n",
      "Tall: 256\n",
      "Tallet er riktig!\n"
     ]
    }
   ],
   "source": [
    "tall = int(input(\"Tall: \"))\n",
    "riktig_tall = 256\n",
    "\n",
    "while tall != riktig_tall:\n",
    "    if tall > riktig_tall:\n",
    "        print(\"Tallet er større enn riktig tall!\")\n",
    "    else:\n",
    "        print(\"Tallet er mindre enn riktig tall!\")\n",
    "    \n",
    "    tall = int(input(\"Tall: \"))\n",
    "    \n",
    "print(\"Tallet er riktig!\")"
   ]
  },
  {
   "cell_type": "markdown",
   "metadata": {},
   "source": [
    "## Oppgave 8\n",
    "Lag et program som printer 10 tilfeldige tall \n",
    "import random, random.randint(min, max). <br>\n",
    "\n",
    "**Ekstraoppgave:**\n",
    "* Modifiser programmet til å printe ut hvor mange oddetall som ble laget til slutt\n"
   ]
  },
  {
   "cell_type": "code",
   "execution_count": 26,
   "metadata": {
    "scrolled": true
   },
   "outputs": [
    {
     "name": "stdout",
     "output_type": "stream",
     "text": [
      "76\n",
      "63\n",
      "73\n",
      "2\n",
      "42\n",
      "86\n",
      "12\n",
      "26\n",
      "77\n",
      "62\n"
     ]
    }
   ],
   "source": [
    "import random\n",
    "\n",
    "for i in range(10):\n",
    "    tilfeldig_tall = random.randint(0, 100)\n",
    "    print(tilfeldig_tall)"
   ]
  },
  {
   "cell_type": "markdown",
   "metadata": {},
   "source": [
    "## Oppgave 9\n",
    "* Du skal ha Multiple Choice eksamen med 10 spm, og lurer på om du klarer å gjette deg til å stå!\n",
    "\n",
    "* Lag et program som 10 ganger gir deg sjansen til å gjette på et tall mellom 1-4, og lagrer det riktige svaret som en variabel med tilfeldig verdi før man gjetter \n",
    " * import random, random.randint(min, max) \n",
    "\n",
    "* Etter løkken, skriv ut hvor mange prosent riktige du hadde. \n"
   ]
  },
  {
   "cell_type": "code",
   "execution_count": 30,
   "metadata": {
    "pycharm": {
     "name": "#%%\n"
    }
   },
   "outputs": [
    {
     "name": "stdout",
     "output_type": "stream",
     "text": [
      "Skriv et tall fra 1 - 4: 4\n",
      "Du fikk feil\n",
      "Skriv et tall fra 1 - 4: 4\n",
      "Du fikk feil\n",
      "Skriv et tall fra 1 - 4: 4\n",
      "Du fikk riktig\n",
      "Skriv et tall fra 1 - 4: 4\n",
      "Du fikk feil\n",
      "Skriv et tall fra 1 - 4: 4\n",
      "Du fikk feil\n",
      "Skriv et tall fra 1 - 4: 4\n",
      "Du fikk feil\n",
      "Skriv et tall fra 1 - 4: 4\n",
      "Du fikk feil\n",
      "Skriv et tall fra 1 - 4: 4\n",
      "Du fikk feil\n",
      "Skriv et tall fra 1 - 4: 4\n",
      "Du fikk feil\n",
      "Skriv et tall fra 1 - 4: 4\n",
      "Du fikk riktig\n",
      "Du fikk 20.0 prosent riktig\n"
     ]
    }
   ],
   "source": [
    "#### import random\n",
    "\n",
    "antall_riktig = 0\n",
    "\n",
    "for i in range(10):\n",
    "    gjett = int(input(\"Skriv et tall fra 1 - 4: \"))\n",
    "    tilfeldig_tall = random.randint(1, 4)\n",
    "    \n",
    "    if gjett == tilfeldig_tall:\n",
    "        antall_riktig += 1\n",
    "        print(\"Du fikk riktig\")\n",
    "    else:\n",
    "        print(\"Du fikk feil\")\n",
    "\n",
    "prosent_riktige = int((antall_riktig / 10) * 100)\n",
    "print(\"Du fikk\", prosent_riktige, \"prosent riktig\")"
   ]
  },
  {
   "cell_type": "code",
   "execution_count": null,
   "metadata": {},
   "outputs": [],
   "source": []
  },
  {
   "cell_type": "markdown",
   "metadata": {},
   "source": [
    "## Fritt kodefelt"
   ]
  },
  {
   "cell_type": "code",
   "execution_count": 28,
   "metadata": {},
   "outputs": [
    {
     "name": "stdout",
     "output_type": "stream",
     "text": [
      "Du har 10 igjen\n",
      "Skriv noe: test\n",
      "Du har 6 igjen\n",
      "Skriv noe: test\n",
      "Du har 2 igjen\n",
      "Skriv noe: hei\n",
      "Ferdig!\n"
     ]
    }
   ],
   "source": [
    "ant_bokstaver = 10\n",
    "\n",
    "while ant_bokstaver > 0:\n",
    "    \n",
    "    print(\"Du har\", ant_bokstaver, \"igjen\")\n",
    "    \n",
    "    skriv = input(\"Skriv noe: \")\n",
    "    \n",
    "    ant_bokstaver -= len(skriv)\n",
    "                                        \n",
    "print(\"Ferdig!\")"
   ]
  },
  {
   "cell_type": "code",
   "execution_count": null,
   "metadata": {},
   "outputs": [],
   "source": []
  }
 ],
 "metadata": {
  "interpreter": {
   "hash": "e134e05457d34029b6460cd73bbf1ed73f339b5b6d98c95be70b69eba114fe95"
  },
  "kernelspec": {
   "display_name": "Python 3 (ipykernel)",
   "language": "python",
   "name": "python3"
  },
  "language_info": {
   "codemirror_mode": {
    "name": "ipython",
    "version": 3
   },
   "file_extension": ".py",
   "mimetype": "text/x-python",
   "name": "python",
   "nbconvert_exporter": "python",
   "pygments_lexer": "ipython3",
   "version": "3.9.6"
  }
 },
 "nbformat": 4,
 "nbformat_minor": 2
}
