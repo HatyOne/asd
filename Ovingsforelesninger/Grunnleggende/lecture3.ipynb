{
 "cells": [
  {
   "cell_type": "markdown",
   "source": [
    "# Øvingsforelesning 4 TDT4109/TDT4110 - Grunnleggende"
   ],
   "metadata": {}
  },
  {
   "cell_type": "markdown",
   "source": [
    "## For- og while-Løkker"
   ],
   "metadata": {}
  },
  {
   "cell_type": "markdown",
   "source": [
    "## Oppgave 1: Repetisjon"
   ],
   "metadata": {}
  },
  {
   "cell_type": "markdown",
   "source": [
    "<img src=\"if-setninger-lecture3.png\" style=\"width: 500px;\">"
   ],
   "metadata": {}
  },
  {
   "cell_type": "code",
   "execution_count": null,
   "source": [
    "# Skriv koden din her"
   ],
   "outputs": [],
   "metadata": {
    "collapsed": true
   }
  },
  {
   "cell_type": "markdown",
   "source": [
    "## Tre varianter av **for**-løkke\n",
    "Prøv å kjøre koden selv!"
   ],
   "metadata": {}
  },
  {
   "cell_type": "code",
   "execution_count": null,
   "source": [
    "# for i in range (antall)\n",
    "for i in range(5):\n",
    "\tprint(\"Hello\") \n",
    "# Printer Hello 5 ganger\n",
    "\n",
    "# for i in range (start, slutt)\n",
    "for j in range(5, 10):\n",
    "\tprint(j) \n",
    "# Printer tallene fra 5 til 9. \n",
    "# Start er inkludert, slutt er ekskludert \n",
    "\n",
    "# for i in range (start, slutt, skrittlengde)\n",
    "for k in range(0, 20, 2):\n",
    "\tprint(k) \n",
    "# Printer alle partall fra 0 til 19 "
   ],
   "outputs": [],
   "metadata": {}
  },
  {
   "cell_type": "markdown",
   "source": [
    "\n",
    "## Oppgave 2"
   ],
   "metadata": {}
  },
  {
   "cell_type": "markdown",
   "source": [
    "Skriv et program som printer alle tallene fra 1 til 10."
   ],
   "metadata": {}
  },
  {
   "cell_type": "code",
   "execution_count": null,
   "source": [
    "# Skriv koden din her"
   ],
   "outputs": [],
   "metadata": {}
  },
  {
   "cell_type": "markdown",
   "source": [
    "## Oppgave 3"
   ],
   "metadata": {}
  },
  {
   "cell_type": "markdown",
   "source": [
    "Skriv et program som summerer sammen tallene fra 4 til og med 20\n",
    "\n",
    "\n",
    "*Hint:*\n",
    "* Bruk en variabel som kan holde resultatet av summen.\n",
    "\n",
    "**Ekstraoppgave**\n",
    "* Summer opp partall og oddetall hver for seg\n"
   ],
   "metadata": {}
  },
  {
   "cell_type": "code",
   "execution_count": null,
   "source": [
    "# Skriv koden din her"
   ],
   "outputs": [],
   "metadata": {}
  },
  {
   "cell_type": "markdown",
   "source": [
    "## Oppgave 4"
   ],
   "metadata": {}
  },
  {
   "cell_type": "markdown",
   "source": [
    "Lag et program som tar inn to tall fra brukeren, og skriver ut alle tallene mellom disse (første inklusiv, andre eksklusiv) som er delelige på 3 <br>\n",
    "\n",
    "*Hint:*\n",
    "* a%3 == 0\n",
    "* I koden for i in range (a, b) er a inklusiv og b eksklusiv by default\n",
    "\n",
    "**Ekstraoppgave**\n",
    "* Ta inn et tredje tall som sier hvilket tall det skal være delelig på (istedenfor 3)\n"
   ],
   "metadata": {}
  },
  {
   "cell_type": "code",
   "execution_count": null,
   "source": [
    "# Skriv koden din her"
   ],
   "outputs": [],
   "metadata": {}
  },
  {
   "cell_type": "markdown",
   "source": [
    "## Oppgave 5"
   ],
   "metadata": {}
  },
  {
   "cell_type": "markdown",
   "source": [
    "Skriv et program som gjør følgende:\n",
    "1. Tar inn et tall fra bruker\n",
    "2. Summerer tallene fra 1 og oppover helt til summen overstiger tallet fra bruker\n",
    "3. Skriver ut hvert regnestykke til konsollen\n"
   ],
   "metadata": {}
  },
  {
   "cell_type": "code",
   "execution_count": null,
   "source": [
    "# Skriv koden din her "
   ],
   "outputs": [],
   "metadata": {}
  },
  {
   "cell_type": "markdown",
   "source": [
    "## Oppgave 6\n",
    "Lag en while-løkke som skriver ut alle tallene fra 10 til og med 0. <br>\n",
    "\n",
    "*Hint:*\n",
    "* i = 10, i -= 1\n",
    "\n",
    "**Ekstraoppgave:**\n",
    "* Skriv ut alle partall fra 10 til og med 0 "
   ],
   "metadata": {}
  },
  {
   "cell_type": "code",
   "execution_count": null,
   "source": [
    "# Skriv koden din her"
   ],
   "outputs": [],
   "metadata": {}
  },
  {
   "cell_type": "markdown",
   "source": [
    "## Oppgave 7\n",
    "Lag et program som gjør følgende:\n",
    "1. Tar inn et tall fra brukeren\n",
    "2. Sjekker om tallet er likt et annet tall som du har bestemt på forhånd\n",
    "3. Hvis tallene ikke er like: Si om det innskrevne tallet er større eller mindre enn målet\n",
    "4. La brukeren gjette tall igjen\n",
    "\n",
    "\n",
    "**Ekstraoppgave:**\n",
    "* Skriv at tallet er mye større / mindre hvis det er mer enn 10 i differanse\n"
   ],
   "metadata": {}
  },
  {
   "cell_type": "code",
   "execution_count": null,
   "source": [
    "# Skriv koden din her "
   ],
   "outputs": [],
   "metadata": {}
  },
  {
   "cell_type": "markdown",
   "source": [
    "## Oppgave 8\n",
    "Lag et program som printer 10 tilfeldige tall \n",
    "import random, random.randint(min, max). <br>\n",
    "\n",
    "**Ekstraoppgave:**\n",
    "* Modifiser programmet til å printe ut hvor mange oddetall som ble laget til slutt\n"
   ],
   "metadata": {}
  },
  {
   "cell_type": "code",
   "execution_count": null,
   "source": [
    "# Skriv koden din her"
   ],
   "outputs": [],
   "metadata": {
    "collapsed": true
   }
  },
  {
   "cell_type": "markdown",
   "source": [
    "## Oppgave 9\n",
    "* Du skal ha Multiple Choice eksamen med 10 spm, og lurer på om du klarer å gjette deg til å stå!\n",
    "\n",
    "* Lag et program som 10 ganger gir deg sjansen til å gjette på et tall mellom 1-4, og lagrer det riktige svaret som en variabel med tilfeldig verdi før man gjetter \n",
    " * import random, random.randint(min, max) \n",
    "\n",
    "* Etter løkken, skriv ut hvor mange prosent riktige du hadde. \n"
   ],
   "metadata": {}
  },
  {
   "cell_type": "code",
   "execution_count": null,
   "source": [
    "# Skriv koden din her"
   ],
   "outputs": [],
   "metadata": {
    "collapsed": false,
    "pycharm": {
     "name": "#%%\n"
    }
   }
  },
  {
   "cell_type": "markdown",
   "source": [
    "## Fritt kodefelt"
   ],
   "metadata": {}
  },
  {
   "cell_type": "code",
   "execution_count": null,
   "source": [
    "# Skriv koden din her"
   ],
   "outputs": [],
   "metadata": {
    "collapsed": true
   }
  }
 ],
 "metadata": {
  "kernelspec": {
   "name": "python3",
   "display_name": "Python 3.8.3 64-bit ('base': conda)"
  },
  "language_info": {
   "codemirror_mode": {
    "name": "ipython",
    "version": 3
   },
   "file_extension": ".py",
   "mimetype": "text/x-python",
   "name": "python",
   "nbconvert_exporter": "python",
   "pygments_lexer": "ipython3",
   "version": "3.8.3"
  },
  "interpreter": {
   "hash": "e134e05457d34029b6460cd73bbf1ed73f339b5b6d98c95be70b69eba114fe95"
  }
 },
 "nbformat": 4,
 "nbformat_minor": 2
}