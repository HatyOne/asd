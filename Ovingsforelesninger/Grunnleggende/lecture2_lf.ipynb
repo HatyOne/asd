{
 "cells": [
  {
   "cell_type": "markdown",
   "metadata": {},
   "source": [
    "# Øvingsforelesning 2 - ITGK"
   ]
  },
  {
   "cell_type": "markdown",
   "metadata": {},
   "source": [
    "### Logiske uttrykk, betingelser og if-setninger"
   ]
  },
  {
   "cell_type": "markdown",
   "metadata": {},
   "source": [
    "## Oppgave 1: Repetisjon"
   ]
  },
  {
   "cell_type": "markdown",
   "metadata": {},
   "source": [
    "**Lag et program som gjør følgende:**\n",
    "1. Spør om to tall fra brukeren og lagrer disse som variabler\n",
    "2. Finner ut hvilket av tallene som er det minste\n",
    "3. Skriver ut \"(z) er det minste tallet av (x) og (y)\""
   ]
  },
  {
   "cell_type": "code",
   "execution_count": 2,
   "metadata": {},
   "outputs": [
    {
     "name": "stdout",
     "output_type": "stream",
     "text": [
      "Tall1: 5\n",
      "Tall2: 10\n",
      "5 er det minste tallet av 5 og 10\n"
     ]
    }
   ],
   "source": [
    "tall1 = int(input(\"Tall1: \"))\n",
    "tall2 = int(input(\"Tall2: \"))\n",
    "minst = min(tall1, tall2)\n",
    "\n",
    "print(minst, \"er det minste tallet av\", tall1, \"og\", tall2)"
   ]
  },
  {
   "cell_type": "markdown",
   "metadata": {},
   "source": [
    "# Boolske uttrykk - prøv selv"
   ]
  },
  {
   "cell_type": "code",
   "execution_count": 1,
   "metadata": {},
   "outputs": [
    {
     "name": "stdout",
     "output_type": "stream",
     "text": [
      "False\n",
      "False\n",
      "True\n"
     ]
    }
   ],
   "source": [
    "a = True\n",
    "b = False\n",
    "x = 23\n",
    "y = 26\n",
    "\n",
    "z = x + 2 == y\n",
    "print(z)\n",
    "w = not((a and b) or x != y)\n",
    "print(w)\n",
    "u = a is not b and ((y - 4) <= x)\n",
    "print(u)"
   ]
  },
  {
   "cell_type": "markdown",
   "metadata": {},
   "source": [
    "## Oppgave 2"
   ]
  },
  {
   "cell_type": "markdown",
   "metadata": {},
   "source": [
    "**Skriv et program som gjør følgende:** \n",
    "1. Spør en bruker om tre tall, ett om gangen\n",
    "2. Sjekker om summen av de to første er lik det tredje\n",
    "3. Skriver ut resultatet til bruker\n"
   ]
  },
  {
   "cell_type": "markdown",
   "metadata": {},
   "source": [
    "*Hint:* \n",
    "* `a + b == c`\n"
   ]
  },
  {
   "cell_type": "code",
   "execution_count": 4,
   "metadata": {},
   "outputs": [
    {
     "name": "stdout",
     "output_type": "stream",
     "text": [
      "Tall1: 3\n",
      "Tall2: 3\n",
      "Tall3: 6\n",
      "True\n"
     ]
    }
   ],
   "source": [
    "tall1 = int(input(\"Tall1: \"))\n",
    "tall2 = int(input(\"Tall2: \"))\n",
    "tall3 = int(input(\"Tall3: \"))\n",
    "\n",
    "sjekk = tall1 + tall2 == tall3\n",
    "print(sjekk)"
   ]
  },
  {
   "cell_type": "markdown",
   "metadata": {},
   "source": [
    "## Oppgave 3"
   ]
  },
  {
   "cell_type": "markdown",
   "metadata": {},
   "source": [
    "Skriv et program som tar inn et tall og sjekker om det er et partall <br>\n",
    "\n",
    "*Hint:*\n",
    "* Sjekk om resten er 0 når det deles på 2\n",
    "\n",
    "**Ekstraoppgave**\n",
    "* Skriv ut om det er partall eller oddetall\n"
   ]
  },
  {
   "cell_type": "code",
   "execution_count": 6,
   "metadata": {},
   "outputs": [
    {
     "name": "stdout",
     "output_type": "stream",
     "text": [
      "Tall: 12\n",
      "12 er partall: True\n"
     ]
    }
   ],
   "source": [
    "tall = int(input(\"Tall: \"))\n",
    "\n",
    "er_partall = tall % 2 == 0\n",
    "\n",
    "print(tall, \"er partall:\", er_partall)"
   ]
  },
  {
   "cell_type": "markdown",
   "metadata": {},
   "source": [
    "## Oppgave 4"
   ]
  },
  {
   "cell_type": "markdown",
   "metadata": {},
   "source": [
    "Lag et program som ber om et passord og sjekker om det er likt et passord som du har lagret  i en variabel i koden. <br>\n",
    "\n",
    "*Hint:*\n",
    "* a == b\n",
    "* Start med å opprette en variabel “passord” som inneholder passordet ditt.\n",
    "\n",
    "**Ekstraoppgave**\n",
    "* Sjekk om det er likt uavhengig av små eller store bokstaver\n"
   ]
  },
  {
   "cell_type": "code",
   "execution_count": 8,
   "metadata": {},
   "outputs": [
    {
     "name": "stdout",
     "output_type": "stream",
     "text": [
      "Skriv inn ditt passord: Magnus123\n",
      "Passordet stemmer:  True\n"
     ]
    }
   ],
   "source": [
    "passord = \"Magnus123\"\n",
    "\n",
    "input_passord = input(\"Skriv inn ditt passord: \")\n",
    "\n",
    "print(\"Passordet stemmer: \", input_passord == passord)"
   ]
  },
  {
   "cell_type": "markdown",
   "metadata": {},
   "source": [
    "## Oppgave 5 "
   ]
  },
  {
   "cell_type": "markdown",
   "metadata": {},
   "source": [
    "Lag et program som tar inn et tall og skriver ut ` \"(tall) er et partall\"` hvis det er et partall <br>\n",
    "\n",
    "*Hint:*\n",
    "* `if <logisk uttrykk>:`\n",
    "\n",
    "**Ekstraoppgave:**\n",
    "* Print ut «<tall> er et oddetall» hvis det er oddetall\n"
   ]
  },
  {
   "cell_type": "code",
   "execution_count": 12,
   "metadata": {},
   "outputs": [
    {
     "name": "stdout",
     "output_type": "stream",
     "text": [
      "Tall: 5\n",
      "5 er et oddetall\n"
     ]
    }
   ],
   "source": [
    "tall = int(input(\"Tall: \"))\n",
    "\n",
    "if tall % 2 == 0:\n",
    "    print(tall, \"er et partall\")\n",
    "\n",
    "if tall % 2 == 1:\n",
    "    print(tall, \"er et oddetall\")"
   ]
  },
  {
   "cell_type": "markdown",
   "metadata": {},
   "source": [
    "## Oppgave 6 \n",
    "Lag et program som spør om et etternavn. Hvis det er likt ditt etternavn skal det skrive ut `«Dette er en match!!»`"
   ]
  },
  {
   "cell_type": "code",
   "execution_count": 16,
   "metadata": {},
   "outputs": [
    {
     "name": "stdout",
     "output_type": "stream",
     "text": [
      "Hva er etternavnet ditt? schjølberg\n",
      "Dette er en match!\n"
     ]
    }
   ],
   "source": [
    "ditt_navn = input(\"Hva er etternavnet ditt? \")\n",
    "\n",
    "if ditt_navn.lower() == \"schjølberg\":\n",
    "    print(\"Dette er en match!\")"
   ]
  },
  {
   "cell_type": "markdown",
   "metadata": {},
   "source": [
    "## Oppgave 7\n",
    "Lag et program som tar inn to tall. Programmet skal skrive ut `”(tall1) er større enn eller lik (tall2)”` eller`”(tall1) er mindre enn (tall2)” `avhengig av tallene. <br>\n",
    "\n",
    "*Hint:*\n",
    "* `tall1 > tall2`\n",
    "\n",
    "**Ekstraoppgave:**\n",
    "* Utvid programmet til å gi en spesiell beskjed dersom tallene er like\n"
   ]
  },
  {
   "cell_type": "code",
   "execution_count": 18,
   "metadata": {},
   "outputs": [
    {
     "name": "stdout",
     "output_type": "stream",
     "text": [
      "Tall1: 6\n",
      "Tall2: 2\n",
      "6 er større enn eller lik 2\n"
     ]
    }
   ],
   "source": [
    "tall1 = int(input(\"Tall1: \"))\n",
    "tall2 = int(input(\"Tall2: \"))\n",
    "\n",
    "if tall1 >= tall2:\n",
    "    print(tall1, \"er større enn eller lik\", tall2)\n",
    "else:\n",
    "    print(tall1, \"er mindre enn\", tall2)"
   ]
  },
  {
   "cell_type": "markdown",
   "metadata": {},
   "source": [
    "## Oppgave 8\n",
    "Kjell trenger help til å bestemme hva han skal ha med til lunsj. Han har en regel han vil følge, men sliter med å huske den. Regelen er: \n",
    "* På mandag, onsdag og fredag spiser han brødskive med geitost\n",
    "* På tirsdag og torsdag spiser han rundstykke med salami\n",
    "\n",
    "Lag et program der Kjell kan skrive inn hvilken ukedag et er, og deretter få vite hva han skal ha til lunsj\n"
   ]
  },
  {
   "cell_type": "code",
   "execution_count": 20,
   "metadata": {},
   "outputs": [
    {
     "name": "stdout",
     "output_type": "stream",
     "text": [
      "Hvilken dag er det? tirsdag\n",
      "Hei Kjell, du skal spise rundstykke med salami idag\n"
     ]
    }
   ],
   "source": [
    "ukedag = input(\"Hvilken dag er det? \").lower()\n",
    "\n",
    "if ukedag == \"mandag\" or ukedag == \"onsdag\" or ukedag == \"fredag\":\n",
    "    print(\"Hei Kjell, du skal spise brødskive med geitost idag\")\n",
    "else:\n",
    "    print(\"Hei Kjell, du skal spise rundstykke med salami idag\")"
   ]
  },
  {
   "cell_type": "markdown",
   "metadata": {},
   "source": [
    "## Oppgave 9\n",
    "**Lage et program som gjør følgende:**\n",
    "* Tar inn to tall (kalt `tall1` og `tall2`). \n",
    "* Dersom de er like skal programmet skrive ut `”Gratulerer, tallene er like” `\n",
    "* Hvis `tall1` er større enn `tall2` skal det skrive ut ”`Tall1 er <differanse mellom tallene> større enn tall2`”. \n",
    "* Dersom `tall2` er større enn `tall1` skal programmet skrive ut ”`Tall1 er <differanse mellom tallene> mindre enn tall2`”.\n",
    "* Til slutt skal programmet skrive ut ”`Takk for denne gang`” \n"
   ]
  },
  {
   "cell_type": "markdown",
   "metadata": {},
   "source": [
    "### Logikkflyt:\n",
    "<img src=\"if-setninger.jpg\" style=\"width: 500px;\">"
   ]
  },
  {
   "cell_type": "code",
   "execution_count": 26,
   "metadata": {},
   "outputs": [
    {
     "name": "stdout",
     "output_type": "stream",
     "text": [
      "Tall1: 6\n",
      "Tall2: 3\n",
      "6 er 3 større enn 3\n"
     ]
    }
   ],
   "source": [
    "tall1 = int(input(\"Tall1: \"))\n",
    "tall2 = int(input(\"Tall2: \"))\n",
    "\n",
    "if tall1 == tall2:\n",
    "    print(\"Gratulerer, tallene er like!\")\n",
    "elif tall1 > tall2:\n",
    "    differanse = tall1 - tall2\n",
    "    print(tall1, \"er\", differanse, \"større enn\", tall2)\n",
    "else:\n",
    "    differanse = tall2 - tall1\n",
    "    print(tall1, \"er\", differanse, \"mindre enn\", tall2)"
   ]
  },
  {
   "cell_type": "markdown",
   "metadata": {},
   "source": [
    "## Oppgave 10\n",
    "Lag et program som tar inn en tekststreng fra brukeren. Ut i fra strengen kan følgende fire ting skje\n",
    "<br>\n",
    "1. Dersom strengen er lik `”IalwaysCheat”` skal programmet skrive ut `”Juksing er ikke lov, prøv igjen senere” `\n",
    "2. Ellers, dersom lengden på strengen er større enn 4 og mindre enn 10 skal programmet skrive ut `”Dette var en streng med perfekt lengde”`. \n",
    " * `len(streng)` gir lengden på strengen med navn ”streng”. \n",
    "3. Ellers, hvis strengen starter på `”hei”` og har mer enn 6 tegn skal programmet skrive ut `”Hei på deg også”`\n",
    " * Hint: streng.startswith(\"hei\") gir True hvis strengen starter med ”hei” \n",
    "4. Ellers skal programmet skrive ut `”Dette var en kjedelig streng”`\n"
   ]
  },
  {
   "cell_type": "code",
   "execution_count": 29,
   "metadata": {},
   "outputs": [
    {
     "name": "stdout",
     "output_type": "stream",
     "text": [
      "Skriv inn noe her: heipå deg, lang streng\n",
      "Hei på deg også\n"
     ]
    }
   ],
   "source": [
    "tekst = input(\"Skriv inn noe her: \")\n",
    "\n",
    "if tekst == \"IalwaysCheat\":\n",
    "    print(\"Juksing er ikke lov, prøv igjen!\")\n",
    "elif len(tekst) > 4 and len(tekst) < 10:\n",
    "    print(\"Dette var en streng med perfekt lengde\")\n",
    "elif tekst.lower().startswith(\"hei\") and len(tekst) > 6:\n",
    "    print(\"Hei på deg også\")\n",
    "else:\n",
    "    print(\"Dette var en kjedelig streng.\")"
   ]
  },
  {
   "cell_type": "markdown",
   "metadata": {},
   "source": [
    "# Kladdefelt\n",
    "Nedenfor kan du kladde kode eller skrive andre notater"
   ]
  },
  {
   "cell_type": "code",
   "execution_count": null,
   "metadata": {},
   "outputs": [],
   "source": [
    "# Skriv koden din her"
   ]
  }
 ],
 "metadata": {
  "interpreter": {
   "hash": "701e255ce9e6ffc7be21cb678d8777de32a36d9572a61b0e9645a07eb5a2e63f"
  },
  "kernelspec": {
   "display_name": "Python 3 (ipykernel)",
   "language": "python",
   "name": "python3"
  },
  "language_info": {
   "codemirror_mode": {
    "name": "ipython",
    "version": 3
   },
   "file_extension": ".py",
   "mimetype": "text/x-python",
   "name": "python",
   "nbconvert_exporter": "python",
   "pygments_lexer": "ipython3",
   "version": "3.9.6"
  }
 },
 "nbformat": 4,
 "nbformat_minor": 2
}
