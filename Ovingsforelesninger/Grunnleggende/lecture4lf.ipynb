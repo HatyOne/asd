{
 "cells": [
  {
   "cell_type": "markdown",
   "source": [
    "# Øvingsforelesning 5"
   ],
   "metadata": {}
  },
  {
   "cell_type": "markdown",
   "source": [
    "### Funksjoner"
   ],
   "metadata": {}
  },
  {
   "cell_type": "markdown",
   "source": [
    "## Repetisjon 1"
   ],
   "metadata": {}
  },
  {
   "cell_type": "markdown",
   "source": [
    "Lag et program med en løkke som 10 ganger printer ut et tall mellom 1 og 5.\r\n",
    "\r\n",
    "Hint: \r\n",
    "import random, random.randint(min, max), for-løkke\r\n"
   ],
   "metadata": {}
  },
  {
   "cell_type": "code",
   "execution_count": 1,
   "source": [
    "import random\r\n",
    "\r\n",
    "for i in range(10):\r\n",
    "    tall = random.randint(1,5)\r\n",
    "    print(tall)\r\n",
    "    "
   ],
   "outputs": [
    {
     "output_type": "stream",
     "name": "stdout",
     "text": [
      "4\n",
      "5\n",
      "4\n",
      "1\n",
      "2\n",
      "1\n",
      "5\n",
      "4\n",
      "5\n",
      "1\n"
     ]
    }
   ],
   "metadata": {}
  },
  {
   "cell_type": "markdown",
   "source": [
    "## Oppgave 1\r\n",
    "\r\n",
    "Lag en funksjon som svarer til den matematiske funksjonen\r\n",
    "$$f(x) = x^2 + 2$$"
   ],
   "metadata": {}
  },
  {
   "cell_type": "code",
   "execution_count": 3,
   "source": [
    "def funksjon(x):\r\n",
    "    return x**2 + 2\r\n",
    "\r\n",
    "print(funksjon(3))"
   ],
   "outputs": [
    {
     "output_type": "stream",
     "name": "stdout",
     "text": [
      "11\n"
     ]
    }
   ],
   "metadata": {}
  },
  {
   "cell_type": "markdown",
   "source": [
    "## Oppgave 2\r\n",
    "\r\n",
    "Lag en funksjon som tilsvarer absoluttverdi funksjonen:\r\n",
    "\r\n",
    "$$f(x) = |x|$$ \r\n",
    "\r\n",
    "eller abs(), uten å faktisk bruke abs()"
   ],
   "metadata": {}
  },
  {
   "cell_type": "code",
   "execution_count": null,
   "source": [
    "def absoluttverdi(x):\r\n",
    "    if(x < 0):\r\n",
    "        return -x\r\n",
    "    return x"
   ],
   "outputs": [],
   "metadata": {}
  },
  {
   "cell_type": "markdown",
   "source": [
    "## Oppgave 3"
   ],
   "metadata": {}
  },
  {
   "cell_type": "markdown",
   "source": [
    "*Du ønsker å fremstå sint på et diskusjonsforum på nett, uten den ekstra jobben det er å trykke på Caps Lock*\r\n",
    "\r\n",
    "Lag en funksjon som ber om input fra bruker, og skriver ut det den får i **STORE BOKSTAVER** med et utropstegn på slutten! <br>\r\n",
    "\r\n",
    "Hint:\r\n",
    "* str.upper()\r\n",
    "\r\n",
    "Ekstraoppgave:\r\n",
    "* Endre programmet til å returnere strengen i stedenfor å printe den ut"
   ],
   "metadata": {}
  },
  {
   "cell_type": "code",
   "execution_count": null,
   "source": [
    "def sint_robot(tekst):\r\n",
    "    sint_tekst = tekst.upper() + \"!\"\r\n",
    "    return sint_tekst\r\n",
    "\r\n",
    "ferdig_tekst = sint_robot(\"ITGK er litt vanskelig innimellom\")\r\n",
    "\r\n",
    "print(ferdig_tekst)"
   ],
   "outputs": [],
   "metadata": {}
  },
  {
   "cell_type": "markdown",
   "source": [
    "## Oppgave 4\r\n"
   ],
   "metadata": {}
  },
  {
   "cell_type": "markdown",
   "source": [
    "*Matematiske funksjoner i Python*"
   ],
   "metadata": {}
  },
  {
   "cell_type": "markdown",
   "source": [
    "Lag en funksjon som gjør følgende:\r\n",
    "1. Tar inn parameter x\r\n",
    "2. Utfører operasjoner som svarer til den matematiske funksjonen\r\n",
    "$$f(x) = x^2 + 2x -3 $$\r\n",
    "3. **Printer** resultat\r\n",
    "\r\n",
    "<br>\r\n",
    "Kjør funksjonen med $x = 4$ og $x=10$"
   ],
   "metadata": {}
  },
  {
   "cell_type": "code",
   "execution_count": 4,
   "source": [
    "def f(x):\r\n",
    "    y = x**2 + 2*x - 3\r\n",
    "    return y\r\n",
    "    \r\n",
    "print(f(4))\r\n",
    "print(f(10))"
   ],
   "outputs": [
    {
     "output_type": "stream",
     "name": "stdout",
     "text": [
      "21\n",
      "117\n"
     ]
    }
   ],
   "metadata": {}
  },
  {
   "cell_type": "markdown",
   "source": [
    "## Oppgave 5"
   ],
   "metadata": {}
  },
  {
   "cell_type": "markdown",
   "source": [
    "*Du vil lage en dum chatbot som svarer ja eller nei med like stor sannsynlighet*"
   ],
   "metadata": {}
  },
  {
   "cell_type": "markdown",
   "source": [
    "Lag en funksjon som tar inn et spørsmål som parameter, og skriver ut spørsmålet og svaret sitt (ja eller nei tilfeldig) <br>\n",
    "\n",
    "Hint:\n",
    "* import random\n",
    "* random.choice([«Ja», «Nei»])\n"
   ],
   "metadata": {}
  },
  {
   "cell_type": "code",
   "execution_count": 31,
   "source": [
    "import random\r\n",
    "\r\n",
    "def ja_nei_tilfeldig():\r\n",
    "    spørsmål = input(\"Hva lurer du på?\")\r\n",
    "    svar = random.choice([\"Ja\", \"Nei\"])\r\n",
    "    \r\n",
    "    print(spørsmål, svar)\r\n",
    "\r\n",
    "ja_nei_tilfeldig()"
   ],
   "outputs": [
    {
     "output_type": "stream",
     "name": "stdout",
     "text": [
      "Hva lurer du på?Hva er klokka?\n",
      "Hva er klokka? Ja\n"
     ]
    }
   ],
   "metadata": {}
  },
  {
   "cell_type": "markdown",
   "source": [
    "## Oppgave 6"
   ],
   "metadata": {}
  },
  {
   "cell_type": "markdown",
   "source": [
    "*Forsikring av input-type*"
   ],
   "metadata": {}
  },
  {
   "cell_type": "markdown",
   "source": [
    "* Lag en funksjon som spør bruker om et heltall, og spør igjen dersom brukeren ikke skriver inn et heltall\n",
    "* Når brukeren har skrevet inn et heltall, skal funksjonen skal returnere tallet \n",
    "\n",
    "Hint: \n",
    "* str.isnumeric() sjekker om en streng kun inneholder tall \n"
   ],
   "metadata": {}
  },
  {
   "cell_type": "code",
   "execution_count": 30,
   "source": [
    "def tall_input():\r\n",
    "    bruker_input = input(\"Skriv inn et tall\")\r\n",
    "    while not bruker_input.isnumeric():\r\n",
    "        bruker_input = input(\"Det er ikke et tall, skriv inn et tall\")\r\n",
    "    return int(bruker_input)\r\n",
    "\r\n",
    "x = tall_input()\r\n",
    "print(\"x har verdien\", x)"
   ],
   "outputs": [
    {
     "output_type": "stream",
     "name": "stdout",
     "text": [
      "Skriv inn et tallnei\n",
      "Det er ikke et tall, skriv inn et tallok\n",
      "Det er ikke et tall, skriv inn et tall19\n",
      "x har verdien 19\n"
     ]
    }
   ],
   "metadata": {}
  },
  {
   "cell_type": "markdown",
   "source": [
    "## Oppgave 7 \r\n",
    "*Fakultetsfunksjon*\r\n",
    "* Skriv en funksjon som regner ut fakultetet til et tall og deretter returnerer svaret \r\n",
    "* Fakultetet er gitt ved \r\n",
    "$$x! = x*(X-1)*(X-)*...*3*2*1$$"
   ],
   "metadata": {}
  },
  {
   "cell_type": "code",
   "execution_count": 35,
   "source": [
    "def fakultet(x):\r\n",
    "    produkt = 1\r\n",
    "    for tall in range(1, x+1):\r\n",
    "        produkt *= tall\r\n",
    "    return produkt\r\n",
    "\r\n",
    "x_fak = fakultet(23)\r\n",
    "print(x_fak)"
   ],
   "outputs": [
    {
     "output_type": "stream",
     "name": "stdout",
     "text": [
      "25852016738884976640000\n"
     ]
    }
   ],
   "metadata": {}
  },
  {
   "cell_type": "markdown",
   "source": [
    "## Hint til øvingen"
   ],
   "metadata": {}
  },
  {
   "cell_type": "markdown",
   "source": [
    "* Skriv en funksjon som tar inn et heltall, og returnerer True hvis tallet er et primtall, ellers False\n",
    "\n",
    "* Husk: Et tall er et primtall hvis det ikke er delelig på noen andre tall enn seg selv og 1\n"
   ],
   "metadata": {}
  },
  {
   "cell_type": "code",
   "execution_count": 40,
   "source": [
    "def er_primtall(x):\r\n",
    "    \r\n",
    "    for i in range(2, x): # Her trenger vi egentlig ikke sjekke alle tallene, dette er en enkel men lite effektiv sjekk\r\n",
    "        if x % i == 0:\r\n",
    "            return False\r\n",
    "        \r\n",
    "    return True\r\n",
    "\r\n",
    "print(er_primtall(3))\r\n",
    "print(er_primtall(11))\r\n",
    "print(er_primtall(20))"
   ],
   "outputs": [
    {
     "output_type": "stream",
     "name": "stdout",
     "text": [
      "True\n",
      "True\n",
      "False\n",
      "Skriv inn et tall9\n",
      "Ikke et primtall\n"
     ]
    }
   ],
   "metadata": {}
  },
  {
   "cell_type": "markdown",
   "source": [
    "### Mer effektive løsninger\n",
    "Dette er en veldig lite effektiv løsning, det å sjekke alle tall fra to og opp krever mye jobb.\n",
    "\n",
    "Enkle forbedringer er å bare sjekke opp til kvadratroten av x, og å kun sjekke oddetall og 2, siden tallet ikke kan være delelig på andre partall hvis det ikke er delelig på 2. Mange andre forbedringer er også mulig"
   ],
   "metadata": {}
  },
  {
   "cell_type": "markdown",
   "source": [
    "## Oppgave 8 \r\n",
    "### Del 1\r\n",
    "\r\n",
    "Lag en funksjon omkrets som gjør følgende:\r\n",
    "* Tar inn et tall radius som parameter\r\n",
    "* Returnerer omkretsen til en sirkel med radius `<radius>`\r\n",
    "\r\n",
    "Lag en funksjon areal som gjør følgende:\r\n",
    "* Tar inn et tall radius som parameter\r\n",
    "* Returnerer areal til en sirkel med radius `<radius>`"
   ],
   "metadata": {}
  },
  {
   "cell_type": "code",
   "execution_count": 53,
   "source": [
    "from math import pi\r\n",
    "\r\n",
    "def omkrets(radius):\r\n",
    "    return 2*pi*radius\r\n",
    "\r\n",
    "def areal(radius):\r\n",
    "    return pi*radius**2"
   ],
   "outputs": [],
   "metadata": {}
  },
  {
   "cell_type": "markdown",
   "source": [
    "### Del 2\n",
    "Lag en main()-funksjon som gjør følgende:\n",
    "1. Tar inn en radius fra bruker\n",
    "2. Regner ut omkretsen av en sirkel med radius `<radius>`\n",
    "3. Regner ut arealet av en sirkel med radius `<radius>`\n",
    "4. Skriver ut resultatet fra del (2) og (3)\n"
   ],
   "metadata": {}
  },
  {
   "cell_type": "code",
   "execution_count": null,
   "source": [
    "def geometriprogram():\r\n",
    "    radius = int(input(\"Radius: \"))\r\n",
    "    o = omkrets(radius)\r\n",
    "    a = areal(radius)\r\n",
    "    \r\n",
    "    print(\"Omkrets =\", o, \", areal =\", a)\r\n",
    "    \r\n",
    "geometriprogram()"
   ],
   "outputs": [
    {
     "output_type": "stream",
     "name": "stdout",
     "text": [
      "Radius: 10\n",
      "Omkrets = 62.83185307179586 , areal = 314.1592653589793\n"
     ]
    }
   ],
   "metadata": {}
  },
  {
   "cell_type": "markdown",
   "source": [
    "## Oppgave 9 - Terningspill \r\n",
    "### Del 1\r\n",
    "*Vi skal lage et enkelt terningspill. I spillet trenger vi mulighet til å trille en terning*"
   ],
   "metadata": {}
  },
  {
   "cell_type": "markdown",
   "source": [
    "* Lag en funksjon som triller en terning, dvs. returnerer et tall fra og med 1 til og med 6\n",
    "\n",
    "Hint: \n",
    "* import random, random.randint(1, 6) \n"
   ],
   "metadata": {}
  },
  {
   "cell_type": "code",
   "execution_count": 42,
   "source": [
    "import random\r\n",
    "\r\n",
    "def trill():\r\n",
    "    return random.randint(1,6)"
   ],
   "outputs": [],
   "metadata": {}
  },
  {
   "cell_type": "markdown",
   "source": [
    "###  Del 2\n",
    "*En runde i spillet består av at spilleren gjetter hvor mye hen til sammen kommer til å trille, før 6 terninger trilles. Hvis hen gjettet riktig, får hen 3 poeng. Hvis hen var innenfor 5 fra riktig verdi, får hen 1 poeng.*\n",
    "\n",
    "* Lag en funksjon for å beregne poeng gitt spilleren, basert på spillerens gjett og verdien til de trillede terningene. \n",
    "\n",
    "* Lag så en funksjon for en runde, som spør spilleren om å gjette, triller terninger, og returnerer poengsummen for den runden. \n"
   ],
   "metadata": {}
  },
  {
   "cell_type": "code",
   "execution_count": 43,
   "source": [
    "def poeng(gjett, terning):\r\n",
    "\r\n",
    "    if gjett == terning:\r\n",
    "        poeng = 3\r\n",
    "    elif abs(gjett - terning) <= 5:\r\n",
    "        poeng = 1\r\n",
    "    else:\r\n",
    "        poeng = 0\r\n",
    "    \r\n",
    "    return poeng\r\n",
    "\r\n",
    "def spill_runde():\r\n",
    "    terning = 0\r\n",
    "    for i in range(6):\r\n",
    "        terning += trill()\r\n",
    "    \r\n",
    "    gjett = int(input(\"Hva tror du verdien av terningene blir\"))\r\n",
    "    \r\n",
    "    print(\"Terningene fikk verdien\", terning, \", du gjettet\", gjett, \".\")\r\n",
    "    return poeng(gjett, terning)\r\n"
   ],
   "outputs": [
    {
     "output_type": "stream",
     "name": "stdout",
     "text": [
      "Hva tror du verdien av terningene blir23\n",
      "Terningene fikk verdien 19 , du gjettet 23 .\n"
     ]
    },
    {
     "output_type": "execute_result",
     "data": {
      "text/plain": [
       "1"
      ]
     },
     "metadata": {},
     "execution_count": 43
    }
   ],
   "metadata": {}
  },
  {
   "cell_type": "markdown",
   "source": [
    "### Del 3\n",
    "*Til slutt vil vi ha mulighet til å spille hele spillet*\n",
    "\n",
    "* Husk: main() kaller de andre funksjonene og står for kommunikasjon med bruker\n",
    "\n",
    "* Spør spilleren først hvor mange runder h*n vil spille, og kjør så gjennom `<antall>` mange runder. Hold kontroll på poengsummen til brukeren, og skriv den ut til slutt. \n",
    "\n",
    "Ekstraoppgave:\n",
    "* Utvid spillet til å være for to spillere \n"
   ],
   "metadata": {}
  },
  {
   "cell_type": "code",
   "execution_count": 48,
   "source": [
    "def main():\r\n",
    "    antall_runder = int(input(\"Hvor mange runder vil du spille\"))\r\n",
    "    poengsum = 0\r\n",
    "    for i in range(antall_runder):\r\n",
    "        poengsum += spill_runde()\r\n",
    "        \r\n",
    "    print(\"Du fikk totalt\", poengsum, \"poeng på\", antall_runder, \"runder\")\r\n",
    "\r\n",
    "main()"
   ],
   "outputs": [
    {
     "output_type": "stream",
     "name": "stdout",
     "text": [
      "Skriv inn et tall3\n",
      "Hva tror du verdien av terningene blir21\n",
      "Terningene fikk verdien 21 , du gjettet 21 .\n",
      "Hva tror du verdien av terningene blir21\n",
      "Terningene fikk verdien 19 , du gjettet 21 .\n",
      "Hva tror du verdien av terningene blir21\n",
      "Terningene fikk verdien 28 , du gjettet 21 .\n",
      "Du fikk totalt 4 poeng på 3 runder\n"
     ]
    }
   ],
   "metadata": {}
  }
 ],
 "metadata": {
  "kernelspec": {
   "name": "python3",
   "display_name": "Python 3.6.2 32-bit"
  },
  "language_info": {
   "codemirror_mode": {
    "name": "ipython",
    "version": 3
   },
   "file_extension": ".py",
   "mimetype": "text/x-python",
   "name": "python",
   "nbconvert_exporter": "python",
   "pygments_lexer": "ipython3",
   "version": "3.6.2"
  },
  "interpreter": {
   "hash": "701e255ce9e6ffc7be21cb678d8777de32a36d9572a61b0e9645a07eb5a2e63f"
  }
 },
 "nbformat": 4,
 "nbformat_minor": 2
}