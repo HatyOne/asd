{
 "cells": [
  {
   "cell_type": "markdown",
   "source": [
    "# Øvingsforelesning 1 - TDT4109"
   ],
   "metadata": {}
  },
  {
   "cell_type": "markdown",
   "source": [
    "**Læremål**:\n",
    "\n",
    "* Bli introdusert til hva programmering er\n",
    "\n",
    "* Grunnleggende syntaks\n",
    "\n",
    "* Utføre enkle utregninger i Python\n"
   ],
   "metadata": {}
  },
  {
   "cell_type": "markdown",
   "source": [
    "## Oppgave 1"
   ],
   "metadata": {}
  },
  {
   "cell_type": "markdown",
   "source": [
    "**Hva tilsvarer 80 grader celsius i Fahrenheit?**\n",
    "$$F = \\frac{9}{5}Celsius + 32$$"
   ],
   "metadata": {}
  },
  {
   "cell_type": "code",
   "execution_count": 1,
   "source": [
    "# Skriv koden din her\n"
   ],
   "outputs": [],
   "metadata": {
    "collapsed": false,
    "pycharm": {
     "name": "#%%\n"
    }
   }
  },
  {
   "cell_type": "markdown",
   "source": [
    "## Oppgave 2"
   ],
   "metadata": {
    "collapsed": false,
    "pycharm": {
     "name": "#%% md\n"
    }
   }
  },
  {
   "cell_type": "markdown",
   "source": [
    "**Regn ut følgende i Python ved hjelp av kode**\r\n",
    "\r\n",
    "![img](./../../Resources/Images/regnestykker.jpg)\r\n"
   ],
   "metadata": {}
  },
  {
   "cell_type": "code",
   "execution_count": 2,
   "source": [
    "# Skriv regnestykke 1 her\n"
   ],
   "outputs": [],
   "metadata": {}
  },
  {
   "cell_type": "code",
   "execution_count": 3,
   "source": [
    "# Skriv regnestykke 2 her\n"
   ],
   "outputs": [],
   "metadata": {}
  },
  {
   "cell_type": "code",
   "execution_count": 4,
   "source": [
    "# Skriv regnestykke 3 her\n"
   ],
   "outputs": [],
   "metadata": {
    "collapsed": true
   }
  },
  {
   "cell_type": "code",
   "execution_count": 5,
   "source": [
    "# Skriv regnestykke 4 her\n"
   ],
   "outputs": [],
   "metadata": {
    "collapsed": true
   }
  },
  {
   "cell_type": "markdown",
   "source": [
    "## Oppgave 3\n",
    "\n",
    "Hva blir resten når $2^7$ deles på $42$ "
   ],
   "metadata": {}
  },
  {
   "cell_type": "code",
   "execution_count": null,
   "source": [
    "#Skriv kode her\n"
   ],
   "outputs": [],
   "metadata": {}
  },
  {
   "cell_type": "markdown",
   "source": [
    "## Oppgave 4: Input\n",
    "\n",
    "**Lag et program som gjør følgende:**\n",
    "1. Tar inn to tall fra bruker\n",
    "2. Multipliserer dem \n",
    "3. Skriver ut (tall 1) \\* (tall 2) = (resultat)"
   ],
   "metadata": {}
  },
  {
   "cell_type": "code",
   "execution_count": null,
   "source": [
    "#Skriv kode her\n"
   ],
   "outputs": [],
   "metadata": {}
  },
  {
   "cell_type": "markdown",
   "source": [
    "## Oppgave 5: Innebygde funksjoner \n",
    "\n",
    "Skriv et program som spør brukeren om to tall og printer absoluttverdien av differansen\n",
    "<br>\n",
    "\n",
    "Hint: Bruk den innebygde funksjonen **abs()**"
   ],
   "metadata": {}
  },
  {
   "cell_type": "code",
   "execution_count": null,
   "source": [
    "#Skriv kode her\n"
   ],
   "outputs": [],
   "metadata": {}
  },
  {
   "cell_type": "markdown",
   "source": [
    "## Oppgave 6: Feilretting og variabeltyper\n",
    "\n",
    "Følgende program skal regne ut og printe summen av prisen på tre varer. Prisene er lagret som forskjellige variabeltyper. Undersøk feilmeldingene og rett koden slik at den skriver ut riktig totalsum."
   ],
   "metadata": {}
  },
  {
   "cell_type": "code",
   "execution_count": null,
   "source": [
    "banan_pris = 10.50\n",
    "melk_pris = '23.50'\n",
    "havregryn_pris = 15\n",
    "\n",
    "total_sum = banan_pris + melk_pris + havregryn_pris\n",
    "\n",
    "print('Totalsummen for varene er ' + total_sum)"
   ],
   "outputs": [],
   "metadata": {}
  },
  {
   "cell_type": "markdown",
   "source": [
    "## Fritt kodefelt (Du kan bruke  dette for å teste egen kode)"
   ],
   "metadata": {
    "collapsed": false,
    "pycharm": {
     "name": "#%% md\n"
    }
   }
  },
  {
   "cell_type": "code",
   "execution_count": 7,
   "source": [
    "# Skriv koden din her\n"
   ],
   "outputs": [],
   "metadata": {
    "collapsed": false,
    "pycharm": {
     "name": "#%%\n"
    }
   }
  }
 ],
 "metadata": {
  "kernelspec": {
   "name": "python3",
   "display_name": "Python 3.6.2 32-bit"
  },
  "language_info": {
   "codemirror_mode": {
    "name": "ipython",
    "version": 3
   },
   "file_extension": ".py",
   "mimetype": "text/x-python",
   "name": "python",
   "nbconvert_exporter": "python",
   "pygments_lexer": "ipython3",
   "version": "3.6.2"
  },
  "interpreter": {
   "hash": "701e255ce9e6ffc7be21cb678d8777de32a36d9572a61b0e9645a07eb5a2e63f"
  }
 },
 "nbformat": 4,
 "nbformat_minor": 2
}