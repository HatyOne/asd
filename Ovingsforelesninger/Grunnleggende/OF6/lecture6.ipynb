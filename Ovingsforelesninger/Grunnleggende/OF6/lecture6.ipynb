{
 "cells": [
  {
   "cell_type": "markdown",
   "metadata": {},
   "source": [
    "# Øvingsforelesning 6"
   ]
  },
  {
   "cell_type": "markdown",
   "metadata": {},
   "source": [
    "## Repetisjonsoppgave"
   ]
  },
  {
   "cell_type": "markdown",
   "metadata": {},
   "source": [
    "*Du skal på butikken for moren din og har fått beskjed om å huske alle gjenstandene du skal kjøpe med.* <br><br>\n",
    "\n",
    "Du har gitt en liste, `handleliste` som sier gjenstandene du skal kjøpe, og en liste `priser` som gir prisene til alle elementene i handlelisten. Det vil si at prisen til `handleliste[i]`er gitt av `priser[i]`hvor `i` er indeksen (plassen) til elementet i listene."
   ]
  },
  {
   "cell_type": "code",
   "execution_count": null,
   "metadata": {
    "collapsed": true
   },
   "outputs": [],
   "source": [
    "handleliste = [\"Melk\", \"Bananer\", \"Brus\", \"Rundstykker\", \"Godteri\", \"Bønner\", \"Nøtter\"]\n",
    "priser = [17, 5, 25, 15, 55, 10, 30]"
   ]
  },
  {
   "cell_type": "markdown",
   "metadata": {},
   "source": [
    "Lag en funksjon `print_handleliste` som tar inn to parametre, handlelisten og prislisten, og printer ut handleliste-elementet med korresponderende pris med `:` mellom og `'kr'` på slutten. \n",
    "\n",
    "**PS:** Kjør kodeblokken over for å definere ```handleliste``` og ```priser``` i ditt program slik at du kan teste funksjonen din."
   ]
  },
  {
   "cell_type": "code",
   "execution_count": null,
   "metadata": {
    "collapsed": true
   },
   "outputs": [],
   "source": [
    "# din kode her"
   ]
  },
  {
   "cell_type": "markdown",
   "metadata": {},
   "source": [
    "## Oppgave 1"
   ]
  },
  {
   "cell_type": "markdown",
   "metadata": {},
   "source": [
    "Lag en funksjon som tar inn to ord og sjekker om de tre første bokstavene i ordene er like, ikke sensitivt for store/små bokstaver\n",
    "\n",
    "Returner ```True``` hvis de tre første bokstavene er like, ```False``` ellers\n",
    "\n",
    "*«Fotball»* og *«fotografi»* skal i dette tilfellet gi True\n",
    "\n",
    "**Hint:**\n",
    "* Bruk slicing for å hente ut en substreng med de tre første bokstavene - ```new_str = str[0:3]```\n",
    "* Bruk ```str.lower()``` for å kun sammenligne små bokstaver\n"
   ]
  },
  {
   "cell_type": "code",
   "execution_count": null,
   "metadata": {
    "collapsed": true
   },
   "outputs": [],
   "source": [
    "# kode her"
   ]
  },
  {
   "cell_type": "markdown",
   "metadata": {},
   "source": [
    "## Oppgave 2"
   ]
  },
  {
   "cell_type": "markdown",
   "metadata": {},
   "source": [
    "<img src=\"hva_printes_her.jpg\" style=\"width: 400px\">"
   ]
  },
  {
   "cell_type": "markdown",
   "metadata": {},
   "source": [
    "Dobbeltklikk på blokken under for å skrive svaret ditt."
   ]
  },
  {
   "cell_type": "markdown",
   "metadata": {},
   "source": [
    "SVAR:"
   ]
  },
  {
   "cell_type": "code",
   "execution_count": null,
   "metadata": {
    "collapsed": true
   },
   "outputs": [],
   "source": [
    "# Denne kodeblokken kan du bruke til å kladde"
   ]
  },
  {
   "cell_type": "markdown",
   "metadata": {},
   "source": [
    "## Oppgave 3"
   ]
  },
  {
   "cell_type": "markdown",
   "metadata": {},
   "source": [
    "Lag en funksjon som tar inn et ord og en bokstav. Funksjonen skal returnere en liste over alle indeksene man finner bokstaven i ordet\n",
    "\n",
    "Lag en funksjon ```contains_vocals(str)``` som tar inn en streng ```str``` og som returnerer ```True``` eller ```False``` avhengig om strengen inneholder vokaler eller ikke\n"
   ]
  },
  {
   "cell_type": "code",
   "execution_count": null,
   "metadata": {},
   "outputs": [],
   "source": [
    "# Kode her"
   ]
  },
  {
   "cell_type": "markdown",
   "metadata": {
    "collapsed": false
   },
   "source": [
    "## Oppgave 4"
   ]
  },
  {
   "cell_type": "markdown",
   "metadata": {
    "collapsed": false
   },
   "source": [
    "Lag funksjonen ```isAngry(word)``` som tar inn en streng word og som returnerer ```True``` hvis alle alfabetiske tegn er store og strengen slutter på ‘!’.\n",
    "\n",
    "Eksempel på kjøring:\n",
    "* ```print(isAngry(“Så fin du er!”)) # Printer False```\n",
    "* ```print(isAngry(“SÅ FIN DU ER!”)) # Printer True```\n"
   ]
  },
  {
   "cell_type": "code",
   "execution_count": null,
   "metadata": {
    "collapsed": false,
    "pycharm": {
     "name": "#%%\n"
    }
   },
   "outputs": [],
   "source": [
    "# Kode her"
   ]
  },
  {
   "cell_type": "markdown",
   "metadata": {
    "collapsed": false
   },
   "source": [
    "## Oppgave 5"
   ]
  },
  {
   "cell_type": "markdown",
   "metadata": {
    "collapsed": false
   },
   "source": [
    "Lag en funksjon som tar inn en liste med strenger og som returnerer en sammensatt streng bestående av strengene i listen som inneholder vokaler\n",
    "\n",
    "**Hint:**\n",
    "* Bruk ```contains_vocals(str)``` fra oppgave 3b) "
   ]
  },
  {
   "cell_type": "code",
   "execution_count": null,
   "metadata": {
    "collapsed": false,
    "pycharm": {
     "name": "#%%\n"
    }
   },
   "outputs": [],
   "source": [
    "# Koden din"
   ]
  },
  {
   "cell_type": "markdown",
   "metadata": {},
   "source": [
    "## Oppgave 6"
   ]
  },
  {
   "cell_type": "markdown",
   "metadata": {},
   "source": [
    "Lag en funksjon som tar inn en streng og som returnerer en liste med alle ord i strengen\n",
    "\n",
    "Listen skal kun inneholde ord uten mellomrom og andre ikke-alfabetiske tegn"
   ]
  },
  {
   "cell_type": "code",
   "execution_count": null,
   "metadata": {},
   "outputs": [],
   "source": [
    "# Koden din"
   ]
  },
  {
   "cell_type": "markdown",
   "metadata": {},
   "source": [
    "## Eksamensoppgave\n",
    "*Oppgavene er hentet fra kontinuasjonseksamen august 2020*\n",
    "### Oppgave 2.1\n",
    "\n",
    "Lag funksjonen ``home_draw_away`` som har en input-parameter ``matches`` som er en liste som\n",
    "inneholder informasjon om fotballkamper i siste runde ble hjemmeseier (\"H\"), uavgjort (\"U\")\n",
    "eller borteseier (\"B\").\n",
    "\n",
    "Funksjonen skal returnere ei liste med 3 tall, der det første tallet er antallet hjemmeseire, det\n",
    "andre tallet er antallet uavgjort, og det siste tallet er antallet borteseiere. Funksjonen skal\n",
    "fungere på lister av ulik lengde, skal fungere for stor og liten bokstav for H, U og B, samt at\n",
    "den skal ignorere resultat som ikke er H, U, eller B.\n",
    "\n",
    "Eksempel på kjøring av kode: \n",
    "<br>\n",
    "<img src=\"eksempelpakjoring21.png\" style=\"width: 400px;\">\n"
   ]
  },
  {
   "cell_type": "code",
   "execution_count": null,
   "metadata": {},
   "outputs": [],
   "source": [
    "matches = (\"H\", \"u\", \"B\", \"h\", \"b\", \"H\", \"U\", \"H\", \"h\", \"B\", \"H\", \"U\", \"x\", \"h\", \"U\")\n",
    "\n",
    "def home_draw_away(matches):\n",
    "    #koden din her\n",
    "\n",
    "res = home_draw_away(matches)\n",
    "print(res)"
   ]
  },
  {
   "cell_type": "markdown",
   "metadata": {},
   "source": [
    "## Oppgave 2.2\n",
    "\n",
    "Lag funksjon ``pos_vocals`` som tar inn en parameter ``text`` som er en tekststreng og returnerer\n",
    "posisjonen til alle norske vokaler i strengen ``text`` som ei liste. Funksjonen skal fungere for\n",
    "vokaler skrevet med stor og liten bokstav.\n",
    "\n",
    "Eksempel på kjøring av kode:\n",
    "\n",
    "```python\n",
    "test = \"DettE er et eksempel pÅ lAng liste med vokaler\"\n",
    "pos = pos_vocals(test)\n",
    "print(pos)\n",
    "[1, 4, 6, 9, 12, 15, 18, 22, 25, 30, 33, 36, 40, 42, 44]\n",
    "```"
   ]
  },
  {
   "cell_type": "code",
   "execution_count": null,
   "metadata": {},
   "outputs": [],
   "source": [
    "test = \"DettE er et eksempel pÅ lAng liste med vokaler\"\n",
    "\n",
    "def pos_vocals(text):\n",
    "    #koden din her\n",
    "\n",
    "print(pos_vocals(test))"
   ]
  },
  {
   "cell_type": "markdown",
   "metadata": {},
   "source": [
    "## Oppgave 2.3\n",
    "\n",
    "Lag funksjon ``unique`` som har en inn-parameter ``text`` som er en tekststreng.\n",
    "\n",
    "Funksjonen skal returnere en liste med alle unike ord i teksten skrevet med små bokstaver.\n",
    "Rekkefølgen ordene i lista har er ikke bestemt. Merk at funksjonen skal returnere kun ord og\n",
    "tegn som man typisk har i en setning skal fjernes. Man kan anta at tekstrengen starter med en\n",
    "bokstav, at ordene er adskilt med mellomrom, at man ikke har tegn inne i et ord, og at man\n",
    "ikke har flere enn et tegn etter hverandre.\n",
    "\n",
    "Eksempel på kjøring av kode:\n",
    "```python\n",
    "test = \"Er dette greit, eller er det IKKE greit? Det er greit tror jeg!\"\n",
    "words = unique(test)\n",
    "print(words)\n",
    ">>> [\"er\", \"dette\", \"greit\", \"eller\", \"det\", \"ikke\", \"tror\", \"jeg\"]\n",
    "```"
   ]
  },
  {
   "cell_type": "code",
   "execution_count": null,
   "metadata": {},
   "outputs": [],
   "source": [
    "test = \"Er dette greit, eller er det IKKE greit? Det er greit tror jeg!\"\n",
    "tegn = '.,:;?!-_*@+'\n",
    "\n",
    "def unique(test):\n",
    "    # koden din her\n"
   ]
  }
 ],
 "metadata": {
  "interpreter": {
   "hash": "701e255ce9e6ffc7be21cb678d8777de32a36d9572a61b0e9645a07eb5a2e63f"
  },
  "kernelspec": {
   "display_name": "Python 3.6.2 32-bit",
   "name": "python3"
  },
  "language_info": {
   "codemirror_mode": {
    "name": "ipython",
    "version": 3
   },
   "file_extension": ".py",
   "mimetype": "text/x-python",
   "name": "python",
   "nbconvert_exporter": "python",
   "pygments_lexer": "ipython3",
   "version": "3.6.2"
  }
 },
 "nbformat": 4,
 "nbformat_minor": 2
}
