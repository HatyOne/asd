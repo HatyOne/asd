{
 "cells": [
  {
   "cell_type": "markdown",
   "source": [
    "# Repetisjonsforelesning 1\r\n",
    "\r\n",
    "## Oppgave 1\r\n",
    "\r\n",
    "Lag en funksjon som returnerer kvadratroten av et tilfeldig tall mellom en og ti. \r\n",
    "Hint: \r\n",
    "* import math, random\r\n",
    "* math.sqrt\r\n",
    "* random.randint"
   ],
   "metadata": {}
  },
  {
   "cell_type": "code",
   "execution_count": 4,
   "source": [
    "import math, random\r\n",
    "\r\n",
    "def random_sqareroot():\r\n",
    "    return math.sqrt(random.randint(1,10))\r\n",
    "\r\n",
    "random_sqareroot()"
   ],
   "outputs": [
    {
     "output_type": "execute_result",
     "data": {
      "text/plain": [
       "2.449489742783178"
      ]
     },
     "metadata": {},
     "execution_count": 4
    }
   ],
   "metadata": {}
  },
  {
   "cell_type": "markdown",
   "source": [
    "## Oppgave 2\n",
    "\n",
    "Lag en funksjon som tar inn et ord som parameter og returnerer True eller False avhengig om ordet starter med en vokal.\n",
    "\n",
    "__Hint:__\n",
    "```python\n",
    "ord = “Hello world!”\n",
    "første_bokstav = ord[0]\n",
    "```"
   ],
   "metadata": {}
  },
  {
   "cell_type": "code",
   "execution_count": null,
   "source": [
    "def begynner_med_vokal(ord):\r\n",
    "    b = ord[0]\r\n",
    "    return (b == \"a\" or b == \"e\" or b == \"i\" or b == \"o\" or b == \"u\" or b == \"æ\" or b == \"ø\" or b == \"å\")"
   ],
   "outputs": [],
   "metadata": {}
  },
  {
   "cell_type": "markdown",
   "source": [
    "## Oppgave 3\n",
    "\n",
    "Lag en funksjon ```sec_to_time``` som har en input-parameter ```s``` som er antall sekunder angitt som et heltall og som skal regne om dette til formatet t:m:s. Resultatet skal returneres som en tekststreng.\n",
    " \n",
    "Her står t for time, m for minutt og s for sekunder. \n",
    "\n",
    "Hvis tiden er mindre enn 1 time skal den returnere 'm:s'. Ellers skal den returnere 't:m:s'.\n",
    "\n",
    "**Eks. på riktig output:** '0:45','2:23', '12:04','1:02:09' etc.\n",
    "\n",
    "*Legg merke til at hvis antall sekunder (og minutter hvis det er over en time) er mindre enn 10 skal det det skrives en 0 først.*\n",
    "\n"
   ],
   "metadata": {}
  },
  {
   "cell_type": "code",
   "execution_count": 17,
   "source": [
    "def compute_minutes(s):\r\n",
    "    m = s//60\r\n",
    "    if m != 0:\r\n",
    "        s %= m*60\r\n",
    "    if s < 10: \r\n",
    "        s = f\"0{s}\"\r\n",
    "    if m < 10: \r\n",
    "        m = f\"0{m}\"\r\n",
    "    return m, s\r\n",
    "\r\n",
    "def sec_to_time(s):\r\n",
    "    if s >= 3600:\r\n",
    "        # Compute hours\r\n",
    "        t = s//3600\r\n",
    "        s %= t*3600\r\n",
    "        m, s = compute_minutes(s)\r\n",
    "        print(f\"{t}:{m}:{s}\")\r\n",
    "    else:\r\n",
    "        m, s = compute_minutes(s)\r\n",
    "        print(f\"{m}:{s}\")\r\n",
    "\r\n",
    "print(sec_to_time(914))"
   ],
   "outputs": [
    {
     "output_type": "stream",
     "name": "stdout",
     "text": [
      "15:14\n",
      "None\n"
     ]
    }
   ],
   "metadata": {}
  },
  {
   "cell_type": "markdown",
   "source": [
    "## Oppgave 4\r\n",
    "\r\n",
    "Lag en funksjon er_primtall som sjekker om et tall er et primtall ved å sjekke alle tall fra 2 opp til takfunksjonen av kvadratroten til x. \r\n",
    "\r\n",
    "Hint:\r\n",
    "* Bruk oppgaven fra forrige OF\r\n",
    "* math.ceil\r\n",
    "* math.sqrt\r\n"
   ],
   "metadata": {}
  },
  {
   "cell_type": "code",
   "execution_count": 5,
   "source": [
    "import math\r\n",
    "\r\n",
    "def er_primtall(x):\r\n",
    "    for i in range(2, math.ceil(math.sqrt(x)) + 1): # Her trenger vi egentlig ikke sjekke alle tallene, dette er en enkel men lite effektiv sjekk\r\n",
    "        if x % i == 0:\r\n",
    "            return False\r\n",
    "    return True\r\n",
    "\r\n",
    "print(er_primtall(11))\r\n",
    "print(er_primtall(12))"
   ],
   "outputs": [
    {
     "output_type": "stream",
     "name": "stdout",
     "text": [
      "True\n",
      "False\n"
     ]
    }
   ],
   "metadata": {}
  },
  {
   "cell_type": "markdown",
   "source": [
    "## Oppgave 5\r\n",
    "\r\n",
    "La oss prøve å kombinere det vi har lært. \r\n",
    "* Lag en funksjon main() som spør brukeren om å gi inn et tall.\r\n",
    "* Dersom brukeren ikke gir inn et tall skal programmet fortsette og spørre om et tall. \r\n",
    "* Dersom brukeren gir inn et tall skal programmet sjekke om tallet er et primtall, og printe ut en passende melding om det er det. \r\n",
    "* Dersom det ikke er et primtall, skal programmet sjekke om det er et partall og printe ut en passende melding om det er det. \r\n",
    "* Dersom det ikke er et partall skal programmet til slutt printe ut kvadratroten av et tilfeldig tall mellom en og ti.\r\n",
    "* Hint: bruk funksjonene vi har laget\r\n"
   ],
   "metadata": {}
  },
  {
   "cell_type": "code",
   "execution_count": 10,
   "source": [
    "def main():\r\n",
    "    tall = input(\"Skriv et tall vær så snill!\")\r\n",
    "    while not tall.isnumeric():\r\n",
    "        tall = input(\"Det var ikke et tall! Skriv et tall vær så snill!\")\r\n",
    "    if(er_primtall(int(tall))):\r\n",
    "        print(\"Oi dette var jo et primtall\")\r\n",
    "    elif(int(tall) % 2 == 0):\r\n",
    "        print(\"Det var et fint partall\")\r\n",
    "    else:\r\n",
    "        print(f\"Kjedelig oddetall, jeg foretrekker {random_sqareroot()}\")\r\n",
    "\r\n",
    "main()"
   ],
   "outputs": [
    {
     "output_type": "stream",
     "name": "stdout",
     "text": [
      "Jeg foretrekker 2.0\n"
     ]
    }
   ],
   "metadata": {}
  }
 ],
 "metadata": {
  "orig_nbformat": 4,
  "language_info": {
   "name": "python",
   "version": "3.9.6",
   "mimetype": "text/x-python",
   "codemirror_mode": {
    "name": "ipython",
    "version": 3
   },
   "pygments_lexer": "ipython3",
   "nbconvert_exporter": "python",
   "file_extension": ".py"
  },
  "kernelspec": {
   "name": "python3",
   "display_name": "Python 3.9.6 64-bit ('3.9.6': pyenv)"
  },
  "interpreter": {
   "hash": "d94fa6a33bbb54adf5e3ca8d28eb28d067b72adf7b4ab325cec1486e2af9ed72"
  }
 },
 "nbformat": 4,
 "nbformat_minor": 2
}