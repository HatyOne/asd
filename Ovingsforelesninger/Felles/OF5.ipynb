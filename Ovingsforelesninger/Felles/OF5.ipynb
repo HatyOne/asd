{
 "cells": [
  {
   "cell_type": "markdown",
   "source": [
    "# OF 5\r\n",
    "\r\n",
    "## Oppgave 1\r\n",
    "\r\n",
    "Lag en funksjon som returnerer kvadratroten av et tilfeldig tall mellom en og ti. \r\n",
    "Hint: \r\n",
    "* import math, random\r\n",
    "* math.sqrt\r\n",
    "* random.randint"
   ],
   "metadata": {}
  },
  {
   "cell_type": "code",
   "execution_count": null,
   "source": [
    "#skriv kode her"
   ],
   "outputs": [],
   "metadata": {}
  },
  {
   "cell_type": "markdown",
   "source": [
    "## Oppgave 2\n",
    "\n",
    "Lag en funksjon som tar inn et ord som parameter og returnerer True eller False avhengig om ordet starter med en vokal.\n",
    "\n",
    "__Hint:__\n",
    "```python\n",
    "ord = “Hello world!”\n",
    "første_bokstav = ord[0]\n",
    "```"
   ],
   "metadata": {}
  },
  {
   "cell_type": "code",
   "execution_count": null,
   "source": [
    "#skriv kode her"
   ],
   "outputs": [],
   "metadata": {}
  },
  {
   "cell_type": "markdown",
   "source": [
    "## Oppgave 3\n",
    "\n",
    "Lag en funksjon ```sec_to_time``` som har en input-parameter ```s``` som er antall sekunder angitt som et heltall og som skal regne om dette til formatet t:m:s. Resultatet skal returneres som en tekststreng.\n",
    " \n",
    "Her står t for time, m for minutt og s for sekunder. \n",
    "\n",
    "Hvis tiden er mindre enn 1 time skal den returnere 'm:s'. Ellers skal den returnere 't:m:s'.\n",
    "\n",
    "**Eks. på riktig output:** '0:45','2:23', '12:04','1:02:09' etc.\n",
    "\n",
    "*Legg merke til at hvis antall sekunder (og minutter hvis det er over en time) er mindre enn 10 skal det det skrives en 0 først.*\n",
    "\n"
   ],
   "metadata": {}
  },
  {
   "cell_type": "code",
   "execution_count": null,
   "source": [
    "#skriv kode her"
   ],
   "outputs": [],
   "metadata": {}
  },
  {
   "cell_type": "markdown",
   "source": [
    "## Oppgave 4"
   ],
   "metadata": {}
  },
  {
   "cell_type": "code",
   "execution_count": null,
   "source": [
    "#skriv kode her"
   ],
   "outputs": [],
   "metadata": {}
  },
  {
   "cell_type": "markdown",
   "source": [
    "## Oppgave 5"
   ],
   "metadata": {}
  },
  {
   "cell_type": "code",
   "execution_count": null,
   "source": [
    "#skriv kode her"
   ],
   "outputs": [],
   "metadata": {}
  }
 ],
 "metadata": {
  "orig_nbformat": 4,
  "language_info": {
   "name": "python",
   "version": "3.9.6",
   "mimetype": "text/x-python",
   "codemirror_mode": {
    "name": "ipython",
    "version": 3
   },
   "pygments_lexer": "ipython3",
   "nbconvert_exporter": "python",
   "file_extension": ".py"
  },
  "kernelspec": {
   "name": "python3",
   "display_name": "Python 3.9.6 64-bit ('3.9.6': pyenv)"
  },
  "interpreter": {
   "hash": "d94fa6a33bbb54adf5e3ca8d28eb28d067b72adf7b4ab325cec1486e2af9ed72"
  }
 },
 "nbformat": 4,
 "nbformat_minor": 2
}