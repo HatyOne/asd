{
 "cells": [
  {
   "cell_type": "markdown",
   "metadata": {},
   "source": [
    "# Repetisjonsforelesning 2"
   ]
  },
  {
   "cell_type": "markdown",
   "metadata": {},
   "source": [
    "## Eksamen høst 2017, oppgave 3\n",
    "\n",
    "Vi skal lage programvare for to fotobokser (fotoboks A og fotoboks B) som blant skal brukes til å måle gjennomsnittsfart på kjøretøy. \n",
    "\n",
    "<img src=\"fotoboks.png\" style=\"width: 300px\">\n",
    "\n",
    "Hver fotoboks gjenkjenner registreringsnummer, dato (år, måned, dag) og tidspunkt (timer, minutter, sekund) for alle biler som passerer i en retning (først fotoboks A, deretter fotoboks B)\n",
    "\n",
    "Målinger fra en fotoboks lagres i en 2-dimensjonal liste på følgende format (her for boks A):\n",
    "\n",
    "```\n",
    "box_a= [ \n",
    "  [2017, 11, 17, 6, 21, 12, 'HB69082'], \n",
    "  [2017, 11, 17, 6, 21, 53, 'CV86023'], \n",
    "  ... ,  \n",
    "  [2017, 11, 17, 6, 23, 0, 'HD27560']\n",
    "]\n",
    "```"
   ]
  },
  {
   "cell_type": "markdown",
   "metadata": {},
   "source": [
    "### Oppgave 3b)\n",
    "\n",
    "Skriv funksjonen ```time_diff``` som tar inn to lister (```start``` og ```end```), der hver liste beskriver et tidspunkt angitt med dato og klokkeslett. Den første lista (```start```) er tidspunktet for passering av fotoboks A, mens den andre liste (```end```) er tidspunkt for passering av fotoboks B (senere tidspunkt enn A). **Funksjonen skal returnere differansen mellom tidspunktene angitt i sekunder.** \n",
    "\n",
    "Funksjonen skal også fungere for forskjellige datoer for å ta hensyn til kjøring rundt midnatt. For å beregne antall dager mellom datoer, kan du bruke funksjonen ```diff_date(d1,d2)``` som returnerer antall dager mellom ```d2``` og ```d1```, der ```d1``` og ```d2``` er dato spesifisert som ei liste på formatet *[y,m,d]*, for eksempel *[2017,11,17]*.\n",
    "\n",
    "**Eksempel på kjøring:**\n",
    "```\n",
    ">>> diff = time_diff([2017,11,17,6,24,40],[2017,11,17,6,32,40])\n",
    ">>> print(diff) \n",
    "480\n",
    ">>> diff = time_diff([2017,11,17,23,59,59],[2017,11,18,0,9,12])\n",
    ">>> print(diff)\n",
    "553\n",
    "```"
   ]
  },
  {
   "cell_type": "code",
   "execution_count": 2,
   "metadata": {},
   "outputs": [
    {
     "data": {
      "text/plain": [
       "480"
      ]
     },
     "execution_count": 2,
     "metadata": {},
     "output_type": "execute_result"
    }
   ],
   "source": [
    "from datetime import datetime\n",
    "\n",
    "# Utdelt funksjon. Denne kan du bruke til å løse oppgave 3b.\n",
    "def diff_date(d1, d2):\n",
    "    d1 = datetime(d1[0], d1[1], d1[2])\n",
    "    d2 = datetime(d2[0], d2[1], d2[2])\n",
    "    return (d2-d1).days\n",
    "\n",
    "# Din kode her\n",
    "def time_diff(start,end):\n",
    "    secsPerDay = 60*60*24\n",
    "    day_diff = diff_date(start[:3],end[:3])\n",
    "    since_midnight_start = start[5] + start[4]*60 +start[3]*60*60\n",
    "    since_midnight_end = end[5] + end[4]*60 + end[3]*60*60\n",
    "    time_diff = since_midnight_end-since_midnight_start\n",
    "    return day_diff*secsPerDay+time_diff\n",
    "\n",
    "time_diff([2017,11,17,6,24,40],[2017,11,17,6,32,40])"
   ]
  },
  {
   "cell_type": "markdown",
   "metadata": {},
   "source": [
    "### Oppgave 3c)\n",
    "\n",
    "Skriv funksjonen ```check_min_distance``` som har parameterne ```car_table``` og ```diff```. Parameteren ```car_table``` er en todimensjonal tabell av passeringer som spesifisert i introduksjonen, mens ```diff``` er avstand som kreves mellom biler angitt i sekunder. \n",
    "\n",
    "**Funksjonen skal returnere registreringsnummer på biler som har mindre avstand i sekunder til bilen foran enn ```diff```.**\n",
    "\n",
    "Eksempel på kall av funksjonen ```check_min_distance``` med passeringer fra fotoboks A og for avstand mellom biler på mindre enn 3 sekunder:\n",
    "```\n",
    ">>> car_table=file_to_table('box_a.txt')\n",
    ">>> crazy_drivers=check_min_distance(car_table,3) \n",
    ">>> print(crazy_drivers)\n",
    "['UT29891', 'UT55227']\n",
    "```"
   ]
  },
  {
   "cell_type": "code",
   "execution_count": null,
   "metadata": {},
   "outputs": [],
   "source": [
    "# Din kode her\n",
    "def check_min_distance(car_table,diff): \n",
    "    crazy_drivers=[]\n",
    "    for i in range(len(car_table)-1):\n",
    "        first_car=car_table[i][0:6]\n",
    "        sec_car=car_table[i+1][0:6]\n",
    "        if time_diff(first_car,sec_car)<diff:\n",
    "            crazy_drivers.append(car_table[i+1][6]) \n",
    "    return crazy_drivers"
   ]
  },
  {
   "cell_type": "markdown",
   "metadata": {},
   "source": [
    "### Oppgave 3d)\n",
    "\n",
    "Skriv funksjonen ```list_el_cars``` som har en parameter ```car_table``` som er en **todimensjonal tabell av passeringer** slik som spesifisert i introduksjonen. \n",
    "\n",
    "**Funksjonen skal returnere antall el-biler som har passert.**\n",
    "\n",
    "El-biler har registreringsnummer som starter med EK, EL eller EV.\n",
    "\n",
    "Eksempel på kall av funksjonen ```list_el_cars``` med passeringer fra fotoboks A:\n",
    "```\n",
    ">>> el_cars=list_el_cars(car_table)\n",
    ">>> print(el_cars)\n",
    "1\n",
    "```\n"
   ]
  },
  {
   "cell_type": "code",
   "execution_count": null,
   "metadata": {},
   "outputs": [],
   "source": [
    "# Din kode her\n",
    "def list_el_cars(car_table): \n",
    "    el_cars=0\n",
    "    el_plates = ['EK', 'EL', 'EV']\n",
    "    for item in car_table:\n",
    "        plate= item[6]\n",
    "        if plate[:2] in el_plates:\n",
    "            el_cars+=1 \n",
    "    return el_cars"
   ]
  },
  {
   "cell_type": "markdown",
   "metadata": {},
   "source": [
    "### Oppgave 3e)\n",
    "\n",
    "Skriv funksjonen ```generate_license_numbers``` som har en parameter ```amount```. Denne funksjonen skal **returnere ei liste av ```amount``` antall unike vilkårlige registreringsnummer** som kan brukes til testing av systemet. \n",
    "\n",
    "Bokstavene i registreringsnummeret kan være en av følgende: \n",
    "* BS, CV, EL, FY, KU, LE, NB, PC, SY, WC\n",
    "\n",
    "Tallet i registreringsnummeret skal være mellom **10000** og **99999.**\n",
    "\n",
    "Eksempel på kall av funksjonen ```generate_license_numbers```:\n",
    "\n",
    "```\n",
    ">>> cars=generate_license_numbers(10)\n",
    ">>> print(cars)\n",
    "['CV29728', 'KU73709', 'EL87605', 'NB76581', 'KU65980', \n",
    "'WC71086', 'PC48338', 'KU36868', 'NB44194', 'KU10621']\n",
    "```"
   ]
  },
  {
   "cell_type": "code",
   "execution_count": null,
   "metadata": {},
   "outputs": [],
   "source": [
    "# Din kode her\n",
    "from random import randint\n",
    "def generate_license_numbers(amount): \n",
    "    letters=('BS','CV','EL','FY','KU','LE','NB','PC','SY','WC') \n",
    "    numbers = []\n",
    "    for x in range(amount):\n",
    "        plate=0\n",
    "        while plate not in numbers:\n",
    "            plate=letters[randint(0,len(letters)-1)] + str(randint(10000,99999))\n",
    "        numbers.append(plate)\n",
    "    return numbers"
   ]
  },
  {
   "cell_type": "markdown",
   "metadata": {},
   "source": [
    "### Oppgave 3f)\n",
    "\n",
    "Skriv funksjonen ```list_speeders``` som har fire parameterere ```lst_A```, ```lst_B```, ```speed_limit``` og ```distance```. De to første parameterne er tabeller som inneholder passeringer for fotoboks A og B. Parameteren ```speed_limit``` angir fartsgrensen for strekningen oppgitt i km/t, mens parameteren ```distance``` oppgir avstand mellom fotoboksene angitt i km. \n",
    "\n",
    "**Funksjonen skal returnere en liste av registreringsnummer til alle biler som har kjørt over fartsgrensa (```speed_limit```) for angitt strekning (```distance```).** Det vil i praksis si at funksjonen skal liste opp registreringsnummer til alle **biler som har brukt for kort tid mellom fotoboksene**.\n",
    "\n",
    "Eksempel på kall av funksjonen ```list_speeders``` med tabellene som beskrevet i introduksjonen, med fartsgrense 60km/t og distanse på 10km:\n",
    "\n",
    "```\n",
    ">>> speeders = list_speeders('box_a','box_b',60,10) \n",
    ">>> print(speeders)\n",
    "['UT29891', 'EL73840', 'LE68228']\n",
    "```\n"
   ]
  },
  {
   "cell_type": "code",
   "execution_count": null,
   "metadata": {},
   "outputs": [],
   "source": [
    "# Din kode her\n",
    "\n",
    "def list_speeders(A,B,speed_limit,distance):\n",
    "    time_limit = (distance/speed_limit)*3600\n",
    "    speeders = []\n",
    "    for car_a in A:\n",
    "        for car_b in B:\n",
    "            if car_a[6]==car_b[6]: # Same numberplate\n",
    "                sec = time_diff(car_a[:6],car_b[:6])\n",
    "                if sec<time_limit:\n",
    "                    speeders.append(car_a[6])\n",
    "    return speeders"
   ]
  }
 ],
 "metadata": {
  "interpreter": {
   "hash": "30a40fffe9e963ebf4c6a8f4913e3e8b6196550a8f0552b6fccc3f80f4cd5f06"
  },
  "kernelspec": {
   "display_name": "Python 3.9.6 64-bit ('3.9.6': pyenv)",
   "name": "python3"
  },
  "language_info": {
   "codemirror_mode": {
    "name": "ipython",
    "version": 3
   },
   "file_extension": ".py",
   "mimetype": "text/x-python",
   "name": "python",
   "nbconvert_exporter": "python",
   "pygments_lexer": "ipython3",
   "version": "3.9.6"
  },
  "orig_nbformat": 4
 },
 "nbformat": 4,
 "nbformat_minor": 2
}
