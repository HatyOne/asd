{
 "cells": [
  {
   "cell_type": "markdown",
   "source": [
    "# Repetisjonsforelesning 1\r\n",
    "\r\n",
    "## Oppgave 1\r\n",
    "\r\n",
    "Lag en funksjon som returnerer kvadratroten av et tilfeldig tall mellom en og ti. \r\n",
    "Hint: \r\n",
    "* import math, random\r\n",
    "* math.sqrt\r\n",
    "* random.randint"
   ],
   "metadata": {}
  },
  {
   "cell_type": "code",
   "execution_count": null,
   "source": [
    "#skriv kode her"
   ],
   "outputs": [],
   "metadata": {}
  },
  {
   "cell_type": "markdown",
   "source": [
    "## Oppgave 2\n",
    "\n",
    "Lag en funksjon som tar inn et ord som parameter og returnerer True eller False avhengig om ordet starter med en vokal.\n",
    "\n",
    "__Hint:__\n",
    "```python\n",
    "ord = “Hello world!”\n",
    "første_bokstav = ord[0]\n",
    "```"
   ],
   "metadata": {}
  },
  {
   "cell_type": "code",
   "execution_count": null,
   "source": [
    "#skriv kode her"
   ],
   "outputs": [],
   "metadata": {}
  },
  {
   "cell_type": "markdown",
   "source": [
    "## Oppgave 3\n",
    "\n",
    "Lag en funksjon ```sec_to_time``` som har en input-parameter ```s``` som er antall sekunder angitt som et heltall og som skal regne om dette til formatet t:m:s. Resultatet skal returneres som en tekststreng.\n",
    " \n",
    "Her står t for time, m for minutt og s for sekunder. \n",
    "\n",
    "Hvis tiden er mindre enn 1 time skal den returnere 'm:s'. Ellers skal den returnere 't:m:s'.\n",
    "\n",
    "**Eks. på riktig output:** '0:45','2:23', '12:04','1:02:09' etc.\n",
    "\n",
    "*Legg merke til at hvis antall sekunder (og minutter hvis det er over en time) er mindre enn 10 skal det det skrives en 0 først.*\n",
    "\n"
   ],
   "metadata": {}
  },
  {
   "cell_type": "code",
   "execution_count": null,
   "source": [
    "#skriv kode her"
   ],
   "outputs": [],
   "metadata": {}
  },
  {
   "cell_type": "markdown",
   "source": [
    "## Oppgave 4\r\n",
    "\r\n",
    "Lag en funksjon er_primtall som sjekker om et tall er et primtall ved å sjekke alle tall fra 2 opp til takfunksjonen av kvadratroten til x. \r\n",
    "\r\n",
    "Hint:\r\n",
    "* Bruk oppgaven fra forrige OF\r\n",
    "* math.ceil\r\n",
    "* math.sqrt"
   ],
   "metadata": {}
  },
  {
   "cell_type": "code",
   "execution_count": null,
   "source": [
    "#skriv kode her"
   ],
   "outputs": [],
   "metadata": {}
  },
  {
   "cell_type": "markdown",
   "source": [
    "## Oppgave 5\r\n",
    "\r\n",
    "La oss prøve å kombinere det vi har lært. \r\n",
    "* Lag en funksjon main() som spør brukeren om å gi inn et tall.\r\n",
    "* Dersom brukeren ikke gir inn et tall skal programmet fortsette og spørre om et tall. \r\n",
    "* Dersom brukeren gir inn et tall skal programmet sjekke om tallet er et primtall, og printe ut en passende melding om det er det. \r\n",
    "* Dersom det ikke er et primtall, skal programmet sjekke om det er et partall og printe ut en passende melding om det er det. \r\n",
    "* Dersom det ikke er et partall skal programmet til slutt printe ut kvadratroten av et tilfeldig tall mellom en og ti.\r\n",
    "* Hint: bruk funksjonene vi har laget"
   ],
   "metadata": {}
  },
  {
   "cell_type": "code",
   "execution_count": null,
   "source": [
    "#skriv kode her"
   ],
   "outputs": [],
   "metadata": {}
  }
 ],
 "metadata": {
  "orig_nbformat": 4,
  "language_info": {
   "name": "python",
   "version": "3.9.6",
   "mimetype": "text/x-python",
   "codemirror_mode": {
    "name": "ipython",
    "version": 3
   },
   "pygments_lexer": "ipython3",
   "nbconvert_exporter": "python",
   "file_extension": ".py"
  },
  "kernelspec": {
   "name": "python3",
   "display_name": "Python 3.9.6 64-bit ('3.9.6': pyenv)"
  },
  "interpreter": {
   "hash": "d94fa6a33bbb54adf5e3ca8d28eb28d067b72adf7b4ab325cec1486e2af9ed72"
  }
 },
 "nbformat": 4,
 "nbformat_minor": 2
}